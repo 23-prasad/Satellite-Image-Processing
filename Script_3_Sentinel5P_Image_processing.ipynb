{
  "nbformat": 4,
  "nbformat_minor": 0,
  "metadata": {
    "colab": {
      "name": "Script 3: Sentinel5P Image processing.ipynb",
      "provenance": [],
      "collapsed_sections": [
        "M8Vuz-MUaNbk"
      ]
    },
    "kernelspec": {
      "name": "python3",
      "display_name": "Python 3"
    },
    "widgets": {
      "application/vnd.jupyter.widget-state+json": {
        "573d3cb7cce44e20b091d64396107791": {
          "model_module": "@jupyter-widgets/controls",
          "model_name": "HBoxModel",
          "model_module_version": "1.5.0",
          "state": {
            "_dom_classes": [],
            "_model_module": "@jupyter-widgets/controls",
            "_model_module_version": "1.5.0",
            "_model_name": "HBoxModel",
            "_view_count": null,
            "_view_module": "@jupyter-widgets/controls",
            "_view_module_version": "1.5.0",
            "_view_name": "HBoxView",
            "box_style": "",
            "children": [
              "IPY_MODEL_7b31a50d145f4cfe989ed2f559136333",
              "IPY_MODEL_3d04529103a240f38378926f95f2c11a",
              "IPY_MODEL_1a8244f1e5ac4121913533a842c181dd"
            ],
            "layout": "IPY_MODEL_44f4a64c70d641888adc7852f411af74"
          }
        },
        "7b31a50d145f4cfe989ed2f559136333": {
          "model_module": "@jupyter-widgets/controls",
          "model_name": "HTMLModel",
          "model_module_version": "1.5.0",
          "state": {
            "_dom_classes": [],
            "_model_module": "@jupyter-widgets/controls",
            "_model_module_version": "1.5.0",
            "_model_name": "HTMLModel",
            "_view_count": null,
            "_view_module": "@jupyter-widgets/controls",
            "_view_module_version": "1.5.0",
            "_view_name": "HTMLView",
            "description": "",
            "description_tooltip": null,
            "layout": "IPY_MODEL_b232fbcb06984b59a0bdfa36ed8286ac",
            "placeholder": "​",
            "style": "IPY_MODEL_0c55f130b46e41c6b399d695d1a9cebf",
            "value": "Querying products: 100%"
          }
        },
        "3d04529103a240f38378926f95f2c11a": {
          "model_module": "@jupyter-widgets/controls",
          "model_name": "FloatProgressModel",
          "model_module_version": "1.5.0",
          "state": {
            "_dom_classes": [],
            "_model_module": "@jupyter-widgets/controls",
            "_model_module_version": "1.5.0",
            "_model_name": "FloatProgressModel",
            "_view_count": null,
            "_view_module": "@jupyter-widgets/controls",
            "_view_module_version": "1.5.0",
            "_view_name": "ProgressView",
            "bar_style": "success",
            "description": "",
            "description_tooltip": null,
            "layout": "IPY_MODEL_46f7bf8b0bcd493f9e2f3a66713ec54c",
            "max": 108,
            "min": 0,
            "orientation": "horizontal",
            "style": "IPY_MODEL_097bb8ddbbdc477492b2c22633eb4281",
            "value": 108
          }
        },
        "1a8244f1e5ac4121913533a842c181dd": {
          "model_module": "@jupyter-widgets/controls",
          "model_name": "HTMLModel",
          "model_module_version": "1.5.0",
          "state": {
            "_dom_classes": [],
            "_model_module": "@jupyter-widgets/controls",
            "_model_module_version": "1.5.0",
            "_model_name": "HTMLModel",
            "_view_count": null,
            "_view_module": "@jupyter-widgets/controls",
            "_view_module_version": "1.5.0",
            "_view_name": "HTMLView",
            "description": "",
            "description_tooltip": null,
            "layout": "IPY_MODEL_2814be77598349ec97b808f499e9b004",
            "placeholder": "​",
            "style": "IPY_MODEL_37c076011b4149b6988f11dc1ee696df",
            "value": " 108/108 [00:00&lt;00:00, 24.45product/s]"
          }
        },
        "44f4a64c70d641888adc7852f411af74": {
          "model_module": "@jupyter-widgets/base",
          "model_name": "LayoutModel",
          "model_module_version": "1.2.0",
          "state": {
            "_model_module": "@jupyter-widgets/base",
            "_model_module_version": "1.2.0",
            "_model_name": "LayoutModel",
            "_view_count": null,
            "_view_module": "@jupyter-widgets/base",
            "_view_module_version": "1.2.0",
            "_view_name": "LayoutView",
            "align_content": null,
            "align_items": null,
            "align_self": null,
            "border": null,
            "bottom": null,
            "display": null,
            "flex": null,
            "flex_flow": null,
            "grid_area": null,
            "grid_auto_columns": null,
            "grid_auto_flow": null,
            "grid_auto_rows": null,
            "grid_column": null,
            "grid_gap": null,
            "grid_row": null,
            "grid_template_areas": null,
            "grid_template_columns": null,
            "grid_template_rows": null,
            "height": null,
            "justify_content": null,
            "justify_items": null,
            "left": null,
            "margin": null,
            "max_height": null,
            "max_width": null,
            "min_height": null,
            "min_width": null,
            "object_fit": null,
            "object_position": null,
            "order": null,
            "overflow": null,
            "overflow_x": null,
            "overflow_y": null,
            "padding": null,
            "right": null,
            "top": null,
            "visibility": null,
            "width": null
          }
        },
        "b232fbcb06984b59a0bdfa36ed8286ac": {
          "model_module": "@jupyter-widgets/base",
          "model_name": "LayoutModel",
          "model_module_version": "1.2.0",
          "state": {
            "_model_module": "@jupyter-widgets/base",
            "_model_module_version": "1.2.0",
            "_model_name": "LayoutModel",
            "_view_count": null,
            "_view_module": "@jupyter-widgets/base",
            "_view_module_version": "1.2.0",
            "_view_name": "LayoutView",
            "align_content": null,
            "align_items": null,
            "align_self": null,
            "border": null,
            "bottom": null,
            "display": null,
            "flex": null,
            "flex_flow": null,
            "grid_area": null,
            "grid_auto_columns": null,
            "grid_auto_flow": null,
            "grid_auto_rows": null,
            "grid_column": null,
            "grid_gap": null,
            "grid_row": null,
            "grid_template_areas": null,
            "grid_template_columns": null,
            "grid_template_rows": null,
            "height": null,
            "justify_content": null,
            "justify_items": null,
            "left": null,
            "margin": null,
            "max_height": null,
            "max_width": null,
            "min_height": null,
            "min_width": null,
            "object_fit": null,
            "object_position": null,
            "order": null,
            "overflow": null,
            "overflow_x": null,
            "overflow_y": null,
            "padding": null,
            "right": null,
            "top": null,
            "visibility": null,
            "width": null
          }
        },
        "0c55f130b46e41c6b399d695d1a9cebf": {
          "model_module": "@jupyter-widgets/controls",
          "model_name": "DescriptionStyleModel",
          "model_module_version": "1.5.0",
          "state": {
            "_model_module": "@jupyter-widgets/controls",
            "_model_module_version": "1.5.0",
            "_model_name": "DescriptionStyleModel",
            "_view_count": null,
            "_view_module": "@jupyter-widgets/base",
            "_view_module_version": "1.2.0",
            "_view_name": "StyleView",
            "description_width": ""
          }
        },
        "46f7bf8b0bcd493f9e2f3a66713ec54c": {
          "model_module": "@jupyter-widgets/base",
          "model_name": "LayoutModel",
          "model_module_version": "1.2.0",
          "state": {
            "_model_module": "@jupyter-widgets/base",
            "_model_module_version": "1.2.0",
            "_model_name": "LayoutModel",
            "_view_count": null,
            "_view_module": "@jupyter-widgets/base",
            "_view_module_version": "1.2.0",
            "_view_name": "LayoutView",
            "align_content": null,
            "align_items": null,
            "align_self": null,
            "border": null,
            "bottom": null,
            "display": null,
            "flex": null,
            "flex_flow": null,
            "grid_area": null,
            "grid_auto_columns": null,
            "grid_auto_flow": null,
            "grid_auto_rows": null,
            "grid_column": null,
            "grid_gap": null,
            "grid_row": null,
            "grid_template_areas": null,
            "grid_template_columns": null,
            "grid_template_rows": null,
            "height": null,
            "justify_content": null,
            "justify_items": null,
            "left": null,
            "margin": null,
            "max_height": null,
            "max_width": null,
            "min_height": null,
            "min_width": null,
            "object_fit": null,
            "object_position": null,
            "order": null,
            "overflow": null,
            "overflow_x": null,
            "overflow_y": null,
            "padding": null,
            "right": null,
            "top": null,
            "visibility": null,
            "width": null
          }
        },
        "097bb8ddbbdc477492b2c22633eb4281": {
          "model_module": "@jupyter-widgets/controls",
          "model_name": "ProgressStyleModel",
          "model_module_version": "1.5.0",
          "state": {
            "_model_module": "@jupyter-widgets/controls",
            "_model_module_version": "1.5.0",
            "_model_name": "ProgressStyleModel",
            "_view_count": null,
            "_view_module": "@jupyter-widgets/base",
            "_view_module_version": "1.2.0",
            "_view_name": "StyleView",
            "bar_color": null,
            "description_width": ""
          }
        },
        "2814be77598349ec97b808f499e9b004": {
          "model_module": "@jupyter-widgets/base",
          "model_name": "LayoutModel",
          "model_module_version": "1.2.0",
          "state": {
            "_model_module": "@jupyter-widgets/base",
            "_model_module_version": "1.2.0",
            "_model_name": "LayoutModel",
            "_view_count": null,
            "_view_module": "@jupyter-widgets/base",
            "_view_module_version": "1.2.0",
            "_view_name": "LayoutView",
            "align_content": null,
            "align_items": null,
            "align_self": null,
            "border": null,
            "bottom": null,
            "display": null,
            "flex": null,
            "flex_flow": null,
            "grid_area": null,
            "grid_auto_columns": null,
            "grid_auto_flow": null,
            "grid_auto_rows": null,
            "grid_column": null,
            "grid_gap": null,
            "grid_row": null,
            "grid_template_areas": null,
            "grid_template_columns": null,
            "grid_template_rows": null,
            "height": null,
            "justify_content": null,
            "justify_items": null,
            "left": null,
            "margin": null,
            "max_height": null,
            "max_width": null,
            "min_height": null,
            "min_width": null,
            "object_fit": null,
            "object_position": null,
            "order": null,
            "overflow": null,
            "overflow_x": null,
            "overflow_y": null,
            "padding": null,
            "right": null,
            "top": null,
            "visibility": null,
            "width": null
          }
        },
        "37c076011b4149b6988f11dc1ee696df": {
          "model_module": "@jupyter-widgets/controls",
          "model_name": "DescriptionStyleModel",
          "model_module_version": "1.5.0",
          "state": {
            "_model_module": "@jupyter-widgets/controls",
            "_model_module_version": "1.5.0",
            "_model_name": "DescriptionStyleModel",
            "_view_count": null,
            "_view_module": "@jupyter-widgets/base",
            "_view_module_version": "1.2.0",
            "_view_name": "StyleView",
            "description_width": ""
          }
        },
        "3e4966db9a394d128ce1d8f9b391a776": {
          "model_module": "@jupyter-widgets/controls",
          "model_name": "HBoxModel",
          "model_module_version": "1.5.0",
          "state": {
            "_dom_classes": [],
            "_model_module": "@jupyter-widgets/controls",
            "_model_module_version": "1.5.0",
            "_model_name": "HBoxModel",
            "_view_count": null,
            "_view_module": "@jupyter-widgets/controls",
            "_view_module_version": "1.5.0",
            "_view_name": "HBoxView",
            "box_style": "",
            "children": [
              "IPY_MODEL_a9252ae9589d408599b0c1fe3c1b8da8",
              "IPY_MODEL_332e6334f1de45ecbf1dc2e2f7fda70f",
              "IPY_MODEL_c7f50d5e625140a794dbf0992a0a77e5"
            ],
            "layout": "IPY_MODEL_6446c627dd584f17bfd987086eb11932"
          }
        },
        "a9252ae9589d408599b0c1fe3c1b8da8": {
          "model_module": "@jupyter-widgets/controls",
          "model_name": "HTMLModel",
          "model_module_version": "1.5.0",
          "state": {
            "_dom_classes": [],
            "_model_module": "@jupyter-widgets/controls",
            "_model_module_version": "1.5.0",
            "_model_name": "HTMLModel",
            "_view_count": null,
            "_view_module": "@jupyter-widgets/controls",
            "_view_module_version": "1.5.0",
            "_view_name": "HTMLView",
            "description": "",
            "description_tooltip": null,
            "layout": "IPY_MODEL_984d390228d7478f8b2dbfb4a18c9d98",
            "placeholder": "​",
            "style": "IPY_MODEL_fce66aca798e4612b6feb3a5b8a728bb",
            "value": "Querying products: 100%"
          }
        },
        "332e6334f1de45ecbf1dc2e2f7fda70f": {
          "model_module": "@jupyter-widgets/controls",
          "model_name": "FloatProgressModel",
          "model_module_version": "1.5.0",
          "state": {
            "_dom_classes": [],
            "_model_module": "@jupyter-widgets/controls",
            "_model_module_version": "1.5.0",
            "_model_name": "FloatProgressModel",
            "_view_count": null,
            "_view_module": "@jupyter-widgets/controls",
            "_view_module_version": "1.5.0",
            "_view_name": "ProgressView",
            "bar_style": "success",
            "description": "",
            "description_tooltip": null,
            "layout": "IPY_MODEL_85624d159a9b4949bce91faf6af60520",
            "max": 106,
            "min": 0,
            "orientation": "horizontal",
            "style": "IPY_MODEL_8286f06bb77a4e33b89328df66b1a131",
            "value": 106
          }
        },
        "c7f50d5e625140a794dbf0992a0a77e5": {
          "model_module": "@jupyter-widgets/controls",
          "model_name": "HTMLModel",
          "model_module_version": "1.5.0",
          "state": {
            "_dom_classes": [],
            "_model_module": "@jupyter-widgets/controls",
            "_model_module_version": "1.5.0",
            "_model_name": "HTMLModel",
            "_view_count": null,
            "_view_module": "@jupyter-widgets/controls",
            "_view_module_version": "1.5.0",
            "_view_name": "HTMLView",
            "description": "",
            "description_tooltip": null,
            "layout": "IPY_MODEL_951ae7feda424994b0b2f6c4fbad75ca",
            "placeholder": "​",
            "style": "IPY_MODEL_8006528b43b74a12a8d0217794ffac12",
            "value": " 106/106 [00:00&lt;00:00, 11.31product/s]"
          }
        },
        "6446c627dd584f17bfd987086eb11932": {
          "model_module": "@jupyter-widgets/base",
          "model_name": "LayoutModel",
          "model_module_version": "1.2.0",
          "state": {
            "_model_module": "@jupyter-widgets/base",
            "_model_module_version": "1.2.0",
            "_model_name": "LayoutModel",
            "_view_count": null,
            "_view_module": "@jupyter-widgets/base",
            "_view_module_version": "1.2.0",
            "_view_name": "LayoutView",
            "align_content": null,
            "align_items": null,
            "align_self": null,
            "border": null,
            "bottom": null,
            "display": null,
            "flex": null,
            "flex_flow": null,
            "grid_area": null,
            "grid_auto_columns": null,
            "grid_auto_flow": null,
            "grid_auto_rows": null,
            "grid_column": null,
            "grid_gap": null,
            "grid_row": null,
            "grid_template_areas": null,
            "grid_template_columns": null,
            "grid_template_rows": null,
            "height": null,
            "justify_content": null,
            "justify_items": null,
            "left": null,
            "margin": null,
            "max_height": null,
            "max_width": null,
            "min_height": null,
            "min_width": null,
            "object_fit": null,
            "object_position": null,
            "order": null,
            "overflow": null,
            "overflow_x": null,
            "overflow_y": null,
            "padding": null,
            "right": null,
            "top": null,
            "visibility": null,
            "width": null
          }
        },
        "984d390228d7478f8b2dbfb4a18c9d98": {
          "model_module": "@jupyter-widgets/base",
          "model_name": "LayoutModel",
          "model_module_version": "1.2.0",
          "state": {
            "_model_module": "@jupyter-widgets/base",
            "_model_module_version": "1.2.0",
            "_model_name": "LayoutModel",
            "_view_count": null,
            "_view_module": "@jupyter-widgets/base",
            "_view_module_version": "1.2.0",
            "_view_name": "LayoutView",
            "align_content": null,
            "align_items": null,
            "align_self": null,
            "border": null,
            "bottom": null,
            "display": null,
            "flex": null,
            "flex_flow": null,
            "grid_area": null,
            "grid_auto_columns": null,
            "grid_auto_flow": null,
            "grid_auto_rows": null,
            "grid_column": null,
            "grid_gap": null,
            "grid_row": null,
            "grid_template_areas": null,
            "grid_template_columns": null,
            "grid_template_rows": null,
            "height": null,
            "justify_content": null,
            "justify_items": null,
            "left": null,
            "margin": null,
            "max_height": null,
            "max_width": null,
            "min_height": null,
            "min_width": null,
            "object_fit": null,
            "object_position": null,
            "order": null,
            "overflow": null,
            "overflow_x": null,
            "overflow_y": null,
            "padding": null,
            "right": null,
            "top": null,
            "visibility": null,
            "width": null
          }
        },
        "fce66aca798e4612b6feb3a5b8a728bb": {
          "model_module": "@jupyter-widgets/controls",
          "model_name": "DescriptionStyleModel",
          "model_module_version": "1.5.0",
          "state": {
            "_model_module": "@jupyter-widgets/controls",
            "_model_module_version": "1.5.0",
            "_model_name": "DescriptionStyleModel",
            "_view_count": null,
            "_view_module": "@jupyter-widgets/base",
            "_view_module_version": "1.2.0",
            "_view_name": "StyleView",
            "description_width": ""
          }
        },
        "85624d159a9b4949bce91faf6af60520": {
          "model_module": "@jupyter-widgets/base",
          "model_name": "LayoutModel",
          "model_module_version": "1.2.0",
          "state": {
            "_model_module": "@jupyter-widgets/base",
            "_model_module_version": "1.2.0",
            "_model_name": "LayoutModel",
            "_view_count": null,
            "_view_module": "@jupyter-widgets/base",
            "_view_module_version": "1.2.0",
            "_view_name": "LayoutView",
            "align_content": null,
            "align_items": null,
            "align_self": null,
            "border": null,
            "bottom": null,
            "display": null,
            "flex": null,
            "flex_flow": null,
            "grid_area": null,
            "grid_auto_columns": null,
            "grid_auto_flow": null,
            "grid_auto_rows": null,
            "grid_column": null,
            "grid_gap": null,
            "grid_row": null,
            "grid_template_areas": null,
            "grid_template_columns": null,
            "grid_template_rows": null,
            "height": null,
            "justify_content": null,
            "justify_items": null,
            "left": null,
            "margin": null,
            "max_height": null,
            "max_width": null,
            "min_height": null,
            "min_width": null,
            "object_fit": null,
            "object_position": null,
            "order": null,
            "overflow": null,
            "overflow_x": null,
            "overflow_y": null,
            "padding": null,
            "right": null,
            "top": null,
            "visibility": null,
            "width": null
          }
        },
        "8286f06bb77a4e33b89328df66b1a131": {
          "model_module": "@jupyter-widgets/controls",
          "model_name": "ProgressStyleModel",
          "model_module_version": "1.5.0",
          "state": {
            "_model_module": "@jupyter-widgets/controls",
            "_model_module_version": "1.5.0",
            "_model_name": "ProgressStyleModel",
            "_view_count": null,
            "_view_module": "@jupyter-widgets/base",
            "_view_module_version": "1.2.0",
            "_view_name": "StyleView",
            "bar_color": null,
            "description_width": ""
          }
        },
        "951ae7feda424994b0b2f6c4fbad75ca": {
          "model_module": "@jupyter-widgets/base",
          "model_name": "LayoutModel",
          "model_module_version": "1.2.0",
          "state": {
            "_model_module": "@jupyter-widgets/base",
            "_model_module_version": "1.2.0",
            "_model_name": "LayoutModel",
            "_view_count": null,
            "_view_module": "@jupyter-widgets/base",
            "_view_module_version": "1.2.0",
            "_view_name": "LayoutView",
            "align_content": null,
            "align_items": null,
            "align_self": null,
            "border": null,
            "bottom": null,
            "display": null,
            "flex": null,
            "flex_flow": null,
            "grid_area": null,
            "grid_auto_columns": null,
            "grid_auto_flow": null,
            "grid_auto_rows": null,
            "grid_column": null,
            "grid_gap": null,
            "grid_row": null,
            "grid_template_areas": null,
            "grid_template_columns": null,
            "grid_template_rows": null,
            "height": null,
            "justify_content": null,
            "justify_items": null,
            "left": null,
            "margin": null,
            "max_height": null,
            "max_width": null,
            "min_height": null,
            "min_width": null,
            "object_fit": null,
            "object_position": null,
            "order": null,
            "overflow": null,
            "overflow_x": null,
            "overflow_y": null,
            "padding": null,
            "right": null,
            "top": null,
            "visibility": null,
            "width": null
          }
        },
        "8006528b43b74a12a8d0217794ffac12": {
          "model_module": "@jupyter-widgets/controls",
          "model_name": "DescriptionStyleModel",
          "model_module_version": "1.5.0",
          "state": {
            "_model_module": "@jupyter-widgets/controls",
            "_model_module_version": "1.5.0",
            "_model_name": "DescriptionStyleModel",
            "_view_count": null,
            "_view_module": "@jupyter-widgets/base",
            "_view_module_version": "1.2.0",
            "_view_name": "StyleView",
            "description_width": ""
          }
        }
      }
    }
  },
  "cells": [
    {
      "cell_type": "markdown",
      "source": [
        "## Script 3: Sentinel-5P Image processing\n",
        "\n",
        "*—Created by Pallavi Prasad for Mindseed Ltd. (last modified in August 2020)—*"
      ],
      "metadata": {
        "id": "Nvk_99LtrG-w"
      }
    },
    {
      "cell_type": "markdown",
      "source": [
        "**Access the Data**"
      ],
      "metadata": {
        "id": "eYzoxlLlraJD"
      }
    },
    {
      "cell_type": "code",
      "metadata": {
        "id": "AOMsco6Tnw43",
        "outputId": "36aaf64f-dcd2-418c-f04c-6a863d4d7b95",
        "colab": {
          "base_uri": "https://localhost:8080/",
          "height": 1000
        }
      },
      "source": [
        "#Install all the dependent libraries as required for eo-learn\n",
        "!pip install sentinelhub\n",
        "!pip install rasterio\n",
        "!pip install folium\n",
        "!apt install gdal-bin python-gdal python3-gdal \n",
        "!apt install python3-rtree \n",
        "# !pip install git+git://github.com/geopandas/geopandas.git\n",
        "!pip install descartes \n",
        "!pip install osmnx==0.14.1\n",
        "!apt install python-cartopy python3-cartopy --quiet"
      ],
      "execution_count": 1,
      "outputs": [
        {
          "output_type": "stream",
          "name": "stdout",
          "text": [
            "Looking in indexes: https://pypi.org/simple, https://us-python.pkg.dev/colab-wheels/public/simple/\n",
            "Collecting sentinelhub\n",
            "  Downloading sentinelhub-3.7.0.tar.gz (216 kB)\n",
            "\u001b[K     |████████████████████████████████| 216 kB 7.2 MB/s \n",
            "\u001b[?25h  Installing build dependencies ... \u001b[?25l\u001b[?25hdone\n",
            "  Getting requirements to build wheel ... \u001b[?25l\u001b[?25hdone\n",
            "    Preparing wheel metadata ... \u001b[?25l\u001b[?25hdone\n",
            "Requirement already satisfied: requests-oauthlib>=1.0.0 in /usr/local/lib/python3.7/dist-packages (from sentinelhub) (1.3.1)\n",
            "Requirement already satisfied: typing-extensions in /usr/local/lib/python3.7/dist-packages (from sentinelhub) (4.1.1)\n",
            "Requirement already satisfied: click in /usr/local/lib/python3.7/dist-packages (from sentinelhub) (7.1.2)\n",
            "Collecting pyproj>=2.2.0\n",
            "  Downloading pyproj-3.2.1-cp37-cp37m-manylinux2010_x86_64.whl (6.3 MB)\n",
            "\u001b[K     |████████████████████████████████| 6.3 MB 40.4 MB/s \n",
            "\u001b[?25hCollecting dataclasses-json\n",
            "  Downloading dataclasses_json-0.5.7-py3-none-any.whl (25 kB)\n",
            "Collecting shared-memory38\n",
            "  Downloading shared_memory38-0.1.2-cp37-cp37m-manylinux_2_5_x86_64.manylinux1_x86_64.whl (25 kB)\n",
            "Requirement already satisfied: python-dateutil in /usr/local/lib/python3.7/dist-packages (from sentinelhub) (2.8.2)\n",
            "Collecting aenum>=2.1.4\n",
            "  Downloading aenum-3.1.11-py3-none-any.whl (131 kB)\n",
            "\u001b[K     |████████████████████████████████| 131 kB 49.8 MB/s \n",
            "\u001b[?25hRequirement already satisfied: tqdm in /usr/local/lib/python3.7/dist-packages (from sentinelhub) (4.64.0)\n",
            "Requirement already satisfied: tifffile>=2020.9.30 in /usr/local/lib/python3.7/dist-packages (from sentinelhub) (2021.11.2)\n",
            "Requirement already satisfied: oauthlib in /usr/local/lib/python3.7/dist-packages (from sentinelhub) (3.2.0)\n",
            "Collecting pillow>=9.2.0\n",
            "  Downloading Pillow-9.2.0-cp37-cp37m-manylinux_2_17_x86_64.manylinux2014_x86_64.whl (3.1 MB)\n",
            "\u001b[K     |████████████████████████████████| 3.1 MB 21.5 MB/s \n",
            "\u001b[?25hCollecting requests>=2.27.0\n",
            "  Downloading requests-2.28.1-py3-none-any.whl (62 kB)\n",
            "\u001b[K     |████████████████████████████████| 62 kB 1.4 MB/s \n",
            "\u001b[?25hRequirement already satisfied: shapely in /usr/local/lib/python3.7/dist-packages (from sentinelhub) (1.8.4)\n",
            "Collecting utm\n",
            "  Downloading utm-0.7.0.tar.gz (8.7 kB)\n",
            "Requirement already satisfied: numpy in /usr/local/lib/python3.7/dist-packages (from sentinelhub) (1.21.6)\n",
            "Requirement already satisfied: certifi in /usr/local/lib/python3.7/dist-packages (from pyproj>=2.2.0->sentinelhub) (2022.6.15)\n",
            "Requirement already satisfied: urllib3<1.27,>=1.21.1 in /usr/local/lib/python3.7/dist-packages (from requests>=2.27.0->sentinelhub) (1.24.3)\n",
            "Requirement already satisfied: idna<4,>=2.5 in /usr/local/lib/python3.7/dist-packages (from requests>=2.27.0->sentinelhub) (2.10)\n",
            "Requirement already satisfied: charset-normalizer<3,>=2 in /usr/local/lib/python3.7/dist-packages (from requests>=2.27.0->sentinelhub) (2.1.0)\n",
            "Collecting typing-inspect>=0.4.0\n",
            "  Downloading typing_inspect-0.8.0-py3-none-any.whl (8.7 kB)\n",
            "Requirement already satisfied: marshmallow<4.0.0,>=3.3.0 in /usr/local/lib/python3.7/dist-packages (from dataclasses-json->sentinelhub) (3.17.0)\n",
            "Collecting marshmallow-enum<2.0.0,>=1.5.1\n",
            "  Downloading marshmallow_enum-1.5.1-py2.py3-none-any.whl (4.2 kB)\n",
            "Requirement already satisfied: packaging>=17.0 in /usr/local/lib/python3.7/dist-packages (from marshmallow<4.0.0,>=3.3.0->dataclasses-json->sentinelhub) (21.3)\n",
            "Requirement already satisfied: pyparsing!=3.0.5,>=2.0.2 in /usr/local/lib/python3.7/dist-packages (from packaging>=17.0->marshmallow<4.0.0,>=3.3.0->dataclasses-json->sentinelhub) (3.0.9)\n",
            "Collecting mypy-extensions>=0.3.0\n",
            "  Downloading mypy_extensions-0.4.3-py2.py3-none-any.whl (4.5 kB)\n",
            "Requirement already satisfied: six>=1.5 in /usr/local/lib/python3.7/dist-packages (from python-dateutil->sentinelhub) (1.15.0)\n",
            "Building wheels for collected packages: sentinelhub, utm\n",
            "  Building wheel for sentinelhub (PEP 517) ... \u001b[?25l\u001b[?25hdone\n",
            "  Created wheel for sentinelhub: filename=sentinelhub-3.7.0-py3-none-any.whl size=239662 sha256=e8964698e7fa9df38b13bb6c2422a05bd43cb1dec4121cfc23cc59f4f057a977\n",
            "  Stored in directory: /root/.cache/pip/wheels/52/5f/12/30f40568e771761a4eaec38c73891fd7039d7e5d0194e7ec99\n",
            "  Building wheel for utm (setup.py) ... \u001b[?25l\u001b[?25hdone\n",
            "  Created wheel for utm: filename=utm-0.7.0-py3-none-any.whl size=6108 sha256=7c1ee357d09ea92b1ee1140775bbd61b8fb0de3456d27a69b42fbb5183a844a0\n",
            "  Stored in directory: /root/.cache/pip/wheels/a5/b0/12/7ee4fdb0f9fbb4157100bd02390436ed5d58ebfd3c6d6a0886\n",
            "Successfully built sentinelhub utm\n",
            "Installing collected packages: mypy-extensions, typing-inspect, requests, marshmallow-enum, utm, shared-memory38, pyproj, pillow, dataclasses-json, aenum, sentinelhub\n",
            "  Attempting uninstall: requests\n",
            "    Found existing installation: requests 2.23.0\n",
            "    Uninstalling requests-2.23.0:\n",
            "      Successfully uninstalled requests-2.23.0\n",
            "  Attempting uninstall: pillow\n",
            "    Found existing installation: Pillow 7.1.2\n",
            "    Uninstalling Pillow-7.1.2:\n",
            "      Successfully uninstalled Pillow-7.1.2\n",
            "Successfully installed aenum-3.1.11 dataclasses-json-0.5.7 marshmallow-enum-1.5.1 mypy-extensions-0.4.3 pillow-9.2.0 pyproj-3.2.1 requests-2.28.1 sentinelhub-3.7.0 shared-memory38-0.1.2 typing-inspect-0.8.0 utm-0.7.0\n"
          ]
        },
        {
          "output_type": "display_data",
          "data": {
            "application/vnd.colab-display-data+json": {
              "pip_warning": {
                "packages": [
                  "PIL"
                ]
              }
            }
          },
          "metadata": {}
        },
        {
          "output_type": "stream",
          "name": "stdout",
          "text": [
            "Looking in indexes: https://pypi.org/simple, https://us-python.pkg.dev/colab-wheels/public/simple/\n",
            "Collecting rasterio\n",
            "  Downloading rasterio-1.2.10-cp37-cp37m-manylinux1_x86_64.whl (19.3 MB)\n",
            "\u001b[K     |████████████████████████████████| 19.3 MB 6.5 MB/s \n",
            "\u001b[?25hRequirement already satisfied: certifi in /usr/local/lib/python3.7/dist-packages (from rasterio) (2022.6.15)\n",
            "Collecting snuggs>=1.4.1\n",
            "  Downloading snuggs-1.4.7-py3-none-any.whl (5.4 kB)\n",
            "Requirement already satisfied: setuptools in /usr/local/lib/python3.7/dist-packages (from rasterio) (57.4.0)\n",
            "Requirement already satisfied: attrs in /usr/local/lib/python3.7/dist-packages (from rasterio) (22.1.0)\n",
            "Requirement already satisfied: numpy in /usr/local/lib/python3.7/dist-packages (from rasterio) (1.21.6)\n",
            "Collecting affine\n",
            "  Downloading affine-2.3.1-py2.py3-none-any.whl (16 kB)\n",
            "Collecting click-plugins\n",
            "  Downloading click_plugins-1.1.1-py2.py3-none-any.whl (7.5 kB)\n",
            "Collecting cligj>=0.5\n",
            "  Downloading cligj-0.7.2-py3-none-any.whl (7.1 kB)\n",
            "Requirement already satisfied: click>=4.0 in /usr/local/lib/python3.7/dist-packages (from rasterio) (7.1.2)\n",
            "Requirement already satisfied: pyparsing>=2.1.6 in /usr/local/lib/python3.7/dist-packages (from snuggs>=1.4.1->rasterio) (3.0.9)\n",
            "Installing collected packages: snuggs, cligj, click-plugins, affine, rasterio\n",
            "Successfully installed affine-2.3.1 click-plugins-1.1.1 cligj-0.7.2 rasterio-1.2.10 snuggs-1.4.7\n",
            "Looking in indexes: https://pypi.org/simple, https://us-python.pkg.dev/colab-wheels/public/simple/\n",
            "Requirement already satisfied: folium in /usr/local/lib/python3.7/dist-packages (0.12.1.post1)\n",
            "Requirement already satisfied: branca>=0.3.0 in /usr/local/lib/python3.7/dist-packages (from folium) (0.5.0)\n",
            "Requirement already satisfied: requests in /usr/local/lib/python3.7/dist-packages (from folium) (2.28.1)\n",
            "Requirement already satisfied: numpy in /usr/local/lib/python3.7/dist-packages (from folium) (1.21.6)\n",
            "Requirement already satisfied: jinja2>=2.9 in /usr/local/lib/python3.7/dist-packages (from folium) (2.11.3)\n",
            "Requirement already satisfied: MarkupSafe>=0.23 in /usr/local/lib/python3.7/dist-packages (from jinja2>=2.9->folium) (2.0.1)\n",
            "Requirement already satisfied: urllib3<1.27,>=1.21.1 in /usr/local/lib/python3.7/dist-packages (from requests->folium) (1.24.3)\n",
            "Requirement already satisfied: idna<4,>=2.5 in /usr/local/lib/python3.7/dist-packages (from requests->folium) (2.10)\n",
            "Requirement already satisfied: certifi>=2017.4.17 in /usr/local/lib/python3.7/dist-packages (from requests->folium) (2022.6.15)\n",
            "Requirement already satisfied: charset-normalizer<3,>=2 in /usr/local/lib/python3.7/dist-packages (from requests->folium) (2.1.0)\n",
            "Reading package lists... Done\n",
            "Building dependency tree       \n",
            "Reading state information... Done\n",
            "gdal-bin is already the newest version (2.2.3+dfsg-2).\n",
            "python-gdal is already the newest version (2.2.3+dfsg-2).\n",
            "The following package was automatically installed and is no longer required:\n",
            "  libnvidia-common-460\n",
            "Use 'apt autoremove' to remove it.\n",
            "The following additional packages will be installed:\n",
            "  python3-numpy\n",
            "Suggested packages:\n",
            "  python-numpy-doc python3-nose python3-numpy-dbg\n",
            "The following NEW packages will be installed:\n",
            "  python3-gdal python3-numpy\n",
            "0 upgraded, 2 newly installed, 0 to remove and 20 not upgraded.\n",
            "Need to get 2,288 kB of archives.\n",
            "After this operation, 13.2 MB of additional disk space will be used.\n",
            "Get:1 http://archive.ubuntu.com/ubuntu bionic/main amd64 python3-numpy amd64 1:1.13.3-2ubuntu1 [1,943 kB]\n",
            "Get:2 http://archive.ubuntu.com/ubuntu bionic/universe amd64 python3-gdal amd64 2.2.3+dfsg-2 [346 kB]\n",
            "Fetched 2,288 kB in 1s (1,579 kB/s)\n",
            "Selecting previously unselected package python3-numpy.\n",
            "(Reading database ... 155676 files and directories currently installed.)\n",
            "Preparing to unpack .../python3-numpy_1%3a1.13.3-2ubuntu1_amd64.deb ...\n",
            "Unpacking python3-numpy (1:1.13.3-2ubuntu1) ...\n",
            "Selecting previously unselected package python3-gdal.\n",
            "Preparing to unpack .../python3-gdal_2.2.3+dfsg-2_amd64.deb ...\n",
            "Unpacking python3-gdal (2.2.3+dfsg-2) ...\n",
            "Setting up python3-numpy (1:1.13.3-2ubuntu1) ...\n",
            "Setting up python3-gdal (2.2.3+dfsg-2) ...\n",
            "Processing triggers for man-db (2.8.3-2ubuntu0.1) ...\n",
            "Reading package lists... Done\n",
            "Building dependency tree       \n",
            "Reading state information... Done\n",
            "The following package was automatically installed and is no longer required:\n",
            "  libnvidia-common-460\n",
            "Use 'apt autoremove' to remove it.\n",
            "The following additional packages will be installed:\n",
            "  libspatialindex-c4v5 libspatialindex-dev libspatialindex4v5\n",
            "  python3-pkg-resources\n",
            "Suggested packages:\n",
            "  python3-setuptools\n",
            "The following NEW packages will be installed:\n",
            "  libspatialindex-c4v5 libspatialindex-dev libspatialindex4v5\n",
            "  python3-pkg-resources python3-rtree\n",
            "0 upgraded, 5 newly installed, 0 to remove and 20 not upgraded.\n",
            "Need to get 671 kB of archives.\n",
            "After this operation, 3,948 kB of additional disk space will be used.\n",
            "Get:1 http://archive.ubuntu.com/ubuntu bionic/universe amd64 libspatialindex4v5 amd64 1.8.5-5 [219 kB]\n",
            "Get:2 http://archive.ubuntu.com/ubuntu bionic/universe amd64 libspatialindex-c4v5 amd64 1.8.5-5 [51.7 kB]\n",
            "Get:3 http://archive.ubuntu.com/ubuntu bionic/main amd64 python3-pkg-resources all 39.0.1-2 [98.8 kB]\n",
            "Get:4 http://archive.ubuntu.com/ubuntu bionic/universe amd64 libspatialindex-dev amd64 1.8.5-5 [285 kB]\n",
            "Get:5 http://archive.ubuntu.com/ubuntu bionic/universe amd64 python3-rtree all 0.8.3+ds-1 [16.9 kB]\n",
            "Fetched 671 kB in 1s (543 kB/s)\n",
            "Selecting previously unselected package libspatialindex4v5:amd64.\n",
            "(Reading database ... 156086 files and directories currently installed.)\n",
            "Preparing to unpack .../libspatialindex4v5_1.8.5-5_amd64.deb ...\n",
            "Unpacking libspatialindex4v5:amd64 (1.8.5-5) ...\n",
            "Selecting previously unselected package libspatialindex-c4v5:amd64.\n",
            "Preparing to unpack .../libspatialindex-c4v5_1.8.5-5_amd64.deb ...\n",
            "Unpacking libspatialindex-c4v5:amd64 (1.8.5-5) ...\n",
            "Selecting previously unselected package python3-pkg-resources.\n",
            "Preparing to unpack .../python3-pkg-resources_39.0.1-2_all.deb ...\n",
            "Unpacking python3-pkg-resources (39.0.1-2) ...\n",
            "Selecting previously unselected package libspatialindex-dev:amd64.\n",
            "Preparing to unpack .../libspatialindex-dev_1.8.5-5_amd64.deb ...\n",
            "Unpacking libspatialindex-dev:amd64 (1.8.5-5) ...\n",
            "Selecting previously unselected package python3-rtree.\n",
            "Preparing to unpack .../python3-rtree_0.8.3+ds-1_all.deb ...\n",
            "Unpacking python3-rtree (0.8.3+ds-1) ...\n",
            "Setting up libspatialindex4v5:amd64 (1.8.5-5) ...\n",
            "Setting up python3-pkg-resources (39.0.1-2) ...\n",
            "Setting up libspatialindex-c4v5:amd64 (1.8.5-5) ...\n",
            "Setting up libspatialindex-dev:amd64 (1.8.5-5) ...\n",
            "Setting up python3-rtree (0.8.3+ds-1) ...\n",
            "Processing triggers for libc-bin (2.27-3ubuntu1.5) ...\n",
            "Looking in indexes: https://pypi.org/simple, https://us-python.pkg.dev/colab-wheels/public/simple/\n",
            "Requirement already satisfied: descartes in /usr/local/lib/python3.7/dist-packages (1.1.0)\n",
            "Requirement already satisfied: matplotlib in /usr/local/lib/python3.7/dist-packages (from descartes) (3.2.2)\n",
            "Requirement already satisfied: cycler>=0.10 in /usr/local/lib/python3.7/dist-packages (from matplotlib->descartes) (0.11.0)\n",
            "Requirement already satisfied: numpy>=1.11 in /usr/local/lib/python3.7/dist-packages (from matplotlib->descartes) (1.21.6)\n",
            "Requirement already satisfied: python-dateutil>=2.1 in /usr/local/lib/python3.7/dist-packages (from matplotlib->descartes) (2.8.2)\n",
            "Requirement already satisfied: pyparsing!=2.0.4,!=2.1.2,!=2.1.6,>=2.0.1 in /usr/local/lib/python3.7/dist-packages (from matplotlib->descartes) (3.0.9)\n",
            "Requirement already satisfied: kiwisolver>=1.0.1 in /usr/local/lib/python3.7/dist-packages (from matplotlib->descartes) (1.4.4)\n",
            "Requirement already satisfied: typing-extensions in /usr/local/lib/python3.7/dist-packages (from kiwisolver>=1.0.1->matplotlib->descartes) (4.1.1)\n",
            "Requirement already satisfied: six>=1.5 in /usr/local/lib/python3.7/dist-packages (from python-dateutil>=2.1->matplotlib->descartes) (1.15.0)\n",
            "Looking in indexes: https://pypi.org/simple, https://us-python.pkg.dev/colab-wheels/public/simple/\n",
            "Collecting osmnx==0.14.1\n",
            "  Downloading osmnx-0.14.1-py2.py3-none-any.whl (84 kB)\n",
            "\u001b[K     |████████████████████████████████| 84 kB 2.3 MB/s \n",
            "\u001b[?25hCollecting Rtree>=0.9\n",
            "  Downloading Rtree-1.0.0-cp37-cp37m-manylinux_2_17_x86_64.manylinux2014_x86_64.whl (1.0 MB)\n",
            "\u001b[K     |████████████████████████████████| 1.0 MB 20.5 MB/s \n",
            "\u001b[?25hRequirement already satisfied: numpy>=1.18 in /usr/local/lib/python3.7/dist-packages (from osmnx==0.14.1) (1.21.6)\n",
            "Requirement already satisfied: requests>=2.23 in /usr/local/lib/python3.7/dist-packages (from osmnx==0.14.1) (2.28.1)\n",
            "Requirement already satisfied: matplotlib>=3.2 in /usr/local/lib/python3.7/dist-packages (from osmnx==0.14.1) (3.2.2)\n",
            "Requirement already satisfied: descartes>=1.1 in /usr/local/lib/python3.7/dist-packages (from osmnx==0.14.1) (1.1.0)\n",
            "Requirement already satisfied: Shapely>=1.7 in /usr/local/lib/python3.7/dist-packages (from osmnx==0.14.1) (1.8.4)\n",
            "Requirement already satisfied: pandas>=1.0 in /usr/local/lib/python3.7/dist-packages (from osmnx==0.14.1) (1.3.5)\n",
            "Requirement already satisfied: pyproj>=2.6 in /usr/local/lib/python3.7/dist-packages (from osmnx==0.14.1) (3.2.1)\n",
            "Requirement already satisfied: networkx>=2.4 in /usr/local/lib/python3.7/dist-packages (from osmnx==0.14.1) (2.6.3)\n",
            "Collecting geopandas>=0.7\n",
            "  Downloading geopandas-0.10.2-py2.py3-none-any.whl (1.0 MB)\n",
            "\u001b[K     |████████████████████████████████| 1.0 MB 41.3 MB/s \n",
            "\u001b[?25hCollecting fiona>=1.8\n",
            "  Downloading Fiona-1.8.21-cp37-cp37m-manylinux2014_x86_64.whl (16.7 MB)\n",
            "\u001b[K     |████████████████████████████████| 16.7 MB 366 kB/s \n",
            "\u001b[?25hCollecting munch\n",
            "  Downloading munch-2.5.0-py2.py3-none-any.whl (10 kB)\n",
            "Requirement already satisfied: setuptools in /usr/local/lib/python3.7/dist-packages (from fiona>=1.8->geopandas>=0.7->osmnx==0.14.1) (57.4.0)\n",
            "Requirement already satisfied: six>=1.7 in /usr/local/lib/python3.7/dist-packages (from fiona>=1.8->geopandas>=0.7->osmnx==0.14.1) (1.15.0)\n",
            "Requirement already satisfied: cligj>=0.5 in /usr/local/lib/python3.7/dist-packages (from fiona>=1.8->geopandas>=0.7->osmnx==0.14.1) (0.7.2)\n",
            "Requirement already satisfied: click>=4.0 in /usr/local/lib/python3.7/dist-packages (from fiona>=1.8->geopandas>=0.7->osmnx==0.14.1) (7.1.2)\n",
            "Requirement already satisfied: attrs>=17 in /usr/local/lib/python3.7/dist-packages (from fiona>=1.8->geopandas>=0.7->osmnx==0.14.1) (22.1.0)\n",
            "Requirement already satisfied: certifi in /usr/local/lib/python3.7/dist-packages (from fiona>=1.8->geopandas>=0.7->osmnx==0.14.1) (2022.6.15)\n",
            "Requirement already satisfied: click-plugins>=1.0 in /usr/local/lib/python3.7/dist-packages (from fiona>=1.8->geopandas>=0.7->osmnx==0.14.1) (1.1.1)\n",
            "Requirement already satisfied: pyparsing!=2.0.4,!=2.1.2,!=2.1.6,>=2.0.1 in /usr/local/lib/python3.7/dist-packages (from matplotlib>=3.2->osmnx==0.14.1) (3.0.9)\n",
            "Requirement already satisfied: python-dateutil>=2.1 in /usr/local/lib/python3.7/dist-packages (from matplotlib>=3.2->osmnx==0.14.1) (2.8.2)\n",
            "Requirement already satisfied: cycler>=0.10 in /usr/local/lib/python3.7/dist-packages (from matplotlib>=3.2->osmnx==0.14.1) (0.11.0)\n",
            "Requirement already satisfied: kiwisolver>=1.0.1 in /usr/local/lib/python3.7/dist-packages (from matplotlib>=3.2->osmnx==0.14.1) (1.4.4)\n",
            "Requirement already satisfied: typing-extensions in /usr/local/lib/python3.7/dist-packages (from kiwisolver>=1.0.1->matplotlib>=3.2->osmnx==0.14.1) (4.1.1)\n",
            "Requirement already satisfied: pytz>=2017.3 in /usr/local/lib/python3.7/dist-packages (from pandas>=1.0->osmnx==0.14.1) (2022.2.1)\n",
            "Requirement already satisfied: idna<4,>=2.5 in /usr/local/lib/python3.7/dist-packages (from requests>=2.23->osmnx==0.14.1) (2.10)\n",
            "Requirement already satisfied: urllib3<1.27,>=1.21.1 in /usr/local/lib/python3.7/dist-packages (from requests>=2.23->osmnx==0.14.1) (1.24.3)\n",
            "Requirement already satisfied: charset-normalizer<3,>=2 in /usr/local/lib/python3.7/dist-packages (from requests>=2.23->osmnx==0.14.1) (2.1.0)\n",
            "Installing collected packages: munch, fiona, Rtree, geopandas, osmnx\n",
            "  Attempting uninstall: Rtree\n",
            "    Found existing installation: Rtree 0.8.3\n",
            "    Uninstalling Rtree-0.8.3:\n",
            "      Successfully uninstalled Rtree-0.8.3\n",
            "Successfully installed Rtree-1.0.0 fiona-1.8.21 geopandas-0.10.2 munch-2.5.0 osmnx-0.14.1\n",
            "Reading package lists...\n",
            "Building dependency tree...\n",
            "Reading state information...\n",
            "The following package was automatically installed and is no longer required:\n",
            "  libnvidia-common-460\n",
            "Use 'apt autoremove' to remove it.\n",
            "The following additional packages will be installed:\n",
            "  python-pkg-resources python-pyshp python-shapely python-six python3-pyshp\n",
            "  python3-shapely python3-six\n",
            "Suggested packages:\n",
            "  python-matplotlib python-owslib python-pil python-pyepsg python-scipy\n",
            "  python-setuptools python-shapely-doc python3-matplotlib python3-owslib\n",
            "  python3-pil python3-pyepsg python3-scipy\n",
            "The following NEW packages will be installed:\n",
            "  python-cartopy python-pkg-resources python-pyshp python-shapely python-six\n",
            "  python3-cartopy python3-pyshp python3-shapely python3-six\n",
            "0 upgraded, 9 newly installed, 0 to remove and 20 not upgraded.\n",
            "Need to get 11.1 MB of archives.\n",
            "After this operation, 20.4 MB of additional disk space will be used.\n",
            "Get:1 http://archive.ubuntu.com/ubuntu bionic/main amd64 python-pkg-resources all 39.0.1-2 [128 kB]\n",
            "Get:2 http://archive.ubuntu.com/ubuntu bionic/universe amd64 python-pyshp all 1.2.12+ds-1 [31.4 kB]\n",
            "Get:3 http://archive.ubuntu.com/ubuntu bionic/universe amd64 python-shapely amd64 1.6.4-1 [221 kB]\n",
            "Get:4 http://archive.ubuntu.com/ubuntu bionic/main amd64 python-six all 1.11.0-2 [11.3 kB]\n",
            "Get:5 http://archive.ubuntu.com/ubuntu bionic/universe amd64 python-cartopy amd64 0.14.2+dfsg1-2build3 [5,223 kB]\n",
            "Get:6 http://archive.ubuntu.com/ubuntu bionic/universe amd64 python3-pyshp all 1.2.12+ds-1 [31.5 kB]\n",
            "Get:7 http://archive.ubuntu.com/ubuntu bionic/universe amd64 python3-shapely amd64 1.6.4-1 [213 kB]\n",
            "Get:8 http://archive.ubuntu.com/ubuntu bionic/main amd64 python3-six all 1.11.0-2 [11.4 kB]\n",
            "Get:9 http://archive.ubuntu.com/ubuntu bionic/universe amd64 python3-cartopy amd64 0.14.2+dfsg1-2build3 [5,216 kB]\n",
            "Fetched 11.1 MB in 2s (5,764 kB/s)\n",
            "Selecting previously unselected package python-pkg-resources.\n",
            "(Reading database ... 156175 files and directories currently installed.)\n",
            "Preparing to unpack .../0-python-pkg-resources_39.0.1-2_all.deb ...\n",
            "Unpacking python-pkg-resources (39.0.1-2) ...\n",
            "Selecting previously unselected package python-pyshp.\n",
            "Preparing to unpack .../1-python-pyshp_1.2.12+ds-1_all.deb ...\n",
            "Unpacking python-pyshp (1.2.12+ds-1) ...\n",
            "Selecting previously unselected package python-shapely.\n",
            "Preparing to unpack .../2-python-shapely_1.6.4-1_amd64.deb ...\n",
            "Unpacking python-shapely (1.6.4-1) ...\n",
            "Selecting previously unselected package python-six.\n",
            "Preparing to unpack .../3-python-six_1.11.0-2_all.deb ...\n",
            "Unpacking python-six (1.11.0-2) ...\n",
            "Selecting previously unselected package python-cartopy:amd64.\n",
            "Preparing to unpack .../4-python-cartopy_0.14.2+dfsg1-2build3_amd64.deb ...\n",
            "Unpacking python-cartopy:amd64 (0.14.2+dfsg1-2build3) ...\n",
            "Selecting previously unselected package python3-pyshp.\n",
            "Preparing to unpack .../5-python3-pyshp_1.2.12+ds-1_all.deb ...\n",
            "Unpacking python3-pyshp (1.2.12+ds-1) ...\n",
            "Selecting previously unselected package python3-shapely.\n",
            "Preparing to unpack .../6-python3-shapely_1.6.4-1_amd64.deb ...\n",
            "Unpacking python3-shapely (1.6.4-1) ...\n",
            "Selecting previously unselected package python3-six.\n",
            "Preparing to unpack .../7-python3-six_1.11.0-2_all.deb ...\n",
            "Unpacking python3-six (1.11.0-2) ...\n",
            "Selecting previously unselected package python3-cartopy:amd64.\n",
            "Preparing to unpack .../8-python3-cartopy_0.14.2+dfsg1-2build3_amd64.deb ...\n",
            "Unpacking python3-cartopy:amd64 (0.14.2+dfsg1-2build3) ...\n",
            "Setting up python-shapely (1.6.4-1) ...\n",
            "Setting up python-pyshp (1.2.12+ds-1) ...\n",
            "Setting up python3-six (1.11.0-2) ...\n",
            "Setting up python3-shapely (1.6.4-1) ...\n",
            "Setting up python3-pyshp (1.2.12+ds-1) ...\n",
            "Setting up python-pkg-resources (39.0.1-2) ...\n",
            "Setting up python-six (1.11.0-2) ...\n",
            "Setting up python3-cartopy:amd64 (0.14.2+dfsg1-2build3) ...\n",
            "Setting up python-cartopy:amd64 (0.14.2+dfsg1-2build3) ...\n"
          ]
        }
      ]
    },
    {
      "cell_type": "code",
      "source": [
        "!apt install cartopy._crs"
      ],
      "metadata": {
        "colab": {
          "base_uri": "https://localhost:8080/"
        },
        "id": "RNSomIsQ5Ul5",
        "outputId": "a10157be-de58-46f6-9e8b-76d65dd1af04"
      },
      "execution_count": 3,
      "outputs": [
        {
          "output_type": "stream",
          "name": "stdout",
          "text": [
            "Reading package lists... Done\n",
            "Building dependency tree       \n",
            "Reading state information... Done\n",
            "E: Unable to locate package cartopy._crs\n",
            "E: Couldn't find any package by glob 'cartopy._crs'\n",
            "E: Couldn't find any package by regex 'cartopy._crs'\n"
          ]
        }
      ]
    },
    {
      "cell_type": "code",
      "metadata": {
        "id": "RIktnccho9Yl"
      },
      "source": [
        "#Install all the packages\n",
        "\n",
        "import folium\n",
        "import os\n",
        "import numpy as np\n",
        "\n",
        "import geopandas as gpd\n",
        "import pandas as pd\n",
        "import numpy as np\n",
        "import matplotlib.pyplot as plt\n",
        "\n",
        "import osmnx as ox\n",
        "import seaborn as sns\n",
        "import pandas.util.testing as tm\n",
        "\n",
        "from shapely.geometry import MultiPolygon, Polygon\n",
        "import rasterio as rio\n",
        "from rasterio.plot import show\n",
        "import rasterio.mask\n",
        "import fiona\n",
        "# import cartopy\n",
        "\n",
        "import datetime"
      ],
      "execution_count": 5,
      "outputs": []
    },
    {
      "cell_type": "code",
      "metadata": {
        "id": "EkX1yoMFpub_",
        "outputId": "9dc415a2-a162-4512-cc7c-656ad2189505",
        "colab": {
          "base_uri": "https://localhost:8080/"
        }
      },
      "source": [
        "# Load the Drive helper and mount\n",
        "from google.colab import drive\n",
        "\n",
        "# This will prompt for authorization.\n",
        "drive.mount('/content/drive')"
      ],
      "execution_count": 6,
      "outputs": [
        {
          "output_type": "stream",
          "name": "stdout",
          "text": [
            "Mounted at /content/drive\n"
          ]
        }
      ]
    },
    {
      "cell_type": "code",
      "metadata": {
        "id": "-2QsDxahp0pv"
      },
      "source": [
        "# os.getcwd()\n",
        "os.chdir(\"/content/drive/My Drive/Colab Notebooks/Final codes\")"
      ],
      "execution_count": 8,
      "outputs": []
    },
    {
      "cell_type": "code",
      "metadata": {
        "id": "Y0KE611Mp3uQ"
      },
      "source": [
        "!ls \"/content/drive/My Drive/Colab Notebooks/Final codes\""
      ],
      "execution_count": null,
      "outputs": []
    },
    {
      "cell_type": "markdown",
      "source": [
        "#Connect to Sentinel-5P API Hub"
      ],
      "metadata": {
        "id": "5FXfb0K-tv_h"
      }
    },
    {
      "cell_type": "code",
      "metadata": {
        "id": "2FSjRdPUqJpm",
        "outputId": "280de8e4-0e4e-4bfe-c171-101c6d7a7b3b",
        "colab": {
          "base_uri": "https://localhost:8080/"
        }
      },
      "source": [
        "##Step1\n",
        "!pip install sentinelsat"
      ],
      "execution_count": 10,
      "outputs": [
        {
          "output_type": "stream",
          "name": "stdout",
          "text": [
            "Looking in indexes: https://pypi.org/simple, https://us-python.pkg.dev/colab-wheels/public/simple/\n",
            "Collecting sentinelsat\n",
            "  Downloading sentinelsat-1.1.1-py3-none-any.whl (48 kB)\n",
            "\u001b[K     |████████████████████████████████| 48 kB 3.6 MB/s \n",
            "\u001b[?25hRequirement already satisfied: requests in /usr/local/lib/python3.7/dist-packages (from sentinelsat) (2.28.1)\n",
            "Requirement already satisfied: tqdm>=4.58 in /usr/local/lib/python3.7/dist-packages (from sentinelsat) (4.64.0)\n",
            "Collecting geomet\n",
            "  Downloading geomet-0.3.0-py3-none-any.whl (28 kB)\n",
            "Requirement already satisfied: click>=7.1 in /usr/local/lib/python3.7/dist-packages (from sentinelsat) (7.1.2)\n",
            "Collecting geojson>=2\n",
            "  Downloading geojson-2.5.0-py2.py3-none-any.whl (14 kB)\n",
            "Collecting html2text\n",
            "  Downloading html2text-2020.1.16-py3-none-any.whl (32 kB)\n",
            "Requirement already satisfied: six in /usr/local/lib/python3.7/dist-packages (from geomet->sentinelsat) (1.15.0)\n",
            "Requirement already satisfied: charset-normalizer<3,>=2 in /usr/local/lib/python3.7/dist-packages (from requests->sentinelsat) (2.1.0)\n",
            "Requirement already satisfied: urllib3<1.27,>=1.21.1 in /usr/local/lib/python3.7/dist-packages (from requests->sentinelsat) (1.24.3)\n",
            "Requirement already satisfied: idna<4,>=2.5 in /usr/local/lib/python3.7/dist-packages (from requests->sentinelsat) (2.10)\n",
            "Requirement already satisfied: certifi>=2017.4.17 in /usr/local/lib/python3.7/dist-packages (from requests->sentinelsat) (2022.6.15)\n",
            "Installing collected packages: html2text, geomet, geojson, sentinelsat\n",
            "Successfully installed geojson-2.5.0 geomet-0.3.0 html2text-2020.1.16 sentinelsat-1.1.1\n"
          ]
        }
      ]
    },
    {
      "cell_type": "code",
      "metadata": {
        "id": "rvQ0tOddqQ46"
      },
      "source": [
        "##Step2\n",
        "\n",
        "from sentinelsat import SentinelAPI, read_geojson, geojson_to_wkt \n",
        "user = 's5pguest'\n",
        "password = 's5pguest'  \n",
        "\n",
        "api = SentinelAPI(user, password, 'https://s5phub.copernicus.eu/dhus')"
      ],
      "execution_count": 11,
      "outputs": []
    },
    {
      "cell_type": "markdown",
      "source": [
        "**Area of Interest**"
      ],
      "metadata": {
        "id": "-zNospnCtg-T"
      }
    },
    {
      "cell_type": "code",
      "metadata": {
        "id": "RaX9YSstpHgz",
        "colab": {
          "base_uri": "https://localhost:8080/"
        },
        "outputId": "aec836a9-0ddc-4e67-d870-7983edcfe98a"
      },
      "source": [
        "#Get area of interest\n",
        "\n",
        "place = \"Dublin, Ireland\"\n",
        "graph = ox.graph_from_place(place, network_type='all')"
      ],
      "execution_count": 12,
      "outputs": [
        {
          "output_type": "stream",
          "name": "stderr",
          "text": [
            "/usr/local/lib/python3.7/dist-packages/osmnx/utils_geo.py:319: ShapelyDeprecationWarning: Iteration over multi-part geometries is deprecated and will be removed in Shapely 2.0. Use the `geoms` property to access the constituent parts of a multi-part geometry.\n",
            "  for polygon in geometry:\n",
            "/usr/local/lib/python3.7/dist-packages/osmnx/utils_geo.py:415: ShapelyDeprecationWarning: Iteration over multi-part geometries is deprecated and will be removed in Shapely 2.0. Use the `geoms` property to access the constituent parts of a multi-part geometry.\n",
            "  for poly in multipoly:\n",
            "/usr/local/lib/python3.7/dist-packages/osmnx/utils_geo.py:415: ShapelyDeprecationWarning: Iteration over multi-part geometries is deprecated and will be removed in Shapely 2.0. Use the `geoms` property to access the constituent parts of a multi-part geometry.\n",
            "  for poly in multipoly:\n"
          ]
        }
      ]
    },
    {
      "cell_type": "code",
      "metadata": {
        "id": "lGFrziPppYki",
        "outputId": "d07ce6d5-6822-4abf-e304-8ad51e8c6ea0",
        "colab": {
          "base_uri": "https://localhost:8080/",
          "height": 393
        }
      },
      "source": [
        "#Plot the graph of the area of Interest\n",
        "# graph = ox.graph_from_point(point, dist=10000, dist_type='bbox', network_type='all', simplify=True, retain_all=False, truncate_by_edge=False, clean_periphery=True, custom_filter=None)\n",
        "ox.plot_graph(graph)"
      ],
      "execution_count": 13,
      "outputs": [
        {
          "output_type": "display_data",
          "data": {
            "text/plain": [
              "<Figure size 1043.97x432 with 1 Axes>"
            ],
            "image/png": "[encoded data removed]"
          },
          "metadata": {}
        },
        {
          "output_type": "execute_result",
          "data": {
            "text/plain": [
              "(<Figure size 1043.97x432 with 1 Axes>,\n",
              " <matplotlib.axes._subplots.AxesSubplot at 0x7f87336d75d0>)"
            ]
          },
          "metadata": {},
          "execution_count": 13
        }
      ]
    },
    {
      "cell_type": "code",
      "metadata": {
        "id": "BGZeQdtypgv_"
      },
      "source": [
        "#Convert the garph into geodataframe\n",
        "#Save graph nodes and edges to disk as layers in a GeoPackage file.\n",
        "\n",
        "ox.io.save_graph_geopackage(graph, filepath=\"/content/drive/My Drive/Colab Notebooks/Final codes/Dublin.gpkg\", encoding='utf-8')"
      ],
      "execution_count": 14,
      "outputs": []
    },
    {
      "cell_type": "code",
      "metadata": {
        "id": "6pvatG2EpnN4",
        "outputId": "dfd9e471-05ee-4b4e-940b-b1a644b0367d",
        "colab": {
          "base_uri": "https://localhost:8080/",
          "height": 672
        }
      },
      "source": [
        "#Read GeoPackage file.\n",
        "dublin = gpd.read_file('Dublin.gpkg')\n",
        "dublin"
      ],
      "execution_count": 16,
      "outputs": [
        {
          "output_type": "execute_result",
          "data": {
            "text/plain": [
              "               y         x       osmid   ref highway  \\\n",
              "0      53.336180 -6.287087  2373976073  None    None   \n",
              "1      53.345911 -6.248874   132775946  None    None   \n",
              "2      53.350305 -6.266453   411566095   J33    None   \n",
              "3      53.349439 -6.265795   411566097  None    None   \n",
              "4      53.349382 -6.266043   411566098  None    None   \n",
              "...          ...       ...         ...   ...     ...   \n",
              "45618  53.330238 -6.376840   844890073  None    None   \n",
              "45619  53.330462 -6.375458   844890078  None    None   \n",
              "45620  53.387156 -6.264309  5337645028  None    None   \n",
              "45621  53.329779 -6.299213  2373976058  None    None   \n",
              "45622  53.326124 -6.288422  2780692479  None    None   \n",
              "\n",
              "                        geometry  \n",
              "0      POINT (-6.28709 53.33618)  \n",
              "1      POINT (-6.24887 53.34591)  \n",
              "2      POINT (-6.26645 53.35031)  \n",
              "3      POINT (-6.26580 53.34944)  \n",
              "4      POINT (-6.26604 53.34938)  \n",
              "...                          ...  \n",
              "45618  POINT (-6.37684 53.33024)  \n",
              "45619  POINT (-6.37546 53.33046)  \n",
              "45620  POINT (-6.26431 53.38716)  \n",
              "45621  POINT (-6.29921 53.32978)  \n",
              "45622  POINT (-6.28842 53.32612)  \n",
              "\n",
              "[45623 rows x 6 columns]"
            ],
            "text/html": [
              "\n",
              "  <div id=\"df-86b21986-8ae3-42e9-89b7-cc8e17e44238\">\n",
              "    <div class=\"colab-df-container\">\n",
              "      <div>\n",
              "<style scoped>\n",
              "    .dataframe tbody tr th:only-of-type {\n",
              "        vertical-align: middle;\n",
              "    }\n",
              "\n",
              "    .dataframe tbody tr th {\n",
              "        vertical-align: top;\n",
              "    }\n",
              "\n",
              "    .dataframe thead th {\n",
              "        text-align: right;\n",
              "    }\n",
              "</style>\n",
              "<table border=\"1\" class=\"dataframe\">\n",
              "  <thead>\n",
              "    <tr style=\"text-align: right;\">\n",
              "      <th></th>\n",
              "      <th>y</th>\n",
              "      <th>x</th>\n",
              "      <th>osmid</th>\n",
              "      <th>ref</th>\n",
              "      <th>highway</th>\n",
              "      <th>geometry</th>\n",
              "    </tr>\n",
              "  </thead>\n",
              "  <tbody>\n",
              "    <tr>\n",
              "      <th>0</th>\n",
              "      <td>53.336180</td>\n",
              "      <td>-6.287087</td>\n",
              "      <td>2373976073</td>\n",
              "      <td>None</td>\n",
              "      <td>None</td>\n",
              "      <td>POINT (-6.28709 53.33618)</td>\n",
              "    </tr>\n",
              "    <tr>\n",
              "      <th>1</th>\n",
              "      <td>53.345911</td>\n",
              "      <td>-6.248874</td>\n",
              "      <td>132775946</td>\n",
              "      <td>None</td>\n",
              "      <td>None</td>\n",
              "      <td>POINT (-6.24887 53.34591)</td>\n",
              "    </tr>\n",
              "    <tr>\n",
              "      <th>2</th>\n",
              "      <td>53.350305</td>\n",
              "      <td>-6.266453</td>\n",
              "      <td>411566095</td>\n",
              "      <td>J33</td>\n",
              "      <td>None</td>\n",
              "      <td>POINT (-6.26645 53.35031)</td>\n",
              "    </tr>\n",
              "    <tr>\n",
              "      <th>3</th>\n",
              "      <td>53.349439</td>\n",
              "      <td>-6.265795</td>\n",
              "      <td>411566097</td>\n",
              "      <td>None</td>\n",
              "      <td>None</td>\n",
              "      <td>POINT (-6.26580 53.34944)</td>\n",
              "    </tr>\n",
              "    <tr>\n",
              "      <th>4</th>\n",
              "      <td>53.349382</td>\n",
              "      <td>-6.266043</td>\n",
              "      <td>411566098</td>\n",
              "      <td>None</td>\n",
              "      <td>None</td>\n",
              "      <td>POINT (-6.26604 53.34938)</td>\n",
              "    </tr>\n",
              "    <tr>\n",
              "      <th>...</th>\n",
              "      <td>...</td>\n",
              "      <td>...</td>\n",
              "      <td>...</td>\n",
              "      <td>...</td>\n",
              "      <td>...</td>\n",
              "      <td>...</td>\n",
              "    </tr>\n",
              "    <tr>\n",
              "      <th>45618</th>\n",
              "      <td>53.330238</td>\n",
              "      <td>-6.376840</td>\n",
              "      <td>844890073</td>\n",
              "      <td>None</td>\n",
              "      <td>None</td>\n",
              "      <td>POINT (-6.37684 53.33024)</td>\n",
              "    </tr>\n",
              "    <tr>\n",
              "      <th>45619</th>\n",
              "      <td>53.330462</td>\n",
              "      <td>-6.375458</td>\n",
              "      <td>844890078</td>\n",
              "      <td>None</td>\n",
              "      <td>None</td>\n",
              "      <td>POINT (-6.37546 53.33046)</td>\n",
              "    </tr>\n",
              "    <tr>\n",
              "      <th>45620</th>\n",
              "      <td>53.387156</td>\n",
              "      <td>-6.264309</td>\n",
              "      <td>5337645028</td>\n",
              "      <td>None</td>\n",
              "      <td>None</td>\n",
              "      <td>POINT (-6.26431 53.38716)</td>\n",
              "    </tr>\n",
              "    <tr>\n",
              "      <th>45621</th>\n",
              "      <td>53.329779</td>\n",
              "      <td>-6.299213</td>\n",
              "      <td>2373976058</td>\n",
              "      <td>None</td>\n",
              "      <td>None</td>\n",
              "      <td>POINT (-6.29921 53.32978)</td>\n",
              "    </tr>\n",
              "    <tr>\n",
              "      <th>45622</th>\n",
              "      <td>53.326124</td>\n",
              "      <td>-6.288422</td>\n",
              "      <td>2780692479</td>\n",
              "      <td>None</td>\n",
              "      <td>None</td>\n",
              "      <td>POINT (-6.28842 53.32612)</td>\n",
              "    </tr>\n",
              "  </tbody>\n",
              "</table>\n",
              "<p>45623 rows × 6 columns</p>\n",
              "</div>\n",
              "      <button class=\"colab-df-convert\" onclick=\"convertToInteractive('df-86b21986-8ae3-42e9-89b7-cc8e17e44238')\"\n",
              "              title=\"Convert this dataframe to an interactive table.\"\n",
              "              style=\"display:none;\">\n",
              "        \n",
              "  <svg xmlns=\"http://www.w3.org/2000/svg\" height=\"24px\"viewBox=\"0 0 24 24\"\n",
              "       width=\"24px\">\n",
              "    <path d=\"M0 0h24v24H0V0z\" fill=\"none\"/>\n",
              "    <path d=\"M18.56 5.44l.94 2.06.94-2.06 2.06-.94-2.06-.94-.94-2.06-.94 2.06-2.06.94zm-11 1L8.5 8.5l.94-2.06 2.06-.94-2.06-.94L8.5 2.5l-.94 2.06-2.06.94zm10 10l.94 2.06.94-2.06 2.06-.94-2.06-.94-.94-2.06-.94 2.06-2.06.94z\"/><path d=\"M17.41 7.96l-1.37-1.37c-.4-.4-.92-.59-1.43-.59-.52 0-1.04.2-1.43.59L10.3 9.45l-7.72 7.72c-.78.78-.78 2.05 0 2.83L4 21.41c.39.39.9.59 1.41.59.51 0 1.02-.2 1.41-.59l7.78-7.78 2.81-2.81c.8-.78.8-2.07 0-2.86zM5.41 20L4 18.59l7.72-7.72 1.47 1.35L5.41 20z\"/>\n",
              "  </svg>\n",
              "      </button>\n",
              "      \n",
              "  <style>\n",
              "    .colab-df-container {\n",
              "      display:flex;\n",
              "      flex-wrap:wrap;\n",
              "      gap: 12px;\n",
              "    }\n",
              "\n",
              "    .colab-df-convert {\n",
              "      background-color: #E8F0FE;\n",
              "      border: none;\n",
              "      border-radius: 50%;\n",
              "      cursor: pointer;\n",
              "      display: none;\n",
              "      fill: #1967D2;\n",
              "      height: 32px;\n",
              "      padding: 0 0 0 0;\n",
              "      width: 32px;\n",
              "    }\n",
              "\n",
              "    .colab-df-convert:hover {\n",
              "      background-color: #E2EBFA;\n",
              "      box-shadow: 0px 1px 2px rgba(60, 64, 67, 0.3), 0px 1px 3px 1px rgba(60, 64, 67, 0.15);\n",
              "      fill: #174EA6;\n",
              "    }\n",
              "\n",
              "    [theme=dark] .colab-df-convert {\n",
              "      background-color: #3B4455;\n",
              "      fill: #D2E3FC;\n",
              "    }\n",
              "\n",
              "    [theme=dark] .colab-df-convert:hover {\n",
              "      background-color: #434B5C;\n",
              "      box-shadow: 0px 1px 3px 1px rgba(0, 0, 0, 0.15);\n",
              "      filter: drop-shadow(0px 1px 2px rgba(0, 0, 0, 0.3));\n",
              "      fill: #FFFFFF;\n",
              "    }\n",
              "  </style>\n",
              "\n",
              "      <script>\n",
              "        const buttonEl =\n",
              "          document.querySelector('#df-86b21986-8ae3-42e9-89b7-cc8e17e44238 button.colab-df-convert');\n",
              "        buttonEl.style.display =\n",
              "          google.colab.kernel.accessAllowed ? 'block' : 'none';\n",
              "\n",
              "        async function convertToInteractive(key) {\n",
              "          const element = document.querySelector('#df-86b21986-8ae3-42e9-89b7-cc8e17e44238');\n",
              "          const dataTable =\n",
              "            await google.colab.kernel.invokeFunction('convertToInteractive',\n",
              "                                                     [key], {});\n",
              "          if (!dataTable) return;\n",
              "\n",
              "          const docLinkHtml = 'Like what you see? Visit the ' +\n",
              "            '<a target=\"_blank\" href=https://colab.research.google.com/notebooks/data_table.ipynb>data table notebook</a>'\n",
              "            + ' to learn more about interactive tables.';\n",
              "          element.innerHTML = '';\n",
              "          dataTable['output_type'] = 'display_data';\n",
              "          await google.colab.output.renderOutput(dataTable, element);\n",
              "          const docLink = document.createElement('div');\n",
              "          docLink.innerHTML = docLinkHtml;\n",
              "          element.appendChild(docLink);\n",
              "        }\n",
              "      </script>\n",
              "    </div>\n",
              "  </div>\n",
              "  "
            ]
          },
          "metadata": {},
          "execution_count": 16
        },
        {
          "output_type": "stream",
          "name": "stdout",
          "text": [
            "Warning: total number of rows (45623) exceeds max_rows (20000). Limiting to first (20000) rows.\n"
          ]
        }
      ]
    },
    {
      "cell_type": "code",
      "metadata": {
        "id": "fnOz9_gapsBx",
        "outputId": "44a48d7e-d88a-434e-b141-a2176aef9043",
        "colab": {
          "base_uri": "https://localhost:8080/"
        }
      },
      "source": [
        "# get the bbox\n",
        "bbox= dublin.total_bounds \n",
        "bbox"
      ],
      "execution_count": 17,
      "outputs": [
        {
          "output_type": "execute_result",
          "data": {
            "text/plain": [
              "array([-6.3867115, 53.2990801, -6.1188691, 53.4099727])"
            ]
          },
          "metadata": {},
          "execution_count": 17
        }
      ]
    },
    {
      "cell_type": "markdown",
      "source": [],
      "metadata": {
        "id": "dBfqudCP8jWA"
      }
    },
    {
      "cell_type": "code",
      "metadata": {
        "id": "1BtjSiUvvRnD",
        "outputId": "42fbe83c-f267-40dc-93dc-386ae66b93e9",
        "colab": {
          "base_uri": "https://localhost:8080/"
        }
      },
      "source": [
        "#Visualize the landuse, buildings, streets and nodes\n",
        "point=(53.2990801,-6.3867115)\n",
        "landuse= ox.footprints.footprints_from_point(point, dist=10000, footprint_type='landuse', retain_invalid=False)\n",
        "# landuse.shape\n",
        "area = ox.footprints.footprints_from_point(point, dist=10000, footprint_type='area', retain_invalid=False)\n",
        "buildings= ox.footprints.footprints_from_point(point, dist=10000, footprint_type='buildings', retain_invalid=False)\n",
        "nodes, edges = ox.graph_to_gdfs(graph)\n",
        "\n",
        "# area = ox.gdf_from_place(place_name)"
      ],
      "execution_count": 18,
      "outputs": [
        {
          "output_type": "stream",
          "name": "stderr",
          "text": [
            "/usr/local/lib/python3.7/dist-packages/osmnx/utils_geo.py:319: ShapelyDeprecationWarning: Iteration over multi-part geometries is deprecated and will be removed in Shapely 2.0. Use the `geoms` property to access the constituent parts of a multi-part geometry.\n",
            "  for polygon in geometry:\n",
            "/usr/local/lib/python3.7/dist-packages/osmnx/utils_geo.py:319: ShapelyDeprecationWarning: Iteration over multi-part geometries is deprecated and will be removed in Shapely 2.0. Use the `geoms` property to access the constituent parts of a multi-part geometry.\n",
            "  for polygon in geometry:\n",
            "/usr/local/lib/python3.7/dist-packages/osmnx/utils_geo.py:319: ShapelyDeprecationWarning: Iteration over multi-part geometries is deprecated and will be removed in Shapely 2.0. Use the `geoms` property to access the constituent parts of a multi-part geometry.\n",
            "  for polygon in geometry:\n",
            "/usr/local/lib/python3.7/dist-packages/osmnx/footprints.py:117: FutureWarning: Assigning CRS to a GeoDataFrame without a geometry column is now deprecated and will not be supported in the future.\n",
            "  gdf.crs = settings.default_crs\n"
          ]
        }
      ]
    },
    {
      "cell_type": "code",
      "metadata": {
        "id": "0C_3Z_A77m92",
        "colab": {
          "base_uri": "https://localhost:8080/",
          "height": 3718
        },
        "outputId": "00c4efa7-e6ab-47c1-9702-42497f6929b0"
      },
      "source": [
        "landuse.head(5)"
      ],
      "execution_count": 22,
      "outputs": [
        {
          "output_type": "execute_result",
          "data": {
            "text/plain": [
              "                                                     nodes            landuse  \\\n",
              "4491084  [27532206, 2752905824, 2752905783, 27532213, 2...             retail   \n",
              "5853273  [47165787, 47165789, 5048615199, 5048615198, 2...             retail   \n",
              "8584474  [60936858, 60936859, 60936860, 60936861, 26265...  recreation_ground   \n",
              "8584697  [60938206, 3292039034, 3292039032, 3292039031,...              grass   \n",
              "9825589  [1499510455, 1499510456, 4788904707, 149951045...              grass   \n",
              "\n",
              "                             name  shop  \\\n",
              "4491084  Roselawn Shopping Centre  mall   \n",
              "5853273  Nutgrove Shopping Centre  mall   \n",
              "8584474                       NaN   NaN   \n",
              "8584697                       NaN   NaN   \n",
              "9825589                         .   NaN   \n",
              "\n",
              "                                                  geometry addr:postcode  \\\n",
              "4491084  POLYGON ((-6.38269 53.38390, -6.38252 53.38363...           NaN   \n",
              "5853273  POLYGON ((-6.26589 53.28945, -6.26622 53.28945...      D14 F5X7   \n",
              "8584474  POLYGON ((-6.24418 53.28521, -6.24412 53.28494...           NaN   \n",
              "8584697  POLYGON ((-6.23726 53.28293, -6.23727 53.28288...           NaN   \n",
              "9825589  POLYGON ((-6.32154 53.29953, -6.32096 53.29949...           NaN   \n",
              "\n",
              "          addr:street                           email           phone  \\\n",
              "4491084           NaN                             NaN             NaN   \n",
              "5853273  Nutgrove Way  info@nutgroveshoppingcentre.ie  +353-1-4933289   \n",
              "8584474           NaN                             NaN             NaN   \n",
              "8584697           NaN                             NaN             NaN   \n",
              "9825589           NaN                             NaN             NaN   \n",
              "\n",
              "                                    website  ... recycling:green_waste  \\\n",
              "4491084                                 NaN  ...                   NaN   \n",
              "5853273  https://nutgroveshoppingcentre.ie/  ...                   NaN   \n",
              "8584474                                 NaN  ...                   NaN   \n",
              "8584697                                 NaN  ...                   NaN   \n",
              "9825589                                 NaN  ...                   NaN   \n",
              "\n",
              "        recycling:magazines recycling:newspaper recycling:paper_packaging  \\\n",
              "4491084                 NaN                 NaN                       NaN   \n",
              "5853273                 NaN                 NaN                       NaN   \n",
              "8584474                 NaN                 NaN                       NaN   \n",
              "8584697                 NaN                 NaN                       NaN   \n",
              "9825589                 NaN                 NaN                       NaN   \n",
              "\n",
              "        recycling:plastic_bottles recycling:plastic_packaging  \\\n",
              "4491084                       NaN                         NaN   \n",
              "5853273                       NaN                         NaN   \n",
              "8584474                       NaN                         NaN   \n",
              "8584697                       NaN                         NaN   \n",
              "9825589                       NaN                         NaN   \n",
              "\n",
              "        recycling:scrap_metal recycling:small_appliances recycling:waste  \\\n",
              "4491084                   NaN                        NaN             NaN   \n",
              "5853273                   NaN                        NaN             NaN   \n",
              "8584474                   NaN                        NaN             NaN   \n",
              "8584697                   NaN                        NaN             NaN   \n",
              "9825589                   NaN                        NaN             NaN   \n",
              "\n",
              "        recycling:wood  \n",
              "4491084            NaN  \n",
              "5853273            NaN  \n",
              "8584474            NaN  \n",
              "8584697            NaN  \n",
              "9825589            NaN  \n",
              "\n",
              "[5 rows x 225 columns]"
            ],
            "text/html": [
              "\n",
              "  <div id=\"df-322dd7be-010c-4937-a147-889ed72f3e10\">\n",
              "    <div class=\"colab-df-container\">\n",
              "      <div>\n",
              "<style scoped>\n",
              "    .dataframe tbody tr th:only-of-type {\n",
              "        vertical-align: middle;\n",
              "    }\n",
              "\n",
              "    .dataframe tbody tr th {\n",
              "        vertical-align: top;\n",
              "    }\n",
              "\n",
              "    .dataframe thead th {\n",
              "        text-align: right;\n",
              "    }\n",
              "</style>\n",
              "<table border=\"1\" class=\"dataframe\">\n",
              "  <thead>\n",
              "    <tr style=\"text-align: right;\">\n",
              "      <th></th>\n",
              "      <th>nodes</th>\n",
              "      <th>landuse</th>\n",
              "      <th>name</th>\n",
              "      <th>shop</th>\n",
              "      <th>geometry</th>\n",
              "      <th>addr:postcode</th>\n",
              "      <th>addr:street</th>\n",
              "      <th>email</th>\n",
              "      <th>phone</th>\n",
              "      <th>website</th>\n",
              "      <th>...</th>\n",
              "      <th>recycling:green_waste</th>\n",
              "      <th>recycling:magazines</th>\n",
              "      <th>recycling:newspaper</th>\n",
              "      <th>recycling:paper_packaging</th>\n",
              "      <th>recycling:plastic_bottles</th>\n",
              "      <th>recycling:plastic_packaging</th>\n",
              "      <th>recycling:scrap_metal</th>\n",
              "      <th>recycling:small_appliances</th>\n",
              "      <th>recycling:waste</th>\n",
              "      <th>recycling:wood</th>\n",
              "    </tr>\n",
              "  </thead>\n",
              "  <tbody>\n",
              "    <tr>\n",
              "      <th>4491084</th>\n",
              "      <td>[27532206, 2752905824, 2752905783, 27532213, 2...</td>\n",
              "      <td>retail</td>\n",
              "      <td>Roselawn Shopping Centre</td>\n",
              "      <td>mall</td>\n",
              "      <td>POLYGON ((-6.38269 53.38390, -6.38252 53.38363...</td>\n",
              "      <td>NaN</td>\n",
              "      <td>NaN</td>\n",
              "      <td>NaN</td>\n",
              "      <td>NaN</td>\n",
              "      <td>NaN</td>\n",
              "      <td>...</td>\n",
              "      <td>NaN</td>\n",
              "      <td>NaN</td>\n",
              "      <td>NaN</td>\n",
              "      <td>NaN</td>\n",
              "      <td>NaN</td>\n",
              "      <td>NaN</td>\n",
              "      <td>NaN</td>\n",
              "      <td>NaN</td>\n",
              "      <td>NaN</td>\n",
              "      <td>NaN</td>\n",
              "    </tr>\n",
              "    <tr>\n",
              "      <th>5853273</th>\n",
              "      <td>[47165787, 47165789, 5048615199, 5048615198, 2...</td>\n",
              "      <td>retail</td>\n",
              "      <td>Nutgrove Shopping Centre</td>\n",
              "      <td>mall</td>\n",
              "      <td>POLYGON ((-6.26589 53.28945, -6.26622 53.28945...</td>\n",
              "      <td>D14 F5X7</td>\n",
              "      <td>Nutgrove Way</td>\n",
              "      <td>info@nutgroveshoppingcentre.ie</td>\n",
              "      <td>+353-1-4933289</td>\n",
              "      <td>https://nutgroveshoppingcentre.ie/</td>\n",
              "      <td>...</td>\n",
              "      <td>NaN</td>\n",
              "      <td>NaN</td>\n",
              "      <td>NaN</td>\n",
              "      <td>NaN</td>\n",
              "      <td>NaN</td>\n",
              "      <td>NaN</td>\n",
              "      <td>NaN</td>\n",
              "      <td>NaN</td>\n",
              "      <td>NaN</td>\n",
              "      <td>NaN</td>\n",
              "    </tr>\n",
              "    <tr>\n",
              "      <th>8584474</th>\n",
              "      <td>[60936858, 60936859, 60936860, 60936861, 26265...</td>\n",
              "      <td>recreation_ground</td>\n",
              "      <td>NaN</td>\n",
              "      <td>NaN</td>\n",
              "      <td>POLYGON ((-6.24418 53.28521, -6.24412 53.28494...</td>\n",
              "      <td>NaN</td>\n",
              "      <td>NaN</td>\n",
              "      <td>NaN</td>\n",
              "      <td>NaN</td>\n",
              "      <td>NaN</td>\n",
              "      <td>...</td>\n",
              "      <td>NaN</td>\n",
              "      <td>NaN</td>\n",
              "      <td>NaN</td>\n",
              "      <td>NaN</td>\n",
              "      <td>NaN</td>\n",
              "      <td>NaN</td>\n",
              "      <td>NaN</td>\n",
              "      <td>NaN</td>\n",
              "      <td>NaN</td>\n",
              "      <td>NaN</td>\n",
              "    </tr>\n",
              "    <tr>\n",
              "      <th>8584697</th>\n",
              "      <td>[60938206, 3292039034, 3292039032, 3292039031,...</td>\n",
              "      <td>grass</td>\n",
              "      <td>NaN</td>\n",
              "      <td>NaN</td>\n",
              "      <td>POLYGON ((-6.23726 53.28293, -6.23727 53.28288...</td>\n",
              "      <td>NaN</td>\n",
              "      <td>NaN</td>\n",
              "      <td>NaN</td>\n",
              "      <td>NaN</td>\n",
              "      <td>NaN</td>\n",
              "      <td>...</td>\n",
              "      <td>NaN</td>\n",
              "      <td>NaN</td>\n",
              "      <td>NaN</td>\n",
              "      <td>NaN</td>\n",
              "      <td>NaN</td>\n",
              "      <td>NaN</td>\n",
              "      <td>NaN</td>\n",
              "      <td>NaN</td>\n",
              "      <td>NaN</td>\n",
              "      <td>NaN</td>\n",
              "    </tr>\n",
              "    <tr>\n",
              "      <th>9825589</th>\n",
              "      <td>[1499510455, 1499510456, 4788904707, 149951045...</td>\n",
              "      <td>grass</td>\n",
              "      <td>.</td>\n",
              "      <td>NaN</td>\n",
              "      <td>POLYGON ((-6.32154 53.29953, -6.32096 53.29949...</td>\n",
              "      <td>NaN</td>\n",
              "      <td>NaN</td>\n",
              "      <td>NaN</td>\n",
              "      <td>NaN</td>\n",
              "      <td>NaN</td>\n",
              "      <td>...</td>\n",
              "      <td>NaN</td>\n",
              "      <td>NaN</td>\n",
              "      <td>NaN</td>\n",
              "      <td>NaN</td>\n",
              "      <td>NaN</td>\n",
              "      <td>NaN</td>\n",
              "      <td>NaN</td>\n",
              "      <td>NaN</td>\n",
              "      <td>NaN</td>\n",
              "      <td>NaN</td>\n",
              "    </tr>\n",
              "  </tbody>\n",
              "</table>\n",
              "<p>5 rows × 225 columns</p>\n",
              "</div>\n",
              "      <button class=\"colab-df-convert\" onclick=\"convertToInteractive('df-322dd7be-010c-4937-a147-889ed72f3e10')\"\n",
              "              title=\"Convert this dataframe to an interactive table.\"\n",
              "              style=\"display:none;\">\n",
              "        \n",
              "  <svg xmlns=\"http://www.w3.org/2000/svg\" height=\"24px\"viewBox=\"0 0 24 24\"\n",
              "       width=\"24px\">\n",
              "    <path d=\"M0 0h24v24H0V0z\" fill=\"none\"/>\n",
              "    <path d=\"M18.56 5.44l.94 2.06.94-2.06 2.06-.94-2.06-.94-.94-2.06-.94 2.06-2.06.94zm-11 1L8.5 8.5l.94-2.06 2.06-.94-2.06-.94L8.5 2.5l-.94 2.06-2.06.94zm10 10l.94 2.06.94-2.06 2.06-.94-2.06-.94-.94-2.06-.94 2.06-2.06.94z\"/><path d=\"M17.41 7.96l-1.37-1.37c-.4-.4-.92-.59-1.43-.59-.52 0-1.04.2-1.43.59L10.3 9.45l-7.72 7.72c-.78.78-.78 2.05 0 2.83L4 21.41c.39.39.9.59 1.41.59.51 0 1.02-.2 1.41-.59l7.78-7.78 2.81-2.81c.8-.78.8-2.07 0-2.86zM5.41 20L4 18.59l7.72-7.72 1.47 1.35L5.41 20z\"/>\n",
              "  </svg>\n",
              "      </button>\n",
              "      \n",
              "  <style>\n",
              "    .colab-df-container {\n",
              "      display:flex;\n",
              "      flex-wrap:wrap;\n",
              "      gap: 12px;\n",
              "    }\n",
              "\n",
              "    .colab-df-convert {\n",
              "      background-color: #E8F0FE;\n",
              "      border: none;\n",
              "      border-radius: 50%;\n",
              "      cursor: pointer;\n",
              "      display: none;\n",
              "      fill: #1967D2;\n",
              "      height: 32px;\n",
              "      padding: 0 0 0 0;\n",
              "      width: 32px;\n",
              "    }\n",
              "\n",
              "    .colab-df-convert:hover {\n",
              "      background-color: #E2EBFA;\n",
              "      box-shadow: 0px 1px 2px rgba(60, 64, 67, 0.3), 0px 1px 3px 1px rgba(60, 64, 67, 0.15);\n",
              "      fill: #174EA6;\n",
              "    }\n",
              "\n",
              "    [theme=dark] .colab-df-convert {\n",
              "      background-color: #3B4455;\n",
              "      fill: #D2E3FC;\n",
              "    }\n",
              "\n",
              "    [theme=dark] .colab-df-convert:hover {\n",
              "      background-color: #434B5C;\n",
              "      box-shadow: 0px 1px 3px 1px rgba(0, 0, 0, 0.15);\n",
              "      filter: drop-shadow(0px 1px 2px rgba(0, 0, 0, 0.3));\n",
              "      fill: #FFFFFF;\n",
              "    }\n",
              "  </style>\n",
              "\n",
              "      <script>\n",
              "        const buttonEl =\n",
              "          document.querySelector('#df-322dd7be-010c-4937-a147-889ed72f3e10 button.colab-df-convert');\n",
              "        buttonEl.style.display =\n",
              "          google.colab.kernel.accessAllowed ? 'block' : 'none';\n",
              "\n",
              "        async function convertToInteractive(key) {\n",
              "          const element = document.querySelector('#df-322dd7be-010c-4937-a147-889ed72f3e10');\n",
              "          const dataTable =\n",
              "            await google.colab.kernel.invokeFunction('convertToInteractive',\n",
              "                                                     [key], {});\n",
              "          if (!dataTable) return;\n",
              "\n",
              "          const docLinkHtml = 'Like what you see? Visit the ' +\n",
              "            '<a target=\"_blank\" href=https://colab.research.google.com/notebooks/data_table.ipynb>data table notebook</a>'\n",
              "            + ' to learn more about interactive tables.';\n",
              "          element.innerHTML = '';\n",
              "          dataTable['output_type'] = 'display_data';\n",
              "          await google.colab.output.renderOutput(dataTable, element);\n",
              "          const docLink = document.createElement('div');\n",
              "          docLink.innerHTML = docLinkHtml;\n",
              "          element.appendChild(docLink);\n",
              "        }\n",
              "      </script>\n",
              "    </div>\n",
              "  </div>\n",
              "  "
            ]
          },
          "metadata": {},
          "execution_count": 22
        },
        {
          "output_type": "stream",
          "name": "stdout",
          "text": [
            "Warning: Total number of columns (225) exceeds max_columns (20) limiting to first (20) columns.\n"
          ]
        }
      ]
    },
    {
      "cell_type": "code",
      "metadata": {
        "id": "o64miypGviGo",
        "outputId": "7f25bd1d-f2b0-45c6-8661-5adef8adfc53",
        "colab": {
          "base_uri": "https://localhost:8080/",
          "height": 1000
        }
      },
      "source": [
        "#Set the CRS\n",
        "\n",
        "landuse_projected= ox.projection.project_gdf(landuse, to_crs={'init': 'epsg:4326'}, to_latlong=True)\n",
        "landuse_projected.head(10)\n",
        "# landuse_projected.shape"
      ],
      "execution_count": 20,
      "outputs": [
        {
          "output_type": "execute_result",
          "data": {
            "text/plain": [
              "                                                      nodes  \\\n",
              "4491084   [27532206, 2752905824, 2752905783, 27532213, 2...   \n",
              "5853273   [47165787, 47165789, 5048615199, 5048615198, 2...   \n",
              "8584474   [60936858, 60936859, 60936860, 60936861, 26265...   \n",
              "8584697   [60938206, 3292039034, 3292039032, 3292039031,...   \n",
              "9825589   [1499510455, 1499510456, 4788904707, 149951045...   \n",
              "9827378   [78514745, 4779997461, 4779997476, 4779997477,...   \n",
              "10062281  [82689631, 2984883781, 2377975405, 2377975365,...   \n",
              "10243904  [84906705, 84906707, 84906709, 84906710, 30953...   \n",
              "10511274  [4851984706, 8607478348, 8607478347, 860747835...   \n",
              "10571098  [2789799529, 2789799531, 2789799533, 278979953...   \n",
              "\n",
              "                    landuse                      name  shop  \\\n",
              "4491084              retail  Roselawn Shopping Centre  mall   \n",
              "5853273              retail  Nutgrove Shopping Centre  mall   \n",
              "8584474   recreation_ground                       NaN   NaN   \n",
              "8584697               grass                       NaN   NaN   \n",
              "9825589               grass                         .   NaN   \n",
              "9827378              retail    Orwell Shopping Centre   NaN   \n",
              "10062281              grass                       NaN   NaN   \n",
              "10243904             forest           Three Rock Wood   NaN   \n",
              "10511274              grass                       NaN   NaN   \n",
              "10571098  recreation_ground                       NaN   NaN   \n",
              "\n",
              "                                                   geometry addr:postcode  \\\n",
              "4491084   POLYGON ((-6.38269 53.38390, -6.38252 53.38363...           NaN   \n",
              "5853273   POLYGON ((-6.26589 53.28945, -6.26622 53.28945...      D14 F5X7   \n",
              "8584474   POLYGON ((-6.24418 53.28521, -6.24412 53.28494...           NaN   \n",
              "8584697   POLYGON ((-6.23726 53.28293, -6.23727 53.28288...           NaN   \n",
              "9825589   POLYGON ((-6.32154 53.29953, -6.32096 53.29949...           NaN   \n",
              "9827378   POLYGON ((-6.32083 53.29869, -6.32126 53.29873...           NaN   \n",
              "10062281  POLYGON ((-6.31404 53.30316, -6.31461 53.30331...           NaN   \n",
              "10243904  POLYGON ((-6.24795 53.25192, -6.24970 53.25395...           NaN   \n",
              "10511274  POLYGON ((-6.31631 53.30689, -6.31610 53.30697...           NaN   \n",
              "10571098  POLYGON ((-6.28829 53.31562, -6.28867 53.31565...           NaN   \n",
              "\n",
              "           addr:street                           email           phone  \\\n",
              "4491084            NaN                             NaN             NaN   \n",
              "5853273   Nutgrove Way  info@nutgroveshoppingcentre.ie  +353-1-4933289   \n",
              "8584474            NaN                             NaN             NaN   \n",
              "8584697            NaN                             NaN             NaN   \n",
              "9825589            NaN                             NaN             NaN   \n",
              "9827378            NaN                             NaN             NaN   \n",
              "10062281           NaN                             NaN             NaN   \n",
              "10243904           NaN                             NaN             NaN   \n",
              "10511274           NaN                             NaN             NaN   \n",
              "10571098           NaN                             NaN             NaN   \n",
              "\n",
              "                                     website  ... recycling:green_waste  \\\n",
              "4491084                                  NaN  ...                   NaN   \n",
              "5853273   https://nutgroveshoppingcentre.ie/  ...                   NaN   \n",
              "8584474                                  NaN  ...                   NaN   \n",
              "8584697                                  NaN  ...                   NaN   \n",
              "9825589                                  NaN  ...                   NaN   \n",
              "9827378                                  NaN  ...                   NaN   \n",
              "10062281                                 NaN  ...                   NaN   \n",
              "10243904                                 NaN  ...                   NaN   \n",
              "10511274                                 NaN  ...                   NaN   \n",
              "10571098                                 NaN  ...                   NaN   \n",
              "\n",
              "         recycling:magazines recycling:newspaper recycling:paper_packaging  \\\n",
              "4491084                  NaN                 NaN                       NaN   \n",
              "5853273                  NaN                 NaN                       NaN   \n",
              "8584474                  NaN                 NaN                       NaN   \n",
              "8584697                  NaN                 NaN                       NaN   \n",
              "9825589                  NaN                 NaN                       NaN   \n",
              "9827378                  NaN                 NaN                       NaN   \n",
              "10062281                 NaN                 NaN                       NaN   \n",
              "10243904                 NaN                 NaN                       NaN   \n",
              "10511274                 NaN                 NaN                       NaN   \n",
              "10571098                 NaN                 NaN                       NaN   \n",
              "\n",
              "         recycling:plastic_bottles recycling:plastic_packaging  \\\n",
              "4491084                        NaN                         NaN   \n",
              "5853273                        NaN                         NaN   \n",
              "8584474                        NaN                         NaN   \n",
              "8584697                        NaN                         NaN   \n",
              "9825589                        NaN                         NaN   \n",
              "9827378                        NaN                         NaN   \n",
              "10062281                       NaN                         NaN   \n",
              "10243904                       NaN                         NaN   \n",
              "10511274                       NaN                         NaN   \n",
              "10571098                       NaN                         NaN   \n",
              "\n",
              "         recycling:scrap_metal recycling:small_appliances recycling:waste  \\\n",
              "4491084                    NaN                        NaN             NaN   \n",
              "5853273                    NaN                        NaN             NaN   \n",
              "8584474                    NaN                        NaN             NaN   \n",
              "8584697                    NaN                        NaN             NaN   \n",
              "9825589                    NaN                        NaN             NaN   \n",
              "9827378                    NaN                        NaN             NaN   \n",
              "10062281                   NaN                        NaN             NaN   \n",
              "10243904                   NaN                        NaN             NaN   \n",
              "10511274                   NaN                        NaN             NaN   \n",
              "10571098                   NaN                        NaN             NaN   \n",
              "\n",
              "         recycling:wood  \n",
              "4491084             NaN  \n",
              "5853273             NaN  \n",
              "8584474             NaN  \n",
              "8584697             NaN  \n",
              "9825589             NaN  \n",
              "9827378             NaN  \n",
              "10062281            NaN  \n",
              "10243904            NaN  \n",
              "10511274            NaN  \n",
              "10571098            NaN  \n",
              "\n",
              "[10 rows x 225 columns]"
            ],
            "text/html": [
              "\n",
              "  <div id=\"df-dc957443-46de-4c49-902d-c697156afb50\">\n",
              "    <div class=\"colab-df-container\">\n",
              "      <div>\n",
              "<style scoped>\n",
              "    .dataframe tbody tr th:only-of-type {\n",
              "        vertical-align: middle;\n",
              "    }\n",
              "\n",
              "    .dataframe tbody tr th {\n",
              "        vertical-align: top;\n",
              "    }\n",
              "\n",
              "    .dataframe thead th {\n",
              "        text-align: right;\n",
              "    }\n",
              "</style>\n",
              "<table border=\"1\" class=\"dataframe\">\n",
              "  <thead>\n",
              "    <tr style=\"text-align: right;\">\n",
              "      <th></th>\n",
              "      <th>nodes</th>\n",
              "      <th>landuse</th>\n",
              "      <th>name</th>\n",
              "      <th>shop</th>\n",
              "      <th>geometry</th>\n",
              "      <th>addr:postcode</th>\n",
              "      <th>addr:street</th>\n",
              "      <th>email</th>\n",
              "      <th>phone</th>\n",
              "      <th>website</th>\n",
              "      <th>...</th>\n",
              "      <th>recycling:green_waste</th>\n",
              "      <th>recycling:magazines</th>\n",
              "      <th>recycling:newspaper</th>\n",
              "      <th>recycling:paper_packaging</th>\n",
              "      <th>recycling:plastic_bottles</th>\n",
              "      <th>recycling:plastic_packaging</th>\n",
              "      <th>recycling:scrap_metal</th>\n",
              "      <th>recycling:small_appliances</th>\n",
              "      <th>recycling:waste</th>\n",
              "      <th>recycling:wood</th>\n",
              "    </tr>\n",
              "  </thead>\n",
              "  <tbody>\n",
              "    <tr>\n",
              "      <th>4491084</th>\n",
              "      <td>[27532206, 2752905824, 2752905783, 27532213, 2...</td>\n",
              "      <td>retail</td>\n",
              "      <td>Roselawn Shopping Centre</td>\n",
              "      <td>mall</td>\n",
              "      <td>POLYGON ((-6.38269 53.38390, -6.38252 53.38363...</td>\n",
              "      <td>NaN</td>\n",
              "      <td>NaN</td>\n",
              "      <td>NaN</td>\n",
              "      <td>NaN</td>\n",
              "      <td>NaN</td>\n",
              "      <td>...</td>\n",
              "      <td>NaN</td>\n",
              "      <td>NaN</td>\n",
              "      <td>NaN</td>\n",
              "      <td>NaN</td>\n",
              "      <td>NaN</td>\n",
              "      <td>NaN</td>\n",
              "      <td>NaN</td>\n",
              "      <td>NaN</td>\n",
              "      <td>NaN</td>\n",
              "      <td>NaN</td>\n",
              "    </tr>\n",
              "    <tr>\n",
              "      <th>5853273</th>\n",
              "      <td>[47165787, 47165789, 5048615199, 5048615198, 2...</td>\n",
              "      <td>retail</td>\n",
              "      <td>Nutgrove Shopping Centre</td>\n",
              "      <td>mall</td>\n",
              "      <td>POLYGON ((-6.26589 53.28945, -6.26622 53.28945...</td>\n",
              "      <td>D14 F5X7</td>\n",
              "      <td>Nutgrove Way</td>\n",
              "      <td>info@nutgroveshoppingcentre.ie</td>\n",
              "      <td>+353-1-4933289</td>\n",
              "      <td>https://nutgroveshoppingcentre.ie/</td>\n",
              "      <td>...</td>\n",
              "      <td>NaN</td>\n",
              "      <td>NaN</td>\n",
              "      <td>NaN</td>\n",
              "      <td>NaN</td>\n",
              "      <td>NaN</td>\n",
              "      <td>NaN</td>\n",
              "      <td>NaN</td>\n",
              "      <td>NaN</td>\n",
              "      <td>NaN</td>\n",
              "      <td>NaN</td>\n",
              "    </tr>\n",
              "    <tr>\n",
              "      <th>8584474</th>\n",
              "      <td>[60936858, 60936859, 60936860, 60936861, 26265...</td>\n",
              "      <td>recreation_ground</td>\n",
              "      <td>NaN</td>\n",
              "      <td>NaN</td>\n",
              "      <td>POLYGON ((-6.24418 53.28521, -6.24412 53.28494...</td>\n",
              "      <td>NaN</td>\n",
              "      <td>NaN</td>\n",
              "      <td>NaN</td>\n",
              "      <td>NaN</td>\n",
              "      <td>NaN</td>\n",
              "      <td>...</td>\n",
              "      <td>NaN</td>\n",
              "      <td>NaN</td>\n",
              "      <td>NaN</td>\n",
              "      <td>NaN</td>\n",
              "      <td>NaN</td>\n",
              "      <td>NaN</td>\n",
              "      <td>NaN</td>\n",
              "      <td>NaN</td>\n",
              "      <td>NaN</td>\n",
              "      <td>NaN</td>\n",
              "    </tr>\n",
              "    <tr>\n",
              "      <th>8584697</th>\n",
              "      <td>[60938206, 3292039034, 3292039032, 3292039031,...</td>\n",
              "      <td>grass</td>\n",
              "      <td>NaN</td>\n",
              "      <td>NaN</td>\n",
              "      <td>POLYGON ((-6.23726 53.28293, -6.23727 53.28288...</td>\n",
              "      <td>NaN</td>\n",
              "      <td>NaN</td>\n",
              "      <td>NaN</td>\n",
              "      <td>NaN</td>\n",
              "      <td>NaN</td>\n",
              "      <td>...</td>\n",
              "      <td>NaN</td>\n",
              "      <td>NaN</td>\n",
              "      <td>NaN</td>\n",
              "      <td>NaN</td>\n",
              "      <td>NaN</td>\n",
              "      <td>NaN</td>\n",
              "      <td>NaN</td>\n",
              "      <td>NaN</td>\n",
              "      <td>NaN</td>\n",
              "      <td>NaN</td>\n",
              "    </tr>\n",
              "    <tr>\n",
              "      <th>9825589</th>\n",
              "      <td>[1499510455, 1499510456, 4788904707, 149951045...</td>\n",
              "      <td>grass</td>\n",
              "      <td>.</td>\n",
              "      <td>NaN</td>\n",
              "      <td>POLYGON ((-6.32154 53.29953, -6.32096 53.29949...</td>\n",
              "      <td>NaN</td>\n",
              "      <td>NaN</td>\n",
              "      <td>NaN</td>\n",
              "      <td>NaN</td>\n",
              "      <td>NaN</td>\n",
              "      <td>...</td>\n",
              "      <td>NaN</td>\n",
              "      <td>NaN</td>\n",
              "      <td>NaN</td>\n",
              "      <td>NaN</td>\n",
              "      <td>NaN</td>\n",
              "      <td>NaN</td>\n",
              "      <td>NaN</td>\n",
              "      <td>NaN</td>\n",
              "      <td>NaN</td>\n",
              "      <td>NaN</td>\n",
              "    </tr>\n",
              "    <tr>\n",
              "      <th>9827378</th>\n",
              "      <td>[78514745, 4779997461, 4779997476, 4779997477,...</td>\n",
              "      <td>retail</td>\n",
              "      <td>Orwell Shopping Centre</td>\n",
              "      <td>NaN</td>\n",
              "      <td>POLYGON ((-6.32083 53.29869, -6.32126 53.29873...</td>\n",
              "      <td>NaN</td>\n",
              "      <td>NaN</td>\n",
              "      <td>NaN</td>\n",
              "      <td>NaN</td>\n",
              "      <td>NaN</td>\n",
              "      <td>...</td>\n",
              "      <td>NaN</td>\n",
              "      <td>NaN</td>\n",
              "      <td>NaN</td>\n",
              "      <td>NaN</td>\n",
              "      <td>NaN</td>\n",
              "      <td>NaN</td>\n",
              "      <td>NaN</td>\n",
              "      <td>NaN</td>\n",
              "      <td>NaN</td>\n",
              "      <td>NaN</td>\n",
              "    </tr>\n",
              "    <tr>\n",
              "      <th>10062281</th>\n",
              "      <td>[82689631, 2984883781, 2377975405, 2377975365,...</td>\n",
              "      <td>grass</td>\n",
              "      <td>NaN</td>\n",
              "      <td>NaN</td>\n",
              "      <td>POLYGON ((-6.31404 53.30316, -6.31461 53.30331...</td>\n",
              "      <td>NaN</td>\n",
              "      <td>NaN</td>\n",
              "      <td>NaN</td>\n",
              "      <td>NaN</td>\n",
              "      <td>NaN</td>\n",
              "      <td>...</td>\n",
              "      <td>NaN</td>\n",
              "      <td>NaN</td>\n",
              "      <td>NaN</td>\n",
              "      <td>NaN</td>\n",
              "      <td>NaN</td>\n",
              "      <td>NaN</td>\n",
              "      <td>NaN</td>\n",
              "      <td>NaN</td>\n",
              "      <td>NaN</td>\n",
              "      <td>NaN</td>\n",
              "    </tr>\n",
              "    <tr>\n",
              "      <th>10243904</th>\n",
              "      <td>[84906705, 84906707, 84906709, 84906710, 30953...</td>\n",
              "      <td>forest</td>\n",
              "      <td>Three Rock Wood</td>\n",
              "      <td>NaN</td>\n",
              "      <td>POLYGON ((-6.24795 53.25192, -6.24970 53.25395...</td>\n",
              "      <td>NaN</td>\n",
              "      <td>NaN</td>\n",
              "      <td>NaN</td>\n",
              "      <td>NaN</td>\n",
              "      <td>NaN</td>\n",
              "      <td>...</td>\n",
              "      <td>NaN</td>\n",
              "      <td>NaN</td>\n",
              "      <td>NaN</td>\n",
              "      <td>NaN</td>\n",
              "      <td>NaN</td>\n",
              "      <td>NaN</td>\n",
              "      <td>NaN</td>\n",
              "      <td>NaN</td>\n",
              "      <td>NaN</td>\n",
              "      <td>NaN</td>\n",
              "    </tr>\n",
              "    <tr>\n",
              "      <th>10511274</th>\n",
              "      <td>[4851984706, 8607478348, 8607478347, 860747835...</td>\n",
              "      <td>grass</td>\n",
              "      <td>NaN</td>\n",
              "      <td>NaN</td>\n",
              "      <td>POLYGON ((-6.31631 53.30689, -6.31610 53.30697...</td>\n",
              "      <td>NaN</td>\n",
              "      <td>NaN</td>\n",
              "      <td>NaN</td>\n",
              "      <td>NaN</td>\n",
              "      <td>NaN</td>\n",
              "      <td>...</td>\n",
              "      <td>NaN</td>\n",
              "      <td>NaN</td>\n",
              "      <td>NaN</td>\n",
              "      <td>NaN</td>\n",
              "      <td>NaN</td>\n",
              "      <td>NaN</td>\n",
              "      <td>NaN</td>\n",
              "      <td>NaN</td>\n",
              "      <td>NaN</td>\n",
              "      <td>NaN</td>\n",
              "    </tr>\n",
              "    <tr>\n",
              "      <th>10571098</th>\n",
              "      <td>[2789799529, 2789799531, 2789799533, 278979953...</td>\n",
              "      <td>recreation_ground</td>\n",
              "      <td>NaN</td>\n",
              "      <td>NaN</td>\n",
              "      <td>POLYGON ((-6.28829 53.31562, -6.28867 53.31565...</td>\n",
              "      <td>NaN</td>\n",
              "      <td>NaN</td>\n",
              "      <td>NaN</td>\n",
              "      <td>NaN</td>\n",
              "      <td>NaN</td>\n",
              "      <td>...</td>\n",
              "      <td>NaN</td>\n",
              "      <td>NaN</td>\n",
              "      <td>NaN</td>\n",
              "      <td>NaN</td>\n",
              "      <td>NaN</td>\n",
              "      <td>NaN</td>\n",
              "      <td>NaN</td>\n",
              "      <td>NaN</td>\n",
              "      <td>NaN</td>\n",
              "      <td>NaN</td>\n",
              "    </tr>\n",
              "  </tbody>\n",
              "</table>\n",
              "<p>10 rows × 225 columns</p>\n",
              "</div>\n",
              "      <button class=\"colab-df-convert\" onclick=\"convertToInteractive('df-dc957443-46de-4c49-902d-c697156afb50')\"\n",
              "              title=\"Convert this dataframe to an interactive table.\"\n",
              "              style=\"display:none;\">\n",
              "        \n",
              "  <svg xmlns=\"http://www.w3.org/2000/svg\" height=\"24px\"viewBox=\"0 0 24 24\"\n",
              "       width=\"24px\">\n",
              "    <path d=\"M0 0h24v24H0V0z\" fill=\"none\"/>\n",
              "    <path d=\"M18.56 5.44l.94 2.06.94-2.06 2.06-.94-2.06-.94-.94-2.06-.94 2.06-2.06.94zm-11 1L8.5 8.5l.94-2.06 2.06-.94-2.06-.94L8.5 2.5l-.94 2.06-2.06.94zm10 10l.94 2.06.94-2.06 2.06-.94-2.06-.94-.94-2.06-.94 2.06-2.06.94z\"/><path d=\"M17.41 7.96l-1.37-1.37c-.4-.4-.92-.59-1.43-.59-.52 0-1.04.2-1.43.59L10.3 9.45l-7.72 7.72c-.78.78-.78 2.05 0 2.83L4 21.41c.39.39.9.59 1.41.59.51 0 1.02-.2 1.41-.59l7.78-7.78 2.81-2.81c.8-.78.8-2.07 0-2.86zM5.41 20L4 18.59l7.72-7.72 1.47 1.35L5.41 20z\"/>\n",
              "  </svg>\n",
              "      </button>\n",
              "      \n",
              "  <style>\n",
              "    .colab-df-container {\n",
              "      display:flex;\n",
              "      flex-wrap:wrap;\n",
              "      gap: 12px;\n",
              "    }\n",
              "\n",
              "    .colab-df-convert {\n",
              "      background-color: #E8F0FE;\n",
              "      border: none;\n",
              "      border-radius: 50%;\n",
              "      cursor: pointer;\n",
              "      display: none;\n",
              "      fill: #1967D2;\n",
              "      height: 32px;\n",
              "      padding: 0 0 0 0;\n",
              "      width: 32px;\n",
              "    }\n",
              "\n",
              "    .colab-df-convert:hover {\n",
              "      background-color: #E2EBFA;\n",
              "      box-shadow: 0px 1px 2px rgba(60, 64, 67, 0.3), 0px 1px 3px 1px rgba(60, 64, 67, 0.15);\n",
              "      fill: #174EA6;\n",
              "    }\n",
              "\n",
              "    [theme=dark] .colab-df-convert {\n",
              "      background-color: #3B4455;\n",
              "      fill: #D2E3FC;\n",
              "    }\n",
              "\n",
              "    [theme=dark] .colab-df-convert:hover {\n",
              "      background-color: #434B5C;\n",
              "      box-shadow: 0px 1px 3px 1px rgba(0, 0, 0, 0.15);\n",
              "      filter: drop-shadow(0px 1px 2px rgba(0, 0, 0, 0.3));\n",
              "      fill: #FFFFFF;\n",
              "    }\n",
              "  </style>\n",
              "\n",
              "      <script>\n",
              "        const buttonEl =\n",
              "          document.querySelector('#df-dc957443-46de-4c49-902d-c697156afb50 button.colab-df-convert');\n",
              "        buttonEl.style.display =\n",
              "          google.colab.kernel.accessAllowed ? 'block' : 'none';\n",
              "\n",
              "        async function convertToInteractive(key) {\n",
              "          const element = document.querySelector('#df-dc957443-46de-4c49-902d-c697156afb50');\n",
              "          const dataTable =\n",
              "            await google.colab.kernel.invokeFunction('convertToInteractive',\n",
              "                                                     [key], {});\n",
              "          if (!dataTable) return;\n",
              "\n",
              "          const docLinkHtml = 'Like what you see? Visit the ' +\n",
              "            '<a target=\"_blank\" href=https://colab.research.google.com/notebooks/data_table.ipynb>data table notebook</a>'\n",
              "            + ' to learn more about interactive tables.';\n",
              "          element.innerHTML = '';\n",
              "          dataTable['output_type'] = 'display_data';\n",
              "          await google.colab.output.renderOutput(dataTable, element);\n",
              "          const docLink = document.createElement('div');\n",
              "          docLink.innerHTML = docLinkHtml;\n",
              "          element.appendChild(docLink);\n",
              "        }\n",
              "      </script>\n",
              "    </div>\n",
              "  </div>\n",
              "  "
            ]
          },
          "metadata": {},
          "execution_count": 20
        }
      ]
    },
    {
      "cell_type": "markdown",
      "source": [
        "**Locate Footprint**"
      ],
      "metadata": {
        "id": "dNWHVUhmvjyb"
      }
    },
    {
      "cell_type": "code",
      "metadata": {
        "id": "V2M5dT3Bvpzz",
        "outputId": "37cc4db0-f084-4043-ca2b-372e26b1afd6",
        "colab": {
          "base_uri": "https://localhost:8080/",
          "height": 866
        }
      },
      "source": [
        "# plot and locate the footprint using folium\n",
        "m = folium.Map(\n",
        "   location=point,\n",
        "   zoom_start=12,\n",
        "   tiles='OpenStreetMap',\n",
        "   attr='Mapbox attribution')\n",
        "folium.map.FitBounds([-6.3867115, 53.2990801, -6.1188691, 53.4100279]).add_to(m)\n",
        "# folium.GeoJson(landuse_projected).add_to(m)\n",
        "m.save(\"Dublin_OSI.png\")\n",
        "m"
      ],
      "execution_count": 23,
      "outputs": [
        {
          "output_type": "execute_result",
          "data": {
            "text/plain": [
              "<folium.folium.Map at 0x7f8721c24650>"
            ],
            "text/html": [
              "<div style=\"width:100%;\"><div style=\"position:relative;width:100%;height:0;padding-bottom:60%;\"><span style=\"color:#565656\">Make this Notebook Trusted to load map: File -> Trust Notebook</span><iframe srcdoc=\"&lt;!DOCTYPE html&gt;\n",
              "&lt;head&gt;    \n",
              "    &lt;meta http-equiv=&quot;content-type&quot; content=&quot;text/html; charset=UTF-8&quot; /&gt;\n",
              "    \n",
              "        &lt;script&gt;\n",
              "            L_NO_TOUCH = false;\n",
              "            L_DISABLE_3D = false;\n",
              "        &lt;/script&gt;\n",
              "    \n",
              "    &lt;style&gt;html, body {width: 100%;height: 100%;margin: 0;padding: 0;}&lt;/style&gt;\n",
              "    &lt;style&gt;#map {position:absolute;top:0;bottom:0;right:0;left:0;}&lt;/style&gt;\n",
              "    &lt;script src=&quot;https://cdn.jsdelivr.net/npm/leaflet@1.6.0/dist/leaflet.js&quot;&gt;&lt;/script&gt;\n",
              "    &lt;script src=&quot;https://code.jquery.com/jquery-1.12.4.min.js&quot;&gt;&lt;/script&gt;\n",
              "    &lt;script src=&quot;https://maxcdn.bootstrapcdn.com/bootstrap/3.2.0/js/bootstrap.min.js&quot;&gt;&lt;/script&gt;\n",
              "    &lt;script src=&quot;https://cdnjs.cloudflare.com/ajax/libs/Leaflet.awesome-markers/2.0.2/leaflet.awesome-markers.js&quot;&gt;&lt;/script&gt;\n",
              "    &lt;link rel=&quot;stylesheet&quot; href=&quot;https://cdn.jsdelivr.net/npm/leaflet@1.6.0/dist/leaflet.css&quot;/&gt;\n",
              "    &lt;link rel=&quot;stylesheet&quot; href=&quot;https://maxcdn.bootstrapcdn.com/bootstrap/3.2.0/css/bootstrap.min.css&quot;/&gt;\n",
              "    &lt;link rel=&quot;stylesheet&quot; href=&quot;https://maxcdn.bootstrapcdn.com/bootstrap/3.2.0/css/bootstrap-theme.min.css&quot;/&gt;\n",
              "    &lt;link rel=&quot;stylesheet&quot; href=&quot;https://maxcdn.bootstrapcdn.com/font-awesome/4.6.3/css/font-awesome.min.css&quot;/&gt;\n",
              "    &lt;link rel=&quot;stylesheet&quot; href=&quot;https://cdnjs.cloudflare.com/ajax/libs/Leaflet.awesome-markers/2.0.2/leaflet.awesome-markers.css&quot;/&gt;\n",
              "    &lt;link rel=&quot;stylesheet&quot; href=&quot;https://cdn.jsdelivr.net/gh/python-visualization/folium/folium/templates/leaflet.awesome.rotate.min.css&quot;/&gt;\n",
              "    \n",
              "            &lt;meta name=&quot;viewport&quot; content=&quot;width=device-width,\n",
              "                initial-scale=1.0, maximum-scale=1.0, user-scalable=no&quot; /&gt;\n",
              "            &lt;style&gt;\n",
              "                #map_f4b819a2aa01546174447216778633fe {\n",
              "                    position: relative;\n",
              "                    width: 100.0%;\n",
              "                    height: 100.0%;\n",
              "                    left: 0.0%;\n",
              "                    top: 0.0%;\n",
              "                }\n",
              "            &lt;/style&gt;\n",
              "        \n",
              "&lt;/head&gt;\n",
              "&lt;body&gt;    \n",
              "    \n",
              "            &lt;div class=&quot;folium-map&quot; id=&quot;map_f4b819a2aa01546174447216778633fe&quot; &gt;&lt;/div&gt;\n",
              "        \n",
              "&lt;/body&gt;\n",
              "&lt;script&gt;    \n",
              "    \n",
              "            var map_f4b819a2aa01546174447216778633fe = L.map(\n",
              "                &quot;map_f4b819a2aa01546174447216778633fe&quot;,\n",
              "                {\n",
              "                    center: [53.2990801, -6.3867115],\n",
              "                    crs: L.CRS.EPSG3857,\n",
              "                    zoom: 12,\n",
              "                    zoomControl: true,\n",
              "                    preferCanvas: false,\n",
              "                }\n",
              "            );\n",
              "\n",
              "            \n",
              "\n",
              "        \n",
              "    \n",
              "            var tile_layer_290022d79d14cd601b623c59814261d4 = L.tileLayer(\n",
              "                &quot;https://{s}.tile.openstreetmap.org/{z}/{x}/{y}.png&quot;,\n",
              "                {&quot;attribution&quot;: &quot;Data by \\u0026copy; \\u003ca href=\\&quot;http://openstreetmap.org\\&quot;\\u003eOpenStreetMap\\u003c/a\\u003e, under \\u003ca href=\\&quot;http://www.openstreetmap.org/copyright\\&quot;\\u003eODbL\\u003c/a\\u003e.&quot;, &quot;detectRetina&quot;: false, &quot;maxNativeZoom&quot;: 18, &quot;maxZoom&quot;: 18, &quot;minZoom&quot;: 0, &quot;noWrap&quot;: false, &quot;opacity&quot;: 1, &quot;subdomains&quot;: &quot;abc&quot;, &quot;tms&quot;: false}\n",
              "            ).addTo(map_f4b819a2aa01546174447216778633fe);\n",
              "        \n",
              "    \n",
              "            map_f4b819a2aa01546174447216778633fe.fitBounds(\n",
              "                [-6.3867115, 53.2990801, -6.1188691, 53.4100279],\n",
              "                {}\n",
              "            );\n",
              "        \n",
              "&lt;/script&gt;\" style=\"position:absolute;width:100%;height:100%;left:0;top:0;border:none !important;\" allowfullscreen webkitallowfullscreen mozallowfullscreen></iframe></div></div>"
            ]
          },
          "metadata": {},
          "execution_count": 23
        }
      ]
    },
    {
      "cell_type": "code",
      "metadata": {
        "id": "UwTiLiLXvrpr",
        "outputId": "efc0a288-21e5-4ffa-893b-97eccd1d455f",
        "colab": {
          "base_uri": "https://localhost:8080/",
          "height": 121
        }
      },
      "source": [
        "footprint = None\n",
        "for i in landuse_projected['geometry']:\n",
        "    footprint = i\n",
        "    \n",
        "footprint"
      ],
      "execution_count": 24,
      "outputs": [
        {
          "output_type": "execute_result",
          "data": {
            "text/plain": [
              "<shapely.geometry.polygon.Polygon at 0x7f871ec23990>"
            ],
            "image/svg+xml": "<svg xmlns=\"http://www.w3.org/2000/svg\" xmlns:xlink=\"http://www.w3.org/1999/xlink\" width=\"100.0\" height=\"100.0\" viewBox=\"-6.322471572 53.291090628 0.0018001440000006141 0.0015258440000067708\" preserveAspectRatio=\"xMinYMin meet\"><g transform=\"matrix(1,0,0,-1,0,106.5837071)\"><path fill-rule=\"evenodd\" fill=\"#66cc99\" stroke=\"#555555\" stroke-width=\"3.6002880000012284e-05\" opacity=\"0.6\" d=\"M -6.3215132,53.291724 L -6.3215302,53.2917948 L -6.3214759,53.2918082 L -6.3215076,53.2918545 L -6.3215457,53.2918455 L -6.321584,53.2919036 L -6.3211888,53.2919947 L -6.3211541,53.2919377 L -6.3211283,53.291943 L -6.3210059,53.2919795 L -6.32125,53.2923918 L -6.3213416,53.2925301 L -6.3212987,53.2925396 L -6.3212527,53.2925498 L -6.3212589,53.2925334 L -6.3207381,53.2916537 L -6.3208082,53.2916315 L -6.3211179,53.2915335 L -6.3219567,53.2912197 L -6.3221233,53.2911573 L -6.3221842,53.2912212 L -6.3223739,53.2914204 L -6.3223849,53.2914319 L -6.3224049,53.2914503 L -6.3222562,53.291513 L -6.3222402,53.2914982 L -6.3222222,53.291504 L -6.3221364,53.2915336 L -6.3222169,53.2916274 L -6.3220165,53.2917103 L -6.3220055,53.2916978 L -6.3218847,53.2915473 L -6.321556,53.2916405 L -6.321585,53.2916797 L -6.3214984,53.2916985 L -6.3215132,53.291724 z\" /></g></svg>"
          },
          "metadata": {},
          "execution_count": 24
        }
      ]
    },
    {
      "cell_type": "markdown",
      "metadata": {
        "id": "jHbQrUwTRu1W"
      },
      "source": [
        "#Product types to perform a product based search\n",
        "    # Possible values are\n",
        "    #   L2__O3____\n",
        "    #   L2__NO2___\n",
        "    #   L2__SO2___\n",
        "    #   L2__CO____\n",
        "    #   L2__CH4___\n",
        "    #   L2__HCHO__\n",
        "    #   L2__AER_AI\n",
        "    #   L2__CLOUD_\n",
        "\n",
        "#Date formats to perform a time interval search\n",
        "    # The general form to be used is:\n",
        "    #       date=(<timestamp>, <timestamp>)\n",
        "    # where < timestamp > can be expressed in one of the following formats:\n",
        "    #   yyyyMMdd\n",
        "    #   yyyy-MM-ddThh:mm:ssZ\n",
        "    #   yyyy-MM-ddThh:mm:ss.SSSZ(ISO8601 format)\n",
        "    #   NOW\n",
        "    #   NOW-<n>MINUTE(S)\n",
        "    #   NOW-<n>HOUR(S)\n",
        "    #   NOW-<n>DAY(S)\n",
        "    #   NOW-<n>MONTH(S)"
      ]
    },
    {
      "cell_type": "markdown",
      "source": [
        "**Pre-processing**"
      ],
      "metadata": {
        "id": "UqLP-JsYwCfe"
      }
    },
    {
      "cell_type": "code",
      "metadata": {
        "id": "bQSjXm0zqToD",
        "colab": {
          "base_uri": "https://localhost:8080/",
          "height": 49,
          "referenced_widgets": [
            "573d3cb7cce44e20b091d64396107791",
            "7b31a50d145f4cfe989ed2f559136333",
            "3d04529103a240f38378926f95f2c11a",
            "1a8244f1e5ac4121913533a842c181dd",
            "44f4a64c70d641888adc7852f411af74",
            "b232fbcb06984b59a0bdfa36ed8286ac",
            "0c55f130b46e41c6b399d695d1a9cebf",
            "46f7bf8b0bcd493f9e2f3a66713ec54c",
            "097bb8ddbbdc477492b2c22633eb4281",
            "2814be77598349ec97b808f499e9b004",
            "37c076011b4149b6988f11dc1ee696df"
          ]
        },
        "outputId": "14e03a7a-12a7-40cf-d464-acec64f754de"
      },
      "source": [
        "#Get the product for NO2 emission\n",
        "products_NO2 = api.query(footprint,\n",
        "                     date=('20200701', '20200806'),\n",
        "                     platformname='Sentinel-5 Precursor',\n",
        "                     processinglevel = 'L2',\n",
        "                     producttype= 'L2__NO2___',\n",
        "                     processingmode= 'Offline')  #'NRT'\n",
        "        \n",
        "\n",
        "                     "
      ],
      "execution_count": 25,
      "outputs": [
        {
          "output_type": "display_data",
          "data": {
            "text/plain": [
              "Querying products:  93%|#########2| 100/108 [00:00<?, ?product/s]"
            ],
            "application/vnd.jupyter.widget-view+json": {
              "version_major": 2,
              "version_minor": 0,
              "model_id": "573d3cb7cce44e20b091d64396107791"
            }
          },
          "metadata": {}
        }
      ]
    },
    {
      "cell_type": "code",
      "metadata": {
        "id": "mLs8tQOwS3fr",
        "colab": {
          "base_uri": "https://localhost:8080/",
          "height": 49,
          "referenced_widgets": [
            "3e4966db9a394d128ce1d8f9b391a776",
            "a9252ae9589d408599b0c1fe3c1b8da8",
            "332e6334f1de45ecbf1dc2e2f7fda70f",
            "c7f50d5e625140a794dbf0992a0a77e5",
            "6446c627dd584f17bfd987086eb11932",
            "984d390228d7478f8b2dbfb4a18c9d98",
            "fce66aca798e4612b6feb3a5b8a728bb",
            "85624d159a9b4949bce91faf6af60520",
            "8286f06bb77a4e33b89328df66b1a131",
            "951ae7feda424994b0b2f6c4fbad75ca",
            "8006528b43b74a12a8d0217794ffac12"
          ]
        },
        "outputId": "2e2228c8-1480-4d9c-d268-6c066ae6a193"
      },
      "source": [
        "#Get the product for CH4 emission\n",
        "products_CH4 = api.query(footprint,\n",
        "                     date=('20200701', '20200806'),\n",
        "                     platformname='Sentinel-5 Precursor',\n",
        "                     processinglevel = 'L2',\n",
        "                     producttype= 'L2__CH4___',\n",
        "                     processingmode= 'Offline')"
      ],
      "execution_count": 26,
      "outputs": [
        {
          "output_type": "display_data",
          "data": {
            "text/plain": [
              "Querying products:  94%|#########4| 100/106 [00:00<?, ?product/s]"
            ],
            "application/vnd.jupyter.widget-view+json": {
              "version_major": 2,
              "version_minor": 0,
              "model_id": "3e4966db9a394d128ce1d8f9b391a776"
            }
          },
          "metadata": {}
        }
      ]
    },
    {
      "cell_type": "code",
      "metadata": {
        "id": "RO2AEN7HqdMb",
        "outputId": "ab3f4149-8c9c-4cd0-965d-d3e69be3e81b",
        "colab": {
          "base_uri": "https://localhost:8080/"
        }
      },
      "source": [
        "#Check the length of products for each of the emissions\n",
        "\n",
        "print(\"NO2 products: %d\" %len(products_NO2),'\\n' \"CH4 products: %d\" %len(products_CH4))"
      ],
      "execution_count": 27,
      "outputs": [
        {
          "output_type": "stream",
          "name": "stdout",
          "text": [
            "NO2 products: 108 \n",
            "CH4 products: 106\n"
          ]
        }
      ]
    },
    {
      "cell_type": "code",
      "metadata": {
        "id": "22Ps1CVNv3Im",
        "outputId": "d8912fe4-c80e-4d35-e62b-2cda60071429",
        "colab": {
          "base_uri": "https://localhost:8080/",
          "height": 647
        }
      },
      "source": [
        "#NO2 dataframe\n",
        "# Create a GeodataFrame or Dataframe from the products dictionary and sort them according to ingestion date\n",
        "\n",
        "products_gdf_NO2 = api.to_geodataframe(products_NO2)\n",
        "products_gdf_NO2_sorted = products_gdf_NO2.sort_values(['ingestiondate'], ascending=[False])\n",
        "products_gdf_NO2_sorted.head(5)\n"
      ],
      "execution_count": 28,
      "outputs": [
        {
          "output_type": "execute_result",
          "data": {
            "text/plain": [
              "                                                                                  title  \\\n",
              "476935cb-d2f7-4ebc-b3a9-d79ec3250fbe  S5P_OFFL_L2__NO2____20200704T132808_20200704T1...   \n",
              "03a7d1b3-5728-4c8f-9e1d-1b027bd35836  S5P_OFFL_L2__NO2____20200704T114638_20200704T1...   \n",
              "b635ccfd-2744-4301-b8aa-7878bf3ff857  S5P_OFFL_L2__NO2____20200704T013740_20200704T0...   \n",
              "844e5960-906e-4324-a171-2c39970ec2f9  S5P_OFFL_L2__NO2____20200805T132611_20200805T1...   \n",
              "00cbad09-ebfe-4275-8914-a0c645dcc1aa  S5P_OFFL_L2__NO2____20200805T114441_20200805T1...   \n",
              "\n",
              "                                                                                   link  \\\n",
              "476935cb-d2f7-4ebc-b3a9-d79ec3250fbe  https://s5phub.copernicus.eu/dhus/odata/v1/Pro...   \n",
              "03a7d1b3-5728-4c8f-9e1d-1b027bd35836  https://s5phub.copernicus.eu/dhus/odata/v1/Pro...   \n",
              "b635ccfd-2744-4301-b8aa-7878bf3ff857  https://s5phub.copernicus.eu/dhus/odata/v1/Pro...   \n",
              "844e5960-906e-4324-a171-2c39970ec2f9  https://s5phub.copernicus.eu/dhus/odata/v1/Pro...   \n",
              "00cbad09-ebfe-4275-8914-a0c645dcc1aa  https://s5phub.copernicus.eu/dhus/odata/v1/Pro...   \n",
              "\n",
              "                                                                       link_alternative  \\\n",
              "476935cb-d2f7-4ebc-b3a9-d79ec3250fbe  https://s5phub.copernicus.eu/dhus/odata/v1/Pro...   \n",
              "03a7d1b3-5728-4c8f-9e1d-1b027bd35836  https://s5phub.copernicus.eu/dhus/odata/v1/Pro...   \n",
              "b635ccfd-2744-4301-b8aa-7878bf3ff857  https://s5phub.copernicus.eu/dhus/odata/v1/Pro...   \n",
              "844e5960-906e-4324-a171-2c39970ec2f9  https://s5phub.copernicus.eu/dhus/odata/v1/Pro...   \n",
              "00cbad09-ebfe-4275-8914-a0c645dcc1aa  https://s5phub.copernicus.eu/dhus/odata/v1/Pro...   \n",
              "\n",
              "                                                                              link_icon  \\\n",
              "476935cb-d2f7-4ebc-b3a9-d79ec3250fbe  https://s5phub.copernicus.eu/dhus/odata/v1/Pro...   \n",
              "03a7d1b3-5728-4c8f-9e1d-1b027bd35836  https://s5phub.copernicus.eu/dhus/odata/v1/Pro...   \n",
              "b635ccfd-2744-4301-b8aa-7878bf3ff857  https://s5phub.copernicus.eu/dhus/odata/v1/Pro...   \n",
              "844e5960-906e-4324-a171-2c39970ec2f9  https://s5phub.copernicus.eu/dhus/odata/v1/Pro...   \n",
              "00cbad09-ebfe-4275-8914-a0c645dcc1aa  https://s5phub.copernicus.eu/dhus/odata/v1/Pro...   \n",
              "\n",
              "                                                                                summary  \\\n",
              "476935cb-d2f7-4ebc-b3a9-d79ec3250fbe  Date: 2020-07-04T13:49:42Z, Instrument: TROPOM...   \n",
              "03a7d1b3-5728-4c8f-9e1d-1b027bd35836  Date: 2020-07-04T12:08:13Z, Instrument: TROPOM...   \n",
              "b635ccfd-2744-4301-b8aa-7878bf3ff857  Date: 2020-07-04T01:59:15Z, Instrument: TROPOM...   \n",
              "844e5960-906e-4324-a171-2c39970ec2f9  Date: 2020-08-05T13:47:45Z, Instrument: TROPOM...   \n",
              "00cbad09-ebfe-4275-8914-a0c645dcc1aa  Date: 2020-08-05T12:06:16Z, Instrument: TROPOM...   \n",
              "\n",
              "                                     ondemand           ingestiondate  \\\n",
              "476935cb-d2f7-4ebc-b3a9-d79ec3250fbe    false 2020-09-14 10:12:34.285   \n",
              "03a7d1b3-5728-4c8f-9e1d-1b027bd35836    false 2020-09-14 10:12:30.559   \n",
              "b635ccfd-2744-4301-b8aa-7878bf3ff857    false 2020-09-14 10:11:49.754   \n",
              "844e5960-906e-4324-a171-2c39970ec2f9    false 2020-08-15 22:10:47.738   \n",
              "00cbad09-ebfe-4275-8914-a0c645dcc1aa    false 2020-08-15 18:06:50.399   \n",
              "\n",
              "                                           beginposition         endposition  \\\n",
              "476935cb-d2f7-4ebc-b3a9-d79ec3250fbe 2020-07-04 13:49:42 2020-07-04 14:48:06   \n",
              "03a7d1b3-5728-4c8f-9e1d-1b027bd35836 2020-07-04 12:08:13 2020-07-04 13:06:36   \n",
              "b635ccfd-2744-4301-b8aa-7878bf3ff857 2020-07-04 01:59:15 2020-07-04 02:57:38   \n",
              "844e5960-906e-4324-a171-2c39970ec2f9 2020-08-05 13:47:45 2020-08-05 14:46:09   \n",
              "00cbad09-ebfe-4275-8914-a0c645dcc1aa 2020-08-05 12:06:16 2020-08-05 13:04:39   \n",
              "\n",
              "                                      orbitnumber  ... processinglevel  \\\n",
              "476935cb-d2f7-4ebc-b3a9-d79ec3250fbe        14119  ...              L2   \n",
              "03a7d1b3-5728-4c8f-9e1d-1b027bd35836        14118  ...              L2   \n",
              "b635ccfd-2744-4301-b8aa-7878bf3ff857        14112  ...              L2   \n",
              "844e5960-906e-4324-a171-2c39970ec2f9        14573  ...              L2   \n",
              "00cbad09-ebfe-4275-8914-a0c645dcc1aa        14572  ...              L2   \n",
              "\n",
              "                                     processingmode  \\\n",
              "476935cb-d2f7-4ebc-b3a9-d79ec3250fbe        Offline   \n",
              "03a7d1b3-5728-4c8f-9e1d-1b027bd35836        Offline   \n",
              "b635ccfd-2744-4301-b8aa-7878bf3ff857        Offline   \n",
              "844e5960-906e-4324-a171-2c39970ec2f9        Offline   \n",
              "00cbad09-ebfe-4275-8914-a0c645dcc1aa        Offline   \n",
              "\n",
              "                                     processingmodeabbreviation  \\\n",
              "476935cb-d2f7-4ebc-b3a9-d79ec3250fbe                       OFFL   \n",
              "03a7d1b3-5728-4c8f-9e1d-1b027bd35836                       OFFL   \n",
              "b635ccfd-2744-4301-b8aa-7878bf3ff857                       OFFL   \n",
              "844e5960-906e-4324-a171-2c39970ec2f9                       OFFL   \n",
              "00cbad09-ebfe-4275-8914-a0c645dcc1aa                       OFFL   \n",
              "\n",
              "                                     processorversion producttype  \\\n",
              "476935cb-d2f7-4ebc-b3a9-d79ec3250fbe           010302  L2__NO2___   \n",
              "03a7d1b3-5728-4c8f-9e1d-1b027bd35836           010302  L2__NO2___   \n",
              "b635ccfd-2744-4301-b8aa-7878bf3ff857           010302  L2__NO2___   \n",
              "844e5960-906e-4324-a171-2c39970ec2f9           010302  L2__NO2___   \n",
              "00cbad09-ebfe-4275-8914-a0c645dcc1aa           010302  L2__NO2___   \n",
              "\n",
              "                                     producttypedescription revisionnumber  \\\n",
              "476935cb-d2f7-4ebc-b3a9-d79ec3250fbe       Nitrogen Dioxide             01   \n",
              "03a7d1b3-5728-4c8f-9e1d-1b027bd35836       Nitrogen Dioxide             01   \n",
              "b635ccfd-2744-4301-b8aa-7878bf3ff857       Nitrogen Dioxide             01   \n",
              "844e5960-906e-4324-a171-2c39970ec2f9       Nitrogen Dioxide             01   \n",
              "00cbad09-ebfe-4275-8914-a0c645dcc1aa       Nitrogen Dioxide             01   \n",
              "\n",
              "                                           size  \\\n",
              "476935cb-d2f7-4ebc-b3a9-d79ec3250fbe  430.95 MB   \n",
              "03a7d1b3-5728-4c8f-9e1d-1b027bd35836  435.27 MB   \n",
              "b635ccfd-2744-4301-b8aa-7878bf3ff857  432.22 MB   \n",
              "844e5960-906e-4324-a171-2c39970ec2f9  432.23 MB   \n",
              "00cbad09-ebfe-4275-8914-a0c645dcc1aa  431.74 MB   \n",
              "\n",
              "                                                                      uuid  \\\n",
              "476935cb-d2f7-4ebc-b3a9-d79ec3250fbe  476935cb-d2f7-4ebc-b3a9-d79ec3250fbe   \n",
              "03a7d1b3-5728-4c8f-9e1d-1b027bd35836  03a7d1b3-5728-4c8f-9e1d-1b027bd35836   \n",
              "b635ccfd-2744-4301-b8aa-7878bf3ff857  b635ccfd-2744-4301-b8aa-7878bf3ff857   \n",
              "844e5960-906e-4324-a171-2c39970ec2f9  844e5960-906e-4324-a171-2c39970ec2f9   \n",
              "00cbad09-ebfe-4275-8914-a0c645dcc1aa  00cbad09-ebfe-4275-8914-a0c645dcc1aa   \n",
              "\n",
              "                                                                               geometry  \n",
              "476935cb-d2f7-4ebc-b3a9-d79ec3250fbe  MULTIPOLYGON (((-16.64749 -78.01630, -4.20261 ...  \n",
              "03a7d1b3-5728-4c8f-9e1d-1b027bd35836  MULTIPOLYGON (((8.74302 -77.99074, 21.16080 -7...  \n",
              "b635ccfd-2744-4301-b8aa-7878bf3ff857  MULTIPOLYGON (((161.04794 -77.92680, 173.39620...  \n",
              "844e5960-906e-4324-a171-2c39970ec2f9  MULTIPOLYGON (((-25.86318 -83.72371, -1.73099 ...  \n",
              "00cbad09-ebfe-4275-8914-a0c645dcc1aa  MULTIPOLYGON (((-0.41398 -83.69958, 0.00000 -8...  \n",
              "\n",
              "[5 rows x 29 columns]"
            ],
            "text/html": [
              "\n",
              "  <div id=\"df-3580c331-3636-4e91-9902-594798daaff5\">\n",
              "    <div class=\"colab-df-container\">\n",
              "      <div>\n",
              "<style scoped>\n",
              "    .dataframe tbody tr th:only-of-type {\n",
              "        vertical-align: middle;\n",
              "    }\n",
              "\n",
              "    .dataframe tbody tr th {\n",
              "        vertical-align: top;\n",
              "    }\n",
              "\n",
              "    .dataframe thead th {\n",
              "        text-align: right;\n",
              "    }\n",
              "</style>\n",
              "<table border=\"1\" class=\"dataframe\">\n",
              "  <thead>\n",
              "    <tr style=\"text-align: right;\">\n",
              "      <th></th>\n",
              "      <th>title</th>\n",
              "      <th>link</th>\n",
              "      <th>link_alternative</th>\n",
              "      <th>link_icon</th>\n",
              "      <th>summary</th>\n",
              "      <th>ondemand</th>\n",
              "      <th>ingestiondate</th>\n",
              "      <th>beginposition</th>\n",
              "      <th>endposition</th>\n",
              "      <th>orbitnumber</th>\n",
              "      <th>...</th>\n",
              "      <th>processinglevel</th>\n",
              "      <th>processingmode</th>\n",
              "      <th>processingmodeabbreviation</th>\n",
              "      <th>processorversion</th>\n",
              "      <th>producttype</th>\n",
              "      <th>producttypedescription</th>\n",
              "      <th>revisionnumber</th>\n",
              "      <th>size</th>\n",
              "      <th>uuid</th>\n",
              "      <th>geometry</th>\n",
              "    </tr>\n",
              "  </thead>\n",
              "  <tbody>\n",
              "    <tr>\n",
              "      <th>476935cb-d2f7-4ebc-b3a9-d79ec3250fbe</th>\n",
              "      <td>S5P_OFFL_L2__NO2____20200704T132808_20200704T1...</td>\n",
              "      <td>https://s5phub.copernicus.eu/dhus/odata/v1/Pro...</td>\n",
              "      <td>https://s5phub.copernicus.eu/dhus/odata/v1/Pro...</td>\n",
              "      <td>https://s5phub.copernicus.eu/dhus/odata/v1/Pro...</td>\n",
              "      <td>Date: 2020-07-04T13:49:42Z, Instrument: TROPOM...</td>\n",
              "      <td>false</td>\n",
              "      <td>2020-09-14 10:12:34.285</td>\n",
              "      <td>2020-07-04 13:49:42</td>\n",
              "      <td>2020-07-04 14:48:06</td>\n",
              "      <td>14119</td>\n",
              "      <td>...</td>\n",
              "      <td>L2</td>\n",
              "      <td>Offline</td>\n",
              "      <td>OFFL</td>\n",
              "      <td>010302</td>\n",
              "      <td>L2__NO2___</td>\n",
              "      <td>Nitrogen Dioxide</td>\n",
              "      <td>01</td>\n",
              "      <td>430.95 MB</td>\n",
              "      <td>476935cb-d2f7-4ebc-b3a9-d79ec3250fbe</td>\n",
              "      <td>MULTIPOLYGON (((-16.64749 -78.01630, -4.20261 ...</td>\n",
              "    </tr>\n",
              "    <tr>\n",
              "      <th>03a7d1b3-5728-4c8f-9e1d-1b027bd35836</th>\n",
              "      <td>S5P_OFFL_L2__NO2____20200704T114638_20200704T1...</td>\n",
              "      <td>https://s5phub.copernicus.eu/dhus/odata/v1/Pro...</td>\n",
              "      <td>https://s5phub.copernicus.eu/dhus/odata/v1/Pro...</td>\n",
              "      <td>https://s5phub.copernicus.eu/dhus/odata/v1/Pro...</td>\n",
              "      <td>Date: 2020-07-04T12:08:13Z, Instrument: TROPOM...</td>\n",
              "      <td>false</td>\n",
              "      <td>2020-09-14 10:12:30.559</td>\n",
              "      <td>2020-07-04 12:08:13</td>\n",
              "      <td>2020-07-04 13:06:36</td>\n",
              "      <td>14118</td>\n",
              "      <td>...</td>\n",
              "      <td>L2</td>\n",
              "      <td>Offline</td>\n",
              "      <td>OFFL</td>\n",
              "      <td>010302</td>\n",
              "      <td>L2__NO2___</td>\n",
              "      <td>Nitrogen Dioxide</td>\n",
              "      <td>01</td>\n",
              "      <td>435.27 MB</td>\n",
              "      <td>03a7d1b3-5728-4c8f-9e1d-1b027bd35836</td>\n",
              "      <td>MULTIPOLYGON (((8.74302 -77.99074, 21.16080 -7...</td>\n",
              "    </tr>\n",
              "    <tr>\n",
              "      <th>b635ccfd-2744-4301-b8aa-7878bf3ff857</th>\n",
              "      <td>S5P_OFFL_L2__NO2____20200704T013740_20200704T0...</td>\n",
              "      <td>https://s5phub.copernicus.eu/dhus/odata/v1/Pro...</td>\n",
              "      <td>https://s5phub.copernicus.eu/dhus/odata/v1/Pro...</td>\n",
              "      <td>https://s5phub.copernicus.eu/dhus/odata/v1/Pro...</td>\n",
              "      <td>Date: 2020-07-04T01:59:15Z, Instrument: TROPOM...</td>\n",
              "      <td>false</td>\n",
              "      <td>2020-09-14 10:11:49.754</td>\n",
              "      <td>2020-07-04 01:59:15</td>\n",
              "      <td>2020-07-04 02:57:38</td>\n",
              "      <td>14112</td>\n",
              "      <td>...</td>\n",
              "      <td>L2</td>\n",
              "      <td>Offline</td>\n",
              "      <td>OFFL</td>\n",
              "      <td>010302</td>\n",
              "      <td>L2__NO2___</td>\n",
              "      <td>Nitrogen Dioxide</td>\n",
              "      <td>01</td>\n",
              "      <td>432.22 MB</td>\n",
              "      <td>b635ccfd-2744-4301-b8aa-7878bf3ff857</td>\n",
              "      <td>MULTIPOLYGON (((161.04794 -77.92680, 173.39620...</td>\n",
              "    </tr>\n",
              "    <tr>\n",
              "      <th>844e5960-906e-4324-a171-2c39970ec2f9</th>\n",
              "      <td>S5P_OFFL_L2__NO2____20200805T132611_20200805T1...</td>\n",
              "      <td>https://s5phub.copernicus.eu/dhus/odata/v1/Pro...</td>\n",
              "      <td>https://s5phub.copernicus.eu/dhus/odata/v1/Pro...</td>\n",
              "      <td>https://s5phub.copernicus.eu/dhus/odata/v1/Pro...</td>\n",
              "      <td>Date: 2020-08-05T13:47:45Z, Instrument: TROPOM...</td>\n",
              "      <td>false</td>\n",
              "      <td>2020-08-15 22:10:47.738</td>\n",
              "      <td>2020-08-05 13:47:45</td>\n",
              "      <td>2020-08-05 14:46:09</td>\n",
              "      <td>14573</td>\n",
              "      <td>...</td>\n",
              "      <td>L2</td>\n",
              "      <td>Offline</td>\n",
              "      <td>OFFL</td>\n",
              "      <td>010302</td>\n",
              "      <td>L2__NO2___</td>\n",
              "      <td>Nitrogen Dioxide</td>\n",
              "      <td>01</td>\n",
              "      <td>432.23 MB</td>\n",
              "      <td>844e5960-906e-4324-a171-2c39970ec2f9</td>\n",
              "      <td>MULTIPOLYGON (((-25.86318 -83.72371, -1.73099 ...</td>\n",
              "    </tr>\n",
              "    <tr>\n",
              "      <th>00cbad09-ebfe-4275-8914-a0c645dcc1aa</th>\n",
              "      <td>S5P_OFFL_L2__NO2____20200805T114441_20200805T1...</td>\n",
              "      <td>https://s5phub.copernicus.eu/dhus/odata/v1/Pro...</td>\n",
              "      <td>https://s5phub.copernicus.eu/dhus/odata/v1/Pro...</td>\n",
              "      <td>https://s5phub.copernicus.eu/dhus/odata/v1/Pro...</td>\n",
              "      <td>Date: 2020-08-05T12:06:16Z, Instrument: TROPOM...</td>\n",
              "      <td>false</td>\n",
              "      <td>2020-08-15 18:06:50.399</td>\n",
              "      <td>2020-08-05 12:06:16</td>\n",
              "      <td>2020-08-05 13:04:39</td>\n",
              "      <td>14572</td>\n",
              "      <td>...</td>\n",
              "      <td>L2</td>\n",
              "      <td>Offline</td>\n",
              "      <td>OFFL</td>\n",
              "      <td>010302</td>\n",
              "      <td>L2__NO2___</td>\n",
              "      <td>Nitrogen Dioxide</td>\n",
              "      <td>01</td>\n",
              "      <td>431.74 MB</td>\n",
              "      <td>00cbad09-ebfe-4275-8914-a0c645dcc1aa</td>\n",
              "      <td>MULTIPOLYGON (((-0.41398 -83.69958, 0.00000 -8...</td>\n",
              "    </tr>\n",
              "  </tbody>\n",
              "</table>\n",
              "<p>5 rows × 29 columns</p>\n",
              "</div>\n",
              "      <button class=\"colab-df-convert\" onclick=\"convertToInteractive('df-3580c331-3636-4e91-9902-594798daaff5')\"\n",
              "              title=\"Convert this dataframe to an interactive table.\"\n",
              "              style=\"display:none;\">\n",
              "        \n",
              "  <svg xmlns=\"http://www.w3.org/2000/svg\" height=\"24px\"viewBox=\"0 0 24 24\"\n",
              "       width=\"24px\">\n",
              "    <path d=\"M0 0h24v24H0V0z\" fill=\"none\"/>\n",
              "    <path d=\"M18.56 5.44l.94 2.06.94-2.06 2.06-.94-2.06-.94-.94-2.06-.94 2.06-2.06.94zm-11 1L8.5 8.5l.94-2.06 2.06-.94-2.06-.94L8.5 2.5l-.94 2.06-2.06.94zm10 10l.94 2.06.94-2.06 2.06-.94-2.06-.94-.94-2.06-.94 2.06-2.06.94z\"/><path d=\"M17.41 7.96l-1.37-1.37c-.4-.4-.92-.59-1.43-.59-.52 0-1.04.2-1.43.59L10.3 9.45l-7.72 7.72c-.78.78-.78 2.05 0 2.83L4 21.41c.39.39.9.59 1.41.59.51 0 1.02-.2 1.41-.59l7.78-7.78 2.81-2.81c.8-.78.8-2.07 0-2.86zM5.41 20L4 18.59l7.72-7.72 1.47 1.35L5.41 20z\"/>\n",
              "  </svg>\n",
              "      </button>\n",
              "      \n",
              "  <style>\n",
              "    .colab-df-container {\n",
              "      display:flex;\n",
              "      flex-wrap:wrap;\n",
              "      gap: 12px;\n",
              "    }\n",
              "\n",
              "    .colab-df-convert {\n",
              "      background-color: #E8F0FE;\n",
              "      border: none;\n",
              "      border-radius: 50%;\n",
              "      cursor: pointer;\n",
              "      display: none;\n",
              "      fill: #1967D2;\n",
              "      height: 32px;\n",
              "      padding: 0 0 0 0;\n",
              "      width: 32px;\n",
              "    }\n",
              "\n",
              "    .colab-df-convert:hover {\n",
              "      background-color: #E2EBFA;\n",
              "      box-shadow: 0px 1px 2px rgba(60, 64, 67, 0.3), 0px 1px 3px 1px rgba(60, 64, 67, 0.15);\n",
              "      fill: #174EA6;\n",
              "    }\n",
              "\n",
              "    [theme=dark] .colab-df-convert {\n",
              "      background-color: #3B4455;\n",
              "      fill: #D2E3FC;\n",
              "    }\n",
              "\n",
              "    [theme=dark] .colab-df-convert:hover {\n",
              "      background-color: #434B5C;\n",
              "      box-shadow: 0px 1px 3px 1px rgba(0, 0, 0, 0.15);\n",
              "      filter: drop-shadow(0px 1px 2px rgba(0, 0, 0, 0.3));\n",
              "      fill: #FFFFFF;\n",
              "    }\n",
              "  </style>\n",
              "\n",
              "      <script>\n",
              "        const buttonEl =\n",
              "          document.querySelector('#df-3580c331-3636-4e91-9902-594798daaff5 button.colab-df-convert');\n",
              "        buttonEl.style.display =\n",
              "          google.colab.kernel.accessAllowed ? 'block' : 'none';\n",
              "\n",
              "        async function convertToInteractive(key) {\n",
              "          const element = document.querySelector('#df-3580c331-3636-4e91-9902-594798daaff5');\n",
              "          const dataTable =\n",
              "            await google.colab.kernel.invokeFunction('convertToInteractive',\n",
              "                                                     [key], {});\n",
              "          if (!dataTable) return;\n",
              "\n",
              "          const docLinkHtml = 'Like what you see? Visit the ' +\n",
              "            '<a target=\"_blank\" href=https://colab.research.google.com/notebooks/data_table.ipynb>data table notebook</a>'\n",
              "            + ' to learn more about interactive tables.';\n",
              "          element.innerHTML = '';\n",
              "          dataTable['output_type'] = 'display_data';\n",
              "          await google.colab.output.renderOutput(dataTable, element);\n",
              "          const docLink = document.createElement('div');\n",
              "          docLink.innerHTML = docLinkHtml;\n",
              "          element.appendChild(docLink);\n",
              "        }\n",
              "      </script>\n",
              "    </div>\n",
              "  </div>\n",
              "  "
            ]
          },
          "metadata": {},
          "execution_count": 28
        }
      ]
    },
    {
      "cell_type": "code",
      "metadata": {
        "id": "lIXFJL3OVrDq",
        "outputId": "f754f718-42e9-4418-e5e1-ad1efc885f6c",
        "colab": {
          "base_uri": "https://localhost:8080/",
          "height": 647
        }
      },
      "source": [
        "#CH4 dataframe\n",
        "# Create a GeodataFrame or Dataframe from the products dictionary and sort them according to ingestion date\n",
        "\n",
        "products_gdf_CH4 = api.to_geodataframe(products_CH4)\n",
        "products_gdf_CH4_sorted = products_gdf_CH4.sort_values(['ingestiondate'], ascending=[False])\n",
        "products_gdf_CH4_sorted.head(5)"
      ],
      "execution_count": 29,
      "outputs": [
        {
          "output_type": "execute_result",
          "data": {
            "text/plain": [
              "                                                                                  title  \\\n",
              "0c80f7b9-033c-4c92-a65a-1574fcff994b  S5P_OFFL_L2__CH4____20200805T114441_20200805T1...   \n",
              "316c4e1b-39ae-41fe-9eb2-0bb4355a5000  S5P_OFFL_L2__CH4____20200804T120348_20200804T1...   \n",
              "7d6a7559-30dc-46e2-b9dc-5157f559c2ee  S5P_OFFL_L2__CH4____20200805T132611_20200805T1...   \n",
              "30b6126f-0418-4642-9753-0179e33b9946  S5P_OFFL_L2__CH4____20200804T015451_20200804T0...   \n",
              "55de1a59-fee5-4467-b266-643a4d2d44d2  S5P_OFFL_L2__CH4____20200803T104125_20200803T1...   \n",
              "\n",
              "                                                                                   link  \\\n",
              "0c80f7b9-033c-4c92-a65a-1574fcff994b  https://s5phub.copernicus.eu/dhus/odata/v1/Pro...   \n",
              "316c4e1b-39ae-41fe-9eb2-0bb4355a5000  https://s5phub.copernicus.eu/dhus/odata/v1/Pro...   \n",
              "7d6a7559-30dc-46e2-b9dc-5157f559c2ee  https://s5phub.copernicus.eu/dhus/odata/v1/Pro...   \n",
              "30b6126f-0418-4642-9753-0179e33b9946  https://s5phub.copernicus.eu/dhus/odata/v1/Pro...   \n",
              "55de1a59-fee5-4467-b266-643a4d2d44d2  https://s5phub.copernicus.eu/dhus/odata/v1/Pro...   \n",
              "\n",
              "                                                                       link_alternative  \\\n",
              "0c80f7b9-033c-4c92-a65a-1574fcff994b  https://s5phub.copernicus.eu/dhus/odata/v1/Pro...   \n",
              "316c4e1b-39ae-41fe-9eb2-0bb4355a5000  https://s5phub.copernicus.eu/dhus/odata/v1/Pro...   \n",
              "7d6a7559-30dc-46e2-b9dc-5157f559c2ee  https://s5phub.copernicus.eu/dhus/odata/v1/Pro...   \n",
              "30b6126f-0418-4642-9753-0179e33b9946  https://s5phub.copernicus.eu/dhus/odata/v1/Pro...   \n",
              "55de1a59-fee5-4467-b266-643a4d2d44d2  https://s5phub.copernicus.eu/dhus/odata/v1/Pro...   \n",
              "\n",
              "                                                                              link_icon  \\\n",
              "0c80f7b9-033c-4c92-a65a-1574fcff994b  https://s5phub.copernicus.eu/dhus/odata/v1/Pro...   \n",
              "316c4e1b-39ae-41fe-9eb2-0bb4355a5000  https://s5phub.copernicus.eu/dhus/odata/v1/Pro...   \n",
              "7d6a7559-30dc-46e2-b9dc-5157f559c2ee  https://s5phub.copernicus.eu/dhus/odata/v1/Pro...   \n",
              "30b6126f-0418-4642-9753-0179e33b9946  https://s5phub.copernicus.eu/dhus/odata/v1/Pro...   \n",
              "55de1a59-fee5-4467-b266-643a4d2d44d2  https://s5phub.copernicus.eu/dhus/odata/v1/Pro...   \n",
              "\n",
              "                                                                                summary  \\\n",
              "0c80f7b9-033c-4c92-a65a-1574fcff994b  Date: 2020-08-05T12:06:16Z, Instrument: TROPOM...   \n",
              "316c4e1b-39ae-41fe-9eb2-0bb4355a5000  Date: 2020-08-04T12:25:23Z, Instrument: TROPOM...   \n",
              "7d6a7559-30dc-46e2-b9dc-5157f559c2ee  Date: 2020-08-05T13:47:45Z, Instrument: TROPOM...   \n",
              "30b6126f-0418-4642-9753-0179e33b9946  Date: 2020-08-04T02:16:26Z, Instrument: TROPOM...   \n",
              "55de1a59-fee5-4467-b266-643a4d2d44d2  Date: 2020-08-03T11:03:00Z, Instrument: TROPOM...   \n",
              "\n",
              "                                     ondemand           ingestiondate  \\\n",
              "0c80f7b9-033c-4c92-a65a-1574fcff994b    false 2020-08-11 01:35:10.558   \n",
              "316c4e1b-39ae-41fe-9eb2-0bb4355a5000    false 2020-08-10 03:05:14.390   \n",
              "7d6a7559-30dc-46e2-b9dc-5157f559c2ee    false 2020-08-10 03:05:10.211   \n",
              "30b6126f-0418-4642-9753-0179e33b9946    false 2020-08-09 11:35:06.402   \n",
              "55de1a59-fee5-4467-b266-643a4d2d44d2    false 2020-08-09 03:35:09.909   \n",
              "\n",
              "                                           beginposition         endposition  \\\n",
              "0c80f7b9-033c-4c92-a65a-1574fcff994b 2020-08-05 12:06:16 2020-08-05 13:04:39   \n",
              "316c4e1b-39ae-41fe-9eb2-0bb4355a5000 2020-08-04 12:25:23 2020-08-04 13:23:46   \n",
              "7d6a7559-30dc-46e2-b9dc-5157f559c2ee 2020-08-05 13:47:45 2020-08-05 14:46:09   \n",
              "30b6126f-0418-4642-9753-0179e33b9946 2020-08-04 02:16:26 2020-08-04 03:14:49   \n",
              "55de1a59-fee5-4467-b266-643a4d2d44d2 2020-08-03 11:03:00 2020-08-03 12:01:23   \n",
              "\n",
              "                                      orbitnumber  ... processinglevel  \\\n",
              "0c80f7b9-033c-4c92-a65a-1574fcff994b        14572  ...              L2   \n",
              "316c4e1b-39ae-41fe-9eb2-0bb4355a5000        14558  ...              L2   \n",
              "7d6a7559-30dc-46e2-b9dc-5157f559c2ee        14573  ...              L2   \n",
              "30b6126f-0418-4642-9753-0179e33b9946        14552  ...              L2   \n",
              "55de1a59-fee5-4467-b266-643a4d2d44d2        14543  ...              L2   \n",
              "\n",
              "                                     processingmode  \\\n",
              "0c80f7b9-033c-4c92-a65a-1574fcff994b        Offline   \n",
              "316c4e1b-39ae-41fe-9eb2-0bb4355a5000        Offline   \n",
              "7d6a7559-30dc-46e2-b9dc-5157f559c2ee        Offline   \n",
              "30b6126f-0418-4642-9753-0179e33b9946        Offline   \n",
              "55de1a59-fee5-4467-b266-643a4d2d44d2        Offline   \n",
              "\n",
              "                                     processingmodeabbreviation  \\\n",
              "0c80f7b9-033c-4c92-a65a-1574fcff994b                       OFFL   \n",
              "316c4e1b-39ae-41fe-9eb2-0bb4355a5000                       OFFL   \n",
              "7d6a7559-30dc-46e2-b9dc-5157f559c2ee                       OFFL   \n",
              "30b6126f-0418-4642-9753-0179e33b9946                       OFFL   \n",
              "55de1a59-fee5-4467-b266-643a4d2d44d2                       OFFL   \n",
              "\n",
              "                                     processorversion producttype  \\\n",
              "0c80f7b9-033c-4c92-a65a-1574fcff994b           010302  L2__CH4___   \n",
              "316c4e1b-39ae-41fe-9eb2-0bb4355a5000           010302  L2__CH4___   \n",
              "7d6a7559-30dc-46e2-b9dc-5157f559c2ee           010302  L2__CH4___   \n",
              "30b6126f-0418-4642-9753-0179e33b9946           010302  L2__CH4___   \n",
              "55de1a59-fee5-4467-b266-643a4d2d44d2           010302  L2__CH4___   \n",
              "\n",
              "                                     producttypedescription revisionnumber  \\\n",
              "0c80f7b9-033c-4c92-a65a-1574fcff994b                Methane             01   \n",
              "316c4e1b-39ae-41fe-9eb2-0bb4355a5000                Methane             01   \n",
              "7d6a7559-30dc-46e2-b9dc-5157f559c2ee                Methane             01   \n",
              "30b6126f-0418-4642-9753-0179e33b9946                Methane             01   \n",
              "55de1a59-fee5-4467-b266-643a4d2d44d2                Methane             01   \n",
              "\n",
              "                                          size  \\\n",
              "0c80f7b9-033c-4c92-a65a-1574fcff994b  74.85 MB   \n",
              "316c4e1b-39ae-41fe-9eb2-0bb4355a5000  69.83 MB   \n",
              "7d6a7559-30dc-46e2-b9dc-5157f559c2ee  49.79 MB   \n",
              "30b6126f-0418-4642-9753-0179e33b9946  47.97 MB   \n",
              "55de1a59-fee5-4467-b266-643a4d2d44d2  68.08 MB   \n",
              "\n",
              "                                                                      uuid  \\\n",
              "0c80f7b9-033c-4c92-a65a-1574fcff994b  0c80f7b9-033c-4c92-a65a-1574fcff994b   \n",
              "316c4e1b-39ae-41fe-9eb2-0bb4355a5000  316c4e1b-39ae-41fe-9eb2-0bb4355a5000   \n",
              "7d6a7559-30dc-46e2-b9dc-5157f559c2ee  7d6a7559-30dc-46e2-b9dc-5157f559c2ee   \n",
              "30b6126f-0418-4642-9753-0179e33b9946  30b6126f-0418-4642-9753-0179e33b9946   \n",
              "55de1a59-fee5-4467-b266-643a4d2d44d2  55de1a59-fee5-4467-b266-643a4d2d44d2   \n",
              "\n",
              "                                                                               geometry  \n",
              "0c80f7b9-033c-4c92-a65a-1574fcff994b  MULTIPOLYGON (((9.28405 -84.10613, 30.56282 -8...  \n",
              "316c4e1b-39ae-41fe-9eb2-0bb4355a5000  MULTIPOLYGON (((4.97630 -83.84499, 25.36165 -8...  \n",
              "7d6a7559-30dc-46e2-b9dc-5157f559c2ee  MULTIPOLYGON (((-16.12952 -84.13148, -0.00000 ...  \n",
              "30b6126f-0418-4642-9753-0179e33b9946  MULTIPOLYGON (((157.41605 -83.72910, 177.42589...  \n",
              "55de1a59-fee5-4467-b266-643a4d2d44d2  MULTIPOLYGON (((25.97787 -83.58868, 45.55873 -...  \n",
              "\n",
              "[5 rows x 29 columns]"
            ],
            "text/html": [
              "\n",
              "  <div id=\"df-712eeef2-f3fa-4378-bbe2-8f55f4dd183a\">\n",
              "    <div class=\"colab-df-container\">\n",
              "      <div>\n",
              "<style scoped>\n",
              "    .dataframe tbody tr th:only-of-type {\n",
              "        vertical-align: middle;\n",
              "    }\n",
              "\n",
              "    .dataframe tbody tr th {\n",
              "        vertical-align: top;\n",
              "    }\n",
              "\n",
              "    .dataframe thead th {\n",
              "        text-align: right;\n",
              "    }\n",
              "</style>\n",
              "<table border=\"1\" class=\"dataframe\">\n",
              "  <thead>\n",
              "    <tr style=\"text-align: right;\">\n",
              "      <th></th>\n",
              "      <th>title</th>\n",
              "      <th>link</th>\n",
              "      <th>link_alternative</th>\n",
              "      <th>link_icon</th>\n",
              "      <th>summary</th>\n",
              "      <th>ondemand</th>\n",
              "      <th>ingestiondate</th>\n",
              "      <th>beginposition</th>\n",
              "      <th>endposition</th>\n",
              "      <th>orbitnumber</th>\n",
              "      <th>...</th>\n",
              "      <th>processinglevel</th>\n",
              "      <th>processingmode</th>\n",
              "      <th>processingmodeabbreviation</th>\n",
              "      <th>processorversion</th>\n",
              "      <th>producttype</th>\n",
              "      <th>producttypedescription</th>\n",
              "      <th>revisionnumber</th>\n",
              "      <th>size</th>\n",
              "      <th>uuid</th>\n",
              "      <th>geometry</th>\n",
              "    </tr>\n",
              "  </thead>\n",
              "  <tbody>\n",
              "    <tr>\n",
              "      <th>0c80f7b9-033c-4c92-a65a-1574fcff994b</th>\n",
              "      <td>S5P_OFFL_L2__CH4____20200805T114441_20200805T1...</td>\n",
              "      <td>https://s5phub.copernicus.eu/dhus/odata/v1/Pro...</td>\n",
              "      <td>https://s5phub.copernicus.eu/dhus/odata/v1/Pro...</td>\n",
              "      <td>https://s5phub.copernicus.eu/dhus/odata/v1/Pro...</td>\n",
              "      <td>Date: 2020-08-05T12:06:16Z, Instrument: TROPOM...</td>\n",
              "      <td>false</td>\n",
              "      <td>2020-08-11 01:35:10.558</td>\n",
              "      <td>2020-08-05 12:06:16</td>\n",
              "      <td>2020-08-05 13:04:39</td>\n",
              "      <td>14572</td>\n",
              "      <td>...</td>\n",
              "      <td>L2</td>\n",
              "      <td>Offline</td>\n",
              "      <td>OFFL</td>\n",
              "      <td>010302</td>\n",
              "      <td>L2__CH4___</td>\n",
              "      <td>Methane</td>\n",
              "      <td>01</td>\n",
              "      <td>74.85 MB</td>\n",
              "      <td>0c80f7b9-033c-4c92-a65a-1574fcff994b</td>\n",
              "      <td>MULTIPOLYGON (((9.28405 -84.10613, 30.56282 -8...</td>\n",
              "    </tr>\n",
              "    <tr>\n",
              "      <th>316c4e1b-39ae-41fe-9eb2-0bb4355a5000</th>\n",
              "      <td>S5P_OFFL_L2__CH4____20200804T120348_20200804T1...</td>\n",
              "      <td>https://s5phub.copernicus.eu/dhus/odata/v1/Pro...</td>\n",
              "      <td>https://s5phub.copernicus.eu/dhus/odata/v1/Pro...</td>\n",
              "      <td>https://s5phub.copernicus.eu/dhus/odata/v1/Pro...</td>\n",
              "      <td>Date: 2020-08-04T12:25:23Z, Instrument: TROPOM...</td>\n",
              "      <td>false</td>\n",
              "      <td>2020-08-10 03:05:14.390</td>\n",
              "      <td>2020-08-04 12:25:23</td>\n",
              "      <td>2020-08-04 13:23:46</td>\n",
              "      <td>14558</td>\n",
              "      <td>...</td>\n",
              "      <td>L2</td>\n",
              "      <td>Offline</td>\n",
              "      <td>OFFL</td>\n",
              "      <td>010302</td>\n",
              "      <td>L2__CH4___</td>\n",
              "      <td>Methane</td>\n",
              "      <td>01</td>\n",
              "      <td>69.83 MB</td>\n",
              "      <td>316c4e1b-39ae-41fe-9eb2-0bb4355a5000</td>\n",
              "      <td>MULTIPOLYGON (((4.97630 -83.84499, 25.36165 -8...</td>\n",
              "    </tr>\n",
              "    <tr>\n",
              "      <th>7d6a7559-30dc-46e2-b9dc-5157f559c2ee</th>\n",
              "      <td>S5P_OFFL_L2__CH4____20200805T132611_20200805T1...</td>\n",
              "      <td>https://s5phub.copernicus.eu/dhus/odata/v1/Pro...</td>\n",
              "      <td>https://s5phub.copernicus.eu/dhus/odata/v1/Pro...</td>\n",
              "      <td>https://s5phub.copernicus.eu/dhus/odata/v1/Pro...</td>\n",
              "      <td>Date: 2020-08-05T13:47:45Z, Instrument: TROPOM...</td>\n",
              "      <td>false</td>\n",
              "      <td>2020-08-10 03:05:10.211</td>\n",
              "      <td>2020-08-05 13:47:45</td>\n",
              "      <td>2020-08-05 14:46:09</td>\n",
              "      <td>14573</td>\n",
              "      <td>...</td>\n",
              "      <td>L2</td>\n",
              "      <td>Offline</td>\n",
              "      <td>OFFL</td>\n",
              "      <td>010302</td>\n",
              "      <td>L2__CH4___</td>\n",
              "      <td>Methane</td>\n",
              "      <td>01</td>\n",
              "      <td>49.79 MB</td>\n",
              "      <td>7d6a7559-30dc-46e2-b9dc-5157f559c2ee</td>\n",
              "      <td>MULTIPOLYGON (((-16.12952 -84.13148, -0.00000 ...</td>\n",
              "    </tr>\n",
              "    <tr>\n",
              "      <th>30b6126f-0418-4642-9753-0179e33b9946</th>\n",
              "      <td>S5P_OFFL_L2__CH4____20200804T015451_20200804T0...</td>\n",
              "      <td>https://s5phub.copernicus.eu/dhus/odata/v1/Pro...</td>\n",
              "      <td>https://s5phub.copernicus.eu/dhus/odata/v1/Pro...</td>\n",
              "      <td>https://s5phub.copernicus.eu/dhus/odata/v1/Pro...</td>\n",
              "      <td>Date: 2020-08-04T02:16:26Z, Instrument: TROPOM...</td>\n",
              "      <td>false</td>\n",
              "      <td>2020-08-09 11:35:06.402</td>\n",
              "      <td>2020-08-04 02:16:26</td>\n",
              "      <td>2020-08-04 03:14:49</td>\n",
              "      <td>14552</td>\n",
              "      <td>...</td>\n",
              "      <td>L2</td>\n",
              "      <td>Offline</td>\n",
              "      <td>OFFL</td>\n",
              "      <td>010302</td>\n",
              "      <td>L2__CH4___</td>\n",
              "      <td>Methane</td>\n",
              "      <td>01</td>\n",
              "      <td>47.97 MB</td>\n",
              "      <td>30b6126f-0418-4642-9753-0179e33b9946</td>\n",
              "      <td>MULTIPOLYGON (((157.41605 -83.72910, 177.42589...</td>\n",
              "    </tr>\n",
              "    <tr>\n",
              "      <th>55de1a59-fee5-4467-b266-643a4d2d44d2</th>\n",
              "      <td>S5P_OFFL_L2__CH4____20200803T104125_20200803T1...</td>\n",
              "      <td>https://s5phub.copernicus.eu/dhus/odata/v1/Pro...</td>\n",
              "      <td>https://s5phub.copernicus.eu/dhus/odata/v1/Pro...</td>\n",
              "      <td>https://s5phub.copernicus.eu/dhus/odata/v1/Pro...</td>\n",
              "      <td>Date: 2020-08-03T11:03:00Z, Instrument: TROPOM...</td>\n",
              "      <td>false</td>\n",
              "      <td>2020-08-09 03:35:09.909</td>\n",
              "      <td>2020-08-03 11:03:00</td>\n",
              "      <td>2020-08-03 12:01:23</td>\n",
              "      <td>14543</td>\n",
              "      <td>...</td>\n",
              "      <td>L2</td>\n",
              "      <td>Offline</td>\n",
              "      <td>OFFL</td>\n",
              "      <td>010302</td>\n",
              "      <td>L2__CH4___</td>\n",
              "      <td>Methane</td>\n",
              "      <td>01</td>\n",
              "      <td>68.08 MB</td>\n",
              "      <td>55de1a59-fee5-4467-b266-643a4d2d44d2</td>\n",
              "      <td>MULTIPOLYGON (((25.97787 -83.58868, 45.55873 -...</td>\n",
              "    </tr>\n",
              "  </tbody>\n",
              "</table>\n",
              "<p>5 rows × 29 columns</p>\n",
              "</div>\n",
              "      <button class=\"colab-df-convert\" onclick=\"convertToInteractive('df-712eeef2-f3fa-4378-bbe2-8f55f4dd183a')\"\n",
              "              title=\"Convert this dataframe to an interactive table.\"\n",
              "              style=\"display:none;\">\n",
              "        \n",
              "  <svg xmlns=\"http://www.w3.org/2000/svg\" height=\"24px\"viewBox=\"0 0 24 24\"\n",
              "       width=\"24px\">\n",
              "    <path d=\"M0 0h24v24H0V0z\" fill=\"none\"/>\n",
              "    <path d=\"M18.56 5.44l.94 2.06.94-2.06 2.06-.94-2.06-.94-.94-2.06-.94 2.06-2.06.94zm-11 1L8.5 8.5l.94-2.06 2.06-.94-2.06-.94L8.5 2.5l-.94 2.06-2.06.94zm10 10l.94 2.06.94-2.06 2.06-.94-2.06-.94-.94-2.06-.94 2.06-2.06.94z\"/><path d=\"M17.41 7.96l-1.37-1.37c-.4-.4-.92-.59-1.43-.59-.52 0-1.04.2-1.43.59L10.3 9.45l-7.72 7.72c-.78.78-.78 2.05 0 2.83L4 21.41c.39.39.9.59 1.41.59.51 0 1.02-.2 1.41-.59l7.78-7.78 2.81-2.81c.8-.78.8-2.07 0-2.86zM5.41 20L4 18.59l7.72-7.72 1.47 1.35L5.41 20z\"/>\n",
              "  </svg>\n",
              "      </button>\n",
              "      \n",
              "  <style>\n",
              "    .colab-df-container {\n",
              "      display:flex;\n",
              "      flex-wrap:wrap;\n",
              "      gap: 12px;\n",
              "    }\n",
              "\n",
              "    .colab-df-convert {\n",
              "      background-color: #E8F0FE;\n",
              "      border: none;\n",
              "      border-radius: 50%;\n",
              "      cursor: pointer;\n",
              "      display: none;\n",
              "      fill: #1967D2;\n",
              "      height: 32px;\n",
              "      padding: 0 0 0 0;\n",
              "      width: 32px;\n",
              "    }\n",
              "\n",
              "    .colab-df-convert:hover {\n",
              "      background-color: #E2EBFA;\n",
              "      box-shadow: 0px 1px 2px rgba(60, 64, 67, 0.3), 0px 1px 3px 1px rgba(60, 64, 67, 0.15);\n",
              "      fill: #174EA6;\n",
              "    }\n",
              "\n",
              "    [theme=dark] .colab-df-convert {\n",
              "      background-color: #3B4455;\n",
              "      fill: #D2E3FC;\n",
              "    }\n",
              "\n",
              "    [theme=dark] .colab-df-convert:hover {\n",
              "      background-color: #434B5C;\n",
              "      box-shadow: 0px 1px 3px 1px rgba(0, 0, 0, 0.15);\n",
              "      filter: drop-shadow(0px 1px 2px rgba(0, 0, 0, 0.3));\n",
              "      fill: #FFFFFF;\n",
              "    }\n",
              "  </style>\n",
              "\n",
              "      <script>\n",
              "        const buttonEl =\n",
              "          document.querySelector('#df-712eeef2-f3fa-4378-bbe2-8f55f4dd183a button.colab-df-convert');\n",
              "        buttonEl.style.display =\n",
              "          google.colab.kernel.accessAllowed ? 'block' : 'none';\n",
              "\n",
              "        async function convertToInteractive(key) {\n",
              "          const element = document.querySelector('#df-712eeef2-f3fa-4378-bbe2-8f55f4dd183a');\n",
              "          const dataTable =\n",
              "            await google.colab.kernel.invokeFunction('convertToInteractive',\n",
              "                                                     [key], {});\n",
              "          if (!dataTable) return;\n",
              "\n",
              "          const docLinkHtml = 'Like what you see? Visit the ' +\n",
              "            '<a target=\"_blank\" href=https://colab.research.google.com/notebooks/data_table.ipynb>data table notebook</a>'\n",
              "            + ' to learn more about interactive tables.';\n",
              "          element.innerHTML = '';\n",
              "          dataTable['output_type'] = 'display_data';\n",
              "          await google.colab.output.renderOutput(dataTable, element);\n",
              "          const docLink = document.createElement('div');\n",
              "          docLink.innerHTML = docLinkHtml;\n",
              "          element.appendChild(docLink);\n",
              "        }\n",
              "      </script>\n",
              "    </div>\n",
              "  </div>\n",
              "  "
            ]
          },
          "metadata": {},
          "execution_count": 29
        }
      ]
    },
    {
      "cell_type": "code",
      "metadata": {
        "id": "Mv8Ca_RNWUih",
        "outputId": "9c777b9b-0ba6-4a1e-fda6-af3b431650e3",
        "colab": {
          "base_uri": "https://localhost:8080/"
        }
      },
      "source": [
        "print(\n",
        "\"NO2 uuid:%s\" % products_gdf_NO2_sorted['uuid'][0:1],'\\n'\n",
        "\"CH4 uuid:%s\" % products_gdf_CH4_sorted['uuid'][0:1])"
      ],
      "execution_count": 30,
      "outputs": [
        {
          "output_type": "stream",
          "name": "stdout",
          "text": [
            "NO2 uuid:476935cb-d2f7-4ebc-b3a9-d79ec3250fbe    476935cb-d2f7-4ebc-b3a9-d79ec3250fbe\n",
            "Name: uuid, dtype: object \n",
            "CH4 uuid:0c80f7b9-033c-4c92-a65a-1574fcff994b    0c80f7b9-033c-4c92-a65a-1574fcff994b\n",
            "Name: uuid, dtype: object\n"
          ]
        }
      ]
    },
    {
      "cell_type": "markdown",
      "source": [
        "***Download Product***"
      ],
      "metadata": {
        "id": "sHKUm1siwmW2"
      }
    },
    {
      "cell_type": "code",
      "metadata": {
        "id": "Ip3Gdi4qc3gp",
        "outputId": "e72e3571-c799-428c-8172-402aa53150e5",
        "colab": {
          "base_uri": "https://localhost:8080/"
        }
      },
      "source": [
        "## Download the latest product\n",
        "#NO2\n",
        "!wget --content-disposition --continue --user=s5pguest --password=s5pguest \"https://s5phub.copernicus.eu/dhus/odata/v1/Products('476935cb-d2f7-4ebc-b3a9-d79ec3250fbe')/\\$value\"\n"
      ],
      "execution_count": 31,
      "outputs": [
        {
          "output_type": "stream",
          "name": "stdout",
          "text": [
            "--2022-08-25 21:50:47--  https://s5phub.copernicus.eu/dhus/odata/v1/Products('476935cb-d2f7-4ebc-b3a9-d79ec3250fbe')/$value\n",
            "Resolving s5phub.copernicus.eu (s5phub.copernicus.eu)... 195.251.26.46\n",
            "Connecting to s5phub.copernicus.eu (s5phub.copernicus.eu)|195.251.26.46|:443... connected.\n",
            "HTTP request sent, awaiting response... 401 Unauthorized\n",
            "Authentication selected: Basic realm=\"OData service\"\n",
            "Connecting to s5phub.copernicus.eu (s5phub.copernicus.eu)|195.251.26.46|:443... connected.\n",
            "HTTP request sent, awaiting response... 200 OK\n",
            "Length: 451887169 (431M) [application/octet-stream]\n",
            "Last-modified header invalid -- time-stamp ignored.\n",
            "--2022-08-25 21:50:49--  https://s5phub.copernicus.eu/dhus/odata/v1/Products('476935cb-d2f7-4ebc-b3a9-d79ec3250fbe')/$value\n",
            "Reusing existing connection to s5phub.copernicus.eu:443.\n",
            "HTTP request sent, awaiting response... 200 OK\n",
            "Length: 451887169 (431M) [application/octet-stream]\n",
            "Saving to: ‘S5P_OFFL_L2__NO2____20200704T132808_20200704T150938_14119_01_010302_20200715T033027.nc’\n",
            "\n",
            "S5P_OFFL_L2__NO2___ 100%[===================>] 430.95M  8.96MB/s    in 67s     \n",
            "\n",
            "2022-08-25 21:51:57 (6.40 MB/s) - ‘S5P_OFFL_L2__NO2____20200704T132808_20200704T150938_14119_01_010302_20200715T033027.nc’ saved [451887169/451887169]\n",
            "\n"
          ]
        }
      ]
    },
    {
      "cell_type": "code",
      "metadata": {
        "id": "btE2ftriYUZk",
        "outputId": "7f486834-81aa-467f-d48d-8c248d304b56",
        "colab": {
          "base_uri": "https://localhost:8080/"
        }
      },
      "source": [
        "## Download the latest product\n",
        "\n",
        "#CH4\n",
        "!wget --content-disposition --continue --user=s5pguest --password=s5pguest \"https://s5phub.copernicus.eu/dhus/odata/v1/Products('0c80f7b9-033c-4c92-a65a-1574fcff994b')/\\$value\"\n"
      ],
      "execution_count": 32,
      "outputs": [
        {
          "output_type": "stream",
          "name": "stdout",
          "text": [
            "--2022-08-25 21:52:12--  https://s5phub.copernicus.eu/dhus/odata/v1/Products('0c80f7b9-033c-4c92-a65a-1574fcff994b')/$value\n",
            "Resolving s5phub.copernicus.eu (s5phub.copernicus.eu)... 195.251.26.46\n",
            "Connecting to s5phub.copernicus.eu (s5phub.copernicus.eu)|195.251.26.46|:443... connected.\n",
            "HTTP request sent, awaiting response... 401 Unauthorized\n",
            "Authentication selected: Basic realm=\"OData service\"\n",
            "Connecting to s5phub.copernicus.eu (s5phub.copernicus.eu)|195.251.26.46|:443... connected.\n",
            "HTTP request sent, awaiting response... 200 OK\n",
            "Length: 78488497 (75M) [application/octet-stream]\n",
            "Last-modified header invalid -- time-stamp ignored.\n",
            "--2022-08-25 21:52:14--  https://s5phub.copernicus.eu/dhus/odata/v1/Products('0c80f7b9-033c-4c92-a65a-1574fcff994b')/$value\n",
            "Reusing existing connection to s5phub.copernicus.eu:443.\n",
            "HTTP request sent, awaiting response... 200 OK\n",
            "Length: 78488497 (75M) [application/octet-stream]\n",
            "Saving to: ‘S5P_OFFL_L2__CH4____20200805T114441_20200805T132611_14572_01_010302_20200810T000256.nc’\n",
            "\n",
            "S5P_OFFL_L2__CH4___ 100%[===================>]  74.85M  2.13MB/s    in 2m 11s  \n",
            "\n",
            "2022-08-25 21:54:25 (587 KB/s) - ‘S5P_OFFL_L2__CH4____20200805T114441_20200805T132611_14572_01_010302_20200810T000256.nc’ saved [78488497/78488497]\n",
            "\n"
          ]
        }
      ]
    },
    {
      "cell_type": "code",
      "metadata": {
        "id": "tqgtZs9-f-NI",
        "colab": {
          "base_uri": "https://localhost:8080/"
        },
        "outputId": "f2df8f39-5676-4087-c7d6-e4b33ccc7bdb"
      },
      "source": [
        "!ls \"/content/drive/My Drive/Colab Notebooks/Final codes\"\n"
      ],
      "execution_count": 35,
      "outputs": [
        {
          "output_type": "stream",
          "name": "stdout",
          "text": [
            "'Copy of Copy of PenaColorada_ Sentinel Satellite Imagery analysis with eo-learn-io  .ipynb'\n",
            "'Copy of Copy of SentinelSat_library.ipynb'\n",
            " Dublin.gpkg\n",
            " Dublin_OSI.png\n",
            " S5P_OFFL_L2__CH4____20200805T114441_20200805T132611_14572_01_010302_20200810T000256.nc\n",
            " S5P_OFFL_L2__NO2____20200704T132808_20200704T150938_14119_01_010302_20200715T033027.nc\n",
            "'Script-2: Sentinel-2 Image Processing Using \"eo-learn\" Library.ipynb'\n",
            "'Script 3: Sentinel5P Image processing.ipynb'\n",
            "'Sentinel5 Data Analysis-CO emissions.ipynb'\n"
          ]
        }
      ]
    },
    {
      "cell_type": "markdown",
      "source": [
        "**Install netCDF4 and required libraries**"
      ],
      "metadata": {
        "id": "0dxvOaKmxywj"
      }
    },
    {
      "cell_type": "code",
      "metadata": {
        "id": "QAPKtNOxcQrz",
        "outputId": "a795532d-7540-4d30-b22f-bc05a53d829f",
        "colab": {
          "base_uri": "https://localhost:8080/",
          "height": 869
        }
      },
      "source": [
        "#install libraries\n",
        "\n",
        "!pip install netCDF4\n",
        "!apt-get install libgeos-3.5.0\n",
        "!apt-get install libgeos-dev\n",
        "!pip install https://github.com/matplotlib/basemap/archive/master.zip\n",
        "!pip install pyproj==1.9.6"
      ],
      "execution_count": 36,
      "outputs": [
        {
          "output_type": "stream",
          "name": "stdout",
          "text": [
            "Looking in indexes: https://pypi.org/simple, https://us-python.pkg.dev/colab-wheels/public/simple/\n",
            "Requirement already satisfied: netCDF4 in /usr/local/lib/python3.7/dist-packages (1.6.0)\n",
            "Requirement already satisfied: numpy>=1.9 in /usr/local/lib/python3.7/dist-packages (from netCDF4) (1.21.6)\n",
            "Requirement already satisfied: cftime in /usr/local/lib/python3.7/dist-packages (from netCDF4) (1.6.1)\n",
            "Reading package lists... Done\n",
            "Building dependency tree       \n",
            "Reading state information... Done\n",
            "E: Unable to locate package libgeos-3.5.0\n",
            "E: Couldn't find any package by glob 'libgeos-3.5.0'\n",
            "E: Couldn't find any package by regex 'libgeos-3.5.0'\n",
            "Reading package lists... Done\n",
            "Building dependency tree       \n",
            "Reading state information... Done\n",
            "libgeos-dev is already the newest version (3.6.2-1build2).\n",
            "libgeos-dev set to manually installed.\n",
            "The following package was automatically installed and is no longer required:\n",
            "  libnvidia-common-460\n",
            "Use 'apt autoremove' to remove it.\n",
            "0 upgraded, 0 newly installed, 0 to remove and 20 not upgraded.\n",
            "Looking in indexes: https://pypi.org/simple, https://us-python.pkg.dev/colab-wheels/public/simple/\n",
            "Collecting https://github.com/matplotlib/basemap/archive/master.zip\n",
            "  Downloading https://github.com/matplotlib/basemap/archive/master.zip\n",
            "\u001b[K     / 129.7 MB 2.0 MB/s\n",
            "\u001b[31mERROR: File \"setup.py\" not found for legacy project https://github.com/matplotlib/basemap/archive/master.zip.\u001b[0m\n",
            "\u001b[?25hLooking in indexes: https://pypi.org/simple, https://us-python.pkg.dev/colab-wheels/public/simple/\n",
            "Collecting pyproj==1.9.6\n",
            "  Downloading pyproj-1.9.6.tar.gz (2.8 MB)\n",
            "\u001b[K     |████████████████████████████████| 2.8 MB 8.0 MB/s \n",
            "\u001b[?25hBuilding wheels for collected packages: pyproj\n",
            "  Building wheel for pyproj (setup.py) ... \u001b[?25l\u001b[?25hdone\n",
            "  Created wheel for pyproj: filename=pyproj-1.9.6-cp37-cp37m-linux_x86_64.whl size=3702477 sha256=1915221869638b5b7b260e333c19992c442afaeb32de4c3e245017f5e82f7574\n",
            "  Stored in directory: /root/.cache/pip/wheels/08/60/55/38382877bab48a6abfca7bd66115e287ce5a9530cbce631771\n",
            "Successfully built pyproj\n",
            "Installing collected packages: pyproj\n",
            "  Attempting uninstall: pyproj\n",
            "    Found existing installation: pyproj 3.2.1\n",
            "    Uninstalling pyproj-3.2.1:\n",
            "      Successfully uninstalled pyproj-3.2.1\n",
            "\u001b[31mERROR: pip's dependency resolver does not currently take into account all the packages that are installed. This behaviour is the source of the following dependency conflicts.\n",
            "sentinelhub 3.7.0 requires pyproj>=2.2.0, but you have pyproj 1.9.6 which is incompatible.\n",
            "osmnx 0.14.1 requires pyproj>=2.6, but you have pyproj 1.9.6 which is incompatible.\n",
            "geopandas 0.10.2 requires pyproj>=2.2.0, but you have pyproj 1.9.6 which is incompatible.\u001b[0m\n",
            "Successfully installed pyproj-1.9.6\n"
          ]
        },
        {
          "output_type": "display_data",
          "data": {
            "application/vnd.colab-display-data+json": {
              "pip_warning": {
                "packages": [
                  "pyproj"
                ]
              }
            }
          },
          "metadata": {}
        }
      ]
    },
    {
      "cell_type": "code",
      "metadata": {
        "id": "j3LWReKfflSe"
      },
      "source": [
        "#import packages\n",
        "\n",
        "from netCDF4 import Dataset\n",
        "\n",
        "# from mpl_toolkits.basemap import Basemap\n",
        "import matplotlib.pyplot as plt\n",
        "%matplotlib inline\n",
        "import numpy as np"
      ],
      "execution_count": 39,
      "outputs": []
    },
    {
      "cell_type": "code",
      "metadata": {
        "id": "85fvYapHgh3Z"
      },
      "source": [
        "#Import and read the netCDF data\n",
        "\n",
        "data_NO2 = Dataset(r'S5P_OFFL_L2__NO2____20200704T132808_20200704T150938_14119_01_010302_20200715T033027.nc','r')\n",
        "data_CH4 = Dataset(r'S5P_OFFL_L2__CH4____20200805T114441_20200805T132611_14572_01_010302_20200810T000256.nc','r')"
      ],
      "execution_count": 40,
      "outputs": []
    },
    {
      "cell_type": "code",
      "metadata": {
        "id": "BvbE_YxSbsOx",
        "outputId": "9fc416c6-03e3-4b7e-b24d-1efb7a7a17f3",
        "colab": {
          "base_uri": "https://localhost:8080/"
        }
      },
      "source": [
        "# data_NO2\n",
        "data_CH4"
      ],
      "execution_count": 41,
      "outputs": [
        {
          "output_type": "execute_result",
          "data": {
            "text/plain": [
              "<class 'netCDF4._netCDF4.Dataset'>\n",
              "root group (NETCDF4 data model, file format HDF5):\n",
              "    Conventions: CF-1.7\n",
              "    institution: KNMI/SRON\n",
              "    source: Sentinel 5 precursor, TROPOMI, space-borne remote sensing, L2\n",
              "    history: 2020-08-11 01:17:11 f_s5pops tropnll2dp /mnt/data1/storage_offl_l2/cache_offl_l2/WORKING-609028838/JobOrder.609028810.xml\n",
              "    summary: TROPOMI/S5P Methane 1-Orbit L2 Swath 7x7km\n",
              "    tracking_id: 9a44a76a-f436-421c-ab1d-e7962864a67d\n",
              "    id: S5P_OFFL_L2__CH4____20200805T114441_20200805T132611_14572_01_010302_20200810T000256\n",
              "    time_reference: 2020-08-05T00:00:00Z\n",
              "    time_reference_days_since_1950: 25784\n",
              "    time_reference_julian_day: 2459066.5\n",
              "    time_reference_seconds_since_1970: 1596585600\n",
              "    time_coverage_start: 2020-08-05T12:06:16Z\n",
              "    time_coverage_end: 2020-08-05T13:04:39Z\n",
              "    time_coverage_duration: PT3503.558S\n",
              "    time_coverage_resolution: PT0.840S\n",
              "    orbit: 14572\n",
              "    references: http://www.tropomi.eu/data-products/methane\n",
              "    processor_version: 1.3.2\n",
              "    keywords_vocabulary: AGU index terms, http://publications.agu.org/author-resource-center/index-terms/\n",
              "    keywords: 0300 Atmospheric Composition and Structure; 0365 Troposphere, Composition and Chemistry; 0400 Biogeosciences; 0428 Carbon Cycling; 1600 Global Change\n",
              "    standard_name_vocabulary: NetCDF Climate and Forecast Metadata Conventions Standard Name Table (v29, 08 July 2015), http://cfconventions.org/standard-names.html\n",
              "    naming_authority: nl.knmi\n",
              "    cdm_data_type: Swath\n",
              "    date_created: 2020-08-10T00:04:47Z\n",
              "    creator_name: The Sentinel 5 Precursor TROPOMI Level 2 products are developed with funding from the European Space Agency (ESA), the Netherlands Space Office (NSO), the Belgian Science Policy Office, the German Aerospace Center (DLR) and the Bayerisches Staatsministerium für Wirtschaft und Medien, Energie und Technologie (StMWi).\n",
              "    creator_url: http://www.tropomi.eu\n",
              "    creator_email: EOSupport@Copernicus.esa.int\n",
              "    project: Sentinel 5 precursor/TROPOMI\n",
              "    geospatial_lat_min: -84.10613\n",
              "    geospatial_lat_max: 89.92192\n",
              "    geospatial_lon_min: 179.9993\n",
              "    geospatial_lon_max: -179.99992\n",
              "    license: No conditions apply\n",
              "    platform: S5P\n",
              "    sensor: TROPOMI\n",
              "    spatial_resolution: 7x7km2\n",
              "    cpp_compiler_version: g++ (GCC) 4.8.5 20150623 (Red Hat 4.8.5-11)\n",
              "    cpp_compiler_flags: -g -O2 -fPIC -std=c++11 -W -Wall -Wno-ignored-qualifiers -Wno-write-strings -Wno-unused-variable -DTROPNLL2DP\n",
              "    f90_compiler_version: GNU Fortran (GCC) 4.8.5 20150623 (Red Hat 4.8.5-11)\n",
              "    f90_compiler_flags: -gdwarf-3 -O2 -fPIC -cpp -ffpe-trap=invalid -fno-range-check -frecursive -fimplicit-none -ffree-line-length-none -DTROPNLL2DP -Wuninitialized -Wtabs\n",
              "    build_date: 2019-04-05T12:04:00Z\n",
              "    revision_control_identifier: \n",
              "    geolocation_grid_from_band: 7\n",
              "    identifier_product_doi: 10.5270/S5P-3p6lnwd\n",
              "    identifier_product_doi_authority: http://dx.doi.org/\n",
              "    algorithm_version: 1.2.0\n",
              "    title: TROPOMI/S5P Methane 1-Orbit L2 Swath 7x7km\n",
              "    product_version: 1.2.0\n",
              "    processing_status: Nominal\n",
              "    Status_MET_2D: Nominal\n",
              "    Status_CTM_CO: Nominal\n",
              "    Status_CTMCH4: Nominal\n",
              "    Status_NPP_VIIRS: Nominal\n",
              "    dimensions(sizes): \n",
              "    variables(dimensions): \n",
              "    groups: PRODUCT, METADATA"
            ]
          },
          "metadata": {},
          "execution_count": 41
        }
      ]
    },
    {
      "cell_type": "code",
      "metadata": {
        "id": "PAxomrBVrflB",
        "outputId": "72c0627b-9e8a-4e50-a3f9-4eb9b9db4efa",
        "colab": {
          "base_uri": "https://localhost:8080/"
        }
      },
      "source": [
        "#Check the variables stored in the dataset\n",
        "# data_NO2.groups['PRODUCT'].variables.keys()\n",
        "data_CH4.groups['PRODUCT'].variables.keys()"
      ],
      "execution_count": 42,
      "outputs": [
        {
          "output_type": "execute_result",
          "data": {
            "text/plain": [
              "dict_keys(['scanline', 'ground_pixel', 'time', 'corner', 'layer', 'level', 'delta_time', 'time_utc', 'qa_value', 'latitude', 'longitude', 'methane_mixing_ratio', 'methane_mixing_ratio_precision', 'methane_mixing_ratio_bias_corrected'])"
            ]
          },
          "metadata": {},
          "execution_count": 42
        }
      ]
    },
    {
      "cell_type": "code",
      "metadata": {
        "id": "Lkw57gUL99WP",
        "colab": {
          "base_uri": "https://localhost:8080/"
        },
        "outputId": "9eb8a565-3bc1-40ed-dffe-4f2a34ca5671"
      },
      "source": [
        "#Check the variables stored in the dataset\n",
        "data_NO2.groups['METADATA']"
      ],
      "execution_count": 43,
      "outputs": [
        {
          "output_type": "execute_result",
          "data": {
            "text/plain": [
              "<class 'netCDF4._netCDF4.Group'>\n",
              "group /METADATA:\n",
              "    dimensions(sizes): \n",
              "    variables(dimensions): \n",
              "    groups: QA_STATISTICS, ALGORITHM_SETTINGS, GRANULE_DESCRIPTION, ISO_METADATA, EOP_METADATA, ESA_METADATA"
            ]
          },
          "metadata": {},
          "execution_count": 43
        }
      ]
    },
    {
      "cell_type": "markdown",
      "metadata": {
        "id": "M8Vuz-MUaNbk"
      },
      "source": [
        "#Methane Emission Mapping"
      ]
    },
    {
      "cell_type": "code",
      "metadata": {
        "id": "FGToEEjUszCx",
        "colab": {
          "base_uri": "https://localhost:8080/"
        },
        "outputId": "e71af6cb-6215-4d32-e0f9-11514b14df93"
      },
      "source": [
        "#Saving the latitude data variables\n",
        "lat = data_CH4.groups['PRODUCT'].variables['latitude'][0,:,:]\n",
        "lat"
      ],
      "execution_count": 45,
      "outputs": [
        {
          "output_type": "execute_result",
          "data": {
            "text/plain": [
              "masked_array(\n",
              "  data=[[-83.47905 , -83.61618 , -83.73125 , ..., -68.979385, -68.70049 ,\n",
              "         -68.40619 ],\n",
              "        [-83.44037 , -83.576126, -83.68993 , ..., -68.9657  , -68.687096,\n",
              "         -68.393105],\n",
              "        [-83.40153 , -83.53593 , -83.6485  , ..., -68.95192 , -68.67362 ,\n",
              "         -68.37993 ],\n",
              "        ...,\n",
              "        [ 51.07873 ,  51.209736,  51.332165, ...,  58.136974,  58.190853,\n",
              "          58.245037],\n",
              "        [ 51.0367  ,  51.16749 ,  51.28972 , ...,  58.088825,  58.14278 ,\n",
              "          58.19705 ],\n",
              "        [ 50.99454 ,  51.125122,  51.247154, ...,  58.040657,  58.09469 ,\n",
              "          58.149044]],\n",
              "  mask=False,\n",
              "  fill_value=1e+20,\n",
              "  dtype=float32)"
            ]
          },
          "metadata": {},
          "execution_count": 45
        }
      ]
    },
    {
      "cell_type": "code",
      "metadata": {
        "id": "Nwl_j3Hk17sL",
        "colab": {
          "base_uri": "https://localhost:8080/"
        },
        "outputId": "4f645f23-79bf-48b8-9d3a-54b9b8622977"
      },
      "source": [
        "#Saving the longitude data variables\n",
        "lon = data_CH4.groups['PRODUCT'].variables['longitude'][0,:,:]\n",
        "lon"
      ],
      "execution_count": 46,
      "outputs": [
        {
          "output_type": "execute_result",
          "data": {
            "text/plain": [
              "masked_array(\n",
              "  data=[[ -15.186576 ,  -12.351309 ,   -9.5594425, ...,   94.90847  ,\n",
              "           95.272736 ,   95.6467   ],\n",
              "        [ -14.950391 ,  -12.127095 ,   -9.348828 , ...,   94.77381  ,\n",
              "           95.13957  ,   95.51509  ],\n",
              "        [ -14.717247 ,  -11.905945 ,   -9.141249 , ...,   94.63955  ,\n",
              "           95.0068   ,   95.383865 ],\n",
              "        ...,\n",
              "        [-141.68651  , -142.17426  , -142.6392   , ...,  179.205    ,\n",
              "          178.65309  ,  178.07124  ],\n",
              "        [-141.73051  , -142.21793  , -142.68256  , ...,  179.20392  ,\n",
              "          178.65279  ,  178.07175  ],\n",
              "        [-141.77411  , -142.26123  , -142.72556  , ...,  179.2032   ,\n",
              "          178.65285  ,  178.07263  ]],\n",
              "  mask=False,\n",
              "  fill_value=1e+20,\n",
              "  dtype=float32)"
            ]
          },
          "metadata": {},
          "execution_count": 46
        }
      ]
    },
    {
      "cell_type": "code",
      "metadata": {
        "id": "kEDcvbQO2K_b",
        "outputId": "375d5fab-86f9-4fbd-ce29-5095bd8c6f83",
        "colab": {
          "base_uri": "https://localhost:8080/"
        }
      },
      "source": [
        "#Saving the CH4 data variables\n",
        "CH4= data_CH4.groups['PRODUCT'].variables['methane_mixing_ratio'][0,:,:]\n",
        "# CH4= data_CH4.groups['PRODUCT'].variables['methane_mixing_ratio_precision'][0,:,:]\n",
        "\n",
        "CH4"
      ],
      "execution_count": 47,
      "outputs": [
        {
          "output_type": "execute_result",
          "data": {
            "text/plain": [
              "masked_array(\n",
              "  data=[[--, --, --, ..., --, --, --],\n",
              "        [--, --, --, ..., --, --, --],\n",
              "        [--, --, --, ..., --, --, --],\n",
              "        ...,\n",
              "        [--, --, --, ..., --, --, --],\n",
              "        [--, --, --, ..., --, --, --],\n",
              "        [--, --, --, ..., --, --, --]],\n",
              "  mask=[[ True,  True,  True, ...,  True,  True,  True],\n",
              "        [ True,  True,  True, ...,  True,  True,  True],\n",
              "        [ True,  True,  True, ...,  True,  True,  True],\n",
              "        ...,\n",
              "        [ True,  True,  True, ...,  True,  True,  True],\n",
              "        [ True,  True,  True, ...,  True,  True,  True],\n",
              "        [ True,  True,  True, ...,  True,  True,  True]],\n",
              "  fill_value=9.96921e+36,\n",
              "  dtype=float32)"
            ]
          },
          "metadata": {},
          "execution_count": 47
        }
      ]
    },
    {
      "cell_type": "code",
      "metadata": {
        "id": "TgMzoD-q2ot9",
        "outputId": "27b24eb1-0275-4e74-f7a2-568a3c0e4e3c",
        "colab": {
          "base_uri": "https://localhost:8080/"
        }
      },
      "source": [
        "#Check the details CH4 data variables\n",
        "data_CH4.groups['PRODUCT'].variables['methane_mixing_ratio']\n",
        "# data_CH4.groups['PRODUCT'].variables['methane_mixing_ratio_precision']   # this section will give the error"
      ],
      "execution_count": 48,
      "outputs": [
        {
          "output_type": "execute_result",
          "data": {
            "text/plain": [
              "<class 'netCDF4._netCDF4.Variable'>\n",
              "float32 methane_mixing_ratio(time, scanline, ground_pixel)\n",
              "    units: 1e-9\n",
              "    standard_name: dry_atmosphere_mole_fraction_of_methane\n",
              "    long_name: column averaged dry air mixing ratio of methane\n",
              "    coordinates: longitude latitude\n",
              "    ancillary_variables: methane_mixing_ratio_precision column_averaging_kernel chi_square degreess_of_freedom\n",
              "    _FillValue: 9.96921e+36\n",
              "path = /PRODUCT\n",
              "unlimited dimensions: \n",
              "current shape = (1, 4172, 215)\n",
              "filling on"
            ]
          },
          "metadata": {},
          "execution_count": 48
        }
      ]
    },
    {
      "cell_type": "code",
      "metadata": {
        "id": "S4Lyv5XY29GP",
        "outputId": "37b67cf2-0384-405e-b04a-224c66a96b6b",
        "colab": {
          "base_uri": "https://localhost:8080/"
        }
      },
      "source": [
        "#extract the fill value of CH4 where the TROPOMI couldn't find any data\n",
        "fill_value= data_CH4.groups['PRODUCT'].variables['methane_mixing_ratio']._FillValue\n",
        "fill_value"
      ],
      "execution_count": 49,
      "outputs": [
        {
          "output_type": "execute_result",
          "data": {
            "text/plain": [
              "9.96921e+36"
            ]
          },
          "metadata": {},
          "execution_count": 49
        }
      ]
    },
    {
      "cell_type": "code",
      "metadata": {
        "id": "U1AYcDcq3y4B",
        "outputId": "9a4c98ea-9426-48a4-962f-9ae2264f4801",
        "colab": {
          "base_uri": "https://localhost:8080/"
        }
      },
      "source": [
        "CH4_emission_ratio = np.array(CH4)\n",
        "CH4_emission_ratio"
      ],
      "execution_count": 50,
      "outputs": [
        {
          "output_type": "execute_result",
          "data": {
            "text/plain": [
              "array([[9.96921e+36, 9.96921e+36, 9.96921e+36, ..., 9.96921e+36,\n",
              "        9.96921e+36, 9.96921e+36],\n",
              "       [9.96921e+36, 9.96921e+36, 9.96921e+36, ..., 9.96921e+36,\n",
              "        9.96921e+36, 9.96921e+36],\n",
              "       [9.96921e+36, 9.96921e+36, 9.96921e+36, ..., 9.96921e+36,\n",
              "        9.96921e+36, 9.96921e+36],\n",
              "       ...,\n",
              "       [9.96921e+36, 9.96921e+36, 9.96921e+36, ..., 9.96921e+36,\n",
              "        9.96921e+36, 9.96921e+36],\n",
              "       [9.96921e+36, 9.96921e+36, 9.96921e+36, ..., 9.96921e+36,\n",
              "        9.96921e+36, 9.96921e+36],\n",
              "       [9.96921e+36, 9.96921e+36, 9.96921e+36, ..., 9.96921e+36,\n",
              "        9.96921e+36, 9.96921e+36]], dtype=float32)"
            ]
          },
          "metadata": {},
          "execution_count": 50
        }
      ]
    },
    {
      "cell_type": "code",
      "metadata": {
        "id": "s5dPxWNY5rEg"
      },
      "source": [
        "#Replacing the fill values/missing values by 'nan'\n",
        "CH4_emission_ratio[CH4_emission_ratio==fill_value] = np.nan\n",
        "CH4 = CH4_emission_ratio"
      ],
      "execution_count": 51,
      "outputs": []
    },
    {
      "cell_type": "code",
      "metadata": {
        "id": "Wgsu5WLX6p6c",
        "outputId": "a319f2eb-75ab-40de-81b4-748a90270552",
        "colab": {
          "base_uri": "https://localhost:8080/"
        }
      },
      "source": [
        "CH4_emission_ratio"
      ],
      "execution_count": 52,
      "outputs": [
        {
          "output_type": "execute_result",
          "data": {
            "text/plain": [
              "array([[nan, nan, nan, ..., nan, nan, nan],\n",
              "       [nan, nan, nan, ..., nan, nan, nan],\n",
              "       [nan, nan, nan, ..., nan, nan, nan],\n",
              "       ...,\n",
              "       [nan, nan, nan, ..., nan, nan, nan],\n",
              "       [nan, nan, nan, ..., nan, nan, nan],\n",
              "       [nan, nan, nan, ..., nan, nan, nan]], dtype=float32)"
            ]
          },
          "metadata": {},
          "execution_count": 52
        }
      ]
    },
    {
      "cell_type": "code",
      "metadata": {
        "id": "_j61_3Bu6ssN",
        "outputId": "17b54dae-4ba6-498e-c4f6-e30e5a41335d",
        "colab": {
          "base_uri": "https://localhost:8080/"
        }
      },
      "source": [
        "CH4"
      ],
      "execution_count": 53,
      "outputs": [
        {
          "output_type": "execute_result",
          "data": {
            "text/plain": [
              "array([[nan, nan, nan, ..., nan, nan, nan],\n",
              "       [nan, nan, nan, ..., nan, nan, nan],\n",
              "       [nan, nan, nan, ..., nan, nan, nan],\n",
              "       ...,\n",
              "       [nan, nan, nan, ..., nan, nan, nan],\n",
              "       [nan, nan, nan, ..., nan, nan, nan],\n",
              "       [nan, nan, nan, ..., nan, nan, nan]], dtype=float32)"
            ]
          },
          "metadata": {},
          "execution_count": 53
        }
      ]
    },
    {
      "cell_type": "markdown",
      "source": [
        "*Creating the basemap*"
      ],
      "metadata": {
        "id": "k3KL78VVz1Fo"
      }
    },
    {
      "cell_type": "code",
      "source": [
        "!pip3 install basemap\n",
        "import mpl_toolkits\n",
        "mpl_toolkits.__path__.append('/usr/lib/python2.7/dist-packages/mpl_toolkits/')\n",
        "from mpl_toolkits.basemap import Basemap"
      ],
      "metadata": {
        "colab": {
          "base_uri": "https://localhost:8080/",
          "height": 442
        },
        "id": "bnf6jxqwCrvt",
        "outputId": "9237d98f-331a-4bcd-e92b-bc97bbda3f48"
      },
      "execution_count": 60,
      "outputs": [
        {
          "output_type": "stream",
          "name": "stdout",
          "text": [
            "Looking in indexes: https://pypi.org/simple, https://us-python.pkg.dev/colab-wheels/public/simple/\n",
            "Collecting basemap\n",
            "  Downloading basemap-1.3.4-cp37-cp37m-manylinux1_x86_64.whl (864 kB)\n",
            "\u001b[K     |████████████████████████████████| 864 kB 8.3 MB/s \n",
            "\u001b[?25hRequirement already satisfied: matplotlib<3.6,>=1.5 in /usr/local/lib/python3.7/dist-packages (from basemap) (3.2.2)\n",
            "Collecting basemap-data<1.4,>=1.3.2\n",
            "  Downloading basemap_data-1.3.2-py2.py3-none-any.whl (30.5 MB)\n",
            "\u001b[K     |████████████████████████████████| 30.5 MB 1.9 MB/s \n",
            "\u001b[?25hRequirement already satisfied: numpy<1.22,>=1.21 in /usr/local/lib/python3.7/dist-packages (from basemap) (1.21.6)\n",
            "Requirement already satisfied: pyshp<2.4,>=1.2 in /usr/lib/python3/dist-packages (from basemap) (1.2.12)\n",
            "Requirement already satisfied: pyproj<3.4.0,>=1.9.3 in /usr/local/lib/python3.7/dist-packages (from basemap) (1.9.6)\n",
            "Requirement already satisfied: pyparsing!=2.0.4,!=2.1.2,!=2.1.6,>=2.0.1 in /usr/local/lib/python3.7/dist-packages (from matplotlib<3.6,>=1.5->basemap) (3.0.9)\n",
            "Requirement already satisfied: python-dateutil>=2.1 in /usr/local/lib/python3.7/dist-packages (from matplotlib<3.6,>=1.5->basemap) (2.8.2)\n",
            "Requirement already satisfied: cycler>=0.10 in /usr/local/lib/python3.7/dist-packages (from matplotlib<3.6,>=1.5->basemap) (0.11.0)\n",
            "Requirement already satisfied: kiwisolver>=1.0.1 in /usr/local/lib/python3.7/dist-packages (from matplotlib<3.6,>=1.5->basemap) (1.4.4)\n",
            "Requirement already satisfied: typing-extensions in /usr/local/lib/python3.7/dist-packages (from kiwisolver>=1.0.1->matplotlib<3.6,>=1.5->basemap) (4.1.1)\n",
            "Requirement already satisfied: six>=1.5 in /usr/local/lib/python3.7/dist-packages (from python-dateutil>=2.1->matplotlib<3.6,>=1.5->basemap) (1.15.0)\n",
            "Installing collected packages: basemap-data, basemap\n",
            "Successfully installed basemap-1.3.4 basemap-data-1.3.2\n"
          ]
        },
        {
          "output_type": "display_data",
          "data": {
            "application/vnd.colab-display-data+json": {
              "pip_warning": {
                "packages": [
                  "mpl_toolkits"
                ]
              }
            }
          },
          "metadata": {}
        }
      ]
    },
    {
      "cell_type": "code",
      "metadata": {
        "id": "7yUaEqGp6uY3"
      },
      "source": [
        "#creating the basemap\n",
        "map = Basemap(projection='cyl', resolution='i',\n",
        "              llcrnrlat=-89.950966,\n",
        "              urcrnrlat= 89.95056,\n",
        "              llcrnrlon=-179.99997,              \n",
        "              urcrnrlon=179.9994)\n",
        "\n",
        "# geospatial_lat_min: -89.950966\n",
        "#     geospatial_lat_max: 89.95056\n",
        "#     geospatial_lon_min: 179.9994\n",
        "#     geospatial_lon_max: -179.99997\n",
        "\n"
      ],
      "execution_count": 61,
      "outputs": []
    },
    {
      "cell_type": "code",
      "metadata": {
        "id": "j3K6MFDr_Ni7",
        "outputId": "54d1eb74-ec01-4675-88c2-815f7bdec6c2",
        "colab": {
          "base_uri": "https://localhost:8080/",
          "height": 435
        }
      },
      "source": [
        "map.drawcoastlines(linewidth=1)\n",
        "map.drawcountries(linewidth=1)\n",
        "map.drawcounties(linewidth=1)\n",
        "map.drawstates(linewidth=1)\n",
        "map.drawrivers(linewidth=0.5,linestyle='solid',color='b')\n",
        "cmap= plt.cm.get_cmap('jet') #Colormap plotting\n",
        "cmap.set_under('w')\n",
        "map.pcolormesh(lon,lat,CH4, latlon =True,vmin=0, vmax =200,cmap=cmap)\n",
        "color_bar=map.colorbar()\n",
        "color_bar.set_label('CH4 ratio in 1e-9')\n",
        "plt.autoscale\n",
        "axes = plt.gca()\n",
        "axes.set_xlim([-11.134644,-5.751343]) ## Zoomed in to get Dublin's view\n",
        "axes.set_ylim([51.237847,54.822843]) ## Zoomed in to get Dublin's view\n",
        "plt.title('Methane emission ratio over Dublin on 05 Aug 2020')\n",
        "fig=plt.gcf()\n",
        "fig.set_size_inches(11,11)\n",
        "fig.savefig('CH4_emission_Dublin_05Aug2020.png')\n",
        "plt.show()"
      ],
      "execution_count": 69,
      "outputs": [
        {
          "output_type": "display_data",
          "data": {
            "text/plain": [
              "<Figure size 792x792 with 2 Axes>"
            ],
            "image/png": "[encoded data removed]"
          },
          "metadata": {
            "needs_background": "light"
          }
        }
      ]
    },
    {
      "cell_type": "markdown",
      "metadata": {
        "id": "tGyBQaZ6cK--"
      },
      "source": [
        "#Nitrogen Dioxide Emission Mapping"
      ]
    },
    {
      "cell_type": "code",
      "metadata": {
        "id": "nNyoc8ExcaXg",
        "colab": {
          "base_uri": "https://localhost:8080/"
        },
        "outputId": "8aea9efd-30ee-4f6e-9129-9b79beff9fea"
      },
      "source": [
        "#Saving the latitude data variables\n",
        "lat = data_NO2.groups['PRODUCT'].variables['latitude'][0,:,:]\n",
        "lat"
      ],
      "execution_count": 74,
      "outputs": [
        {
          "output_type": "execute_result",
          "data": {
            "text/plain": [
              "masked_array(\n",
              "  data=[[-77.86783 , -77.88006 , -77.89151 , ..., -65.82603 , -65.75958 ,\n",
              "         -65.69211 ],\n",
              "        [-77.822716, -77.834816, -77.846146, ..., -65.80113 , -65.73478 ,\n",
              "         -65.667404],\n",
              "        [-77.77756 , -77.78954 , -77.80075 , ..., -65.77624 , -65.70998 ,\n",
              "         -65.64269 ],\n",
              "        ...,\n",
              "        [ 45.40406 ,  45.43367 ,  45.46277 , ...,  51.974426,  51.988464,\n",
              "          52.002552],\n",
              "        [ 45.360004,  45.389572,  45.418625, ...,  51.926327,  51.940388,\n",
              "          51.954494],\n",
              "        [ 45.315937,  45.34546 ,  45.374474, ...,  51.878242,  51.89232 ,\n",
              "          51.906445]],\n",
              "  mask=False,\n",
              "  fill_value=1e+20,\n",
              "  dtype=float32)"
            ]
          },
          "metadata": {},
          "execution_count": 74
        }
      ]
    },
    {
      "cell_type": "code",
      "metadata": {
        "id": "dUAqDcxbcaXx",
        "colab": {
          "base_uri": "https://localhost:8080/"
        },
        "outputId": "24e7b15e-f2be-486b-c572-67e0a6e6133d"
      },
      "source": [
        "#Saving the longitude data variables\n",
        "lon = data_NO2.groups['PRODUCT'].variables['longitude'][0,:,:]\n",
        "lon"
      ],
      "execution_count": 75,
      "outputs": [
        {
          "output_type": "execute_result",
          "data": {
            "text/plain": [
              "masked_array(\n",
              "  data=[[ -24.596077,  -24.178871,  -23.766748, ...,   54.810326,\n",
              "           54.936417,   55.06359 ],\n",
              "        [ -24.531023,  -24.115273,  -23.7046  , ...,   54.70414 ,\n",
              "           54.830395,   54.957737],\n",
              "        [ -24.46699 ,  -24.052677,  -23.643438, ...,   54.59804 ,\n",
              "           54.724457,   54.85196 ],\n",
              "        ...,\n",
              "        [-172.11218 , -172.22537 , -172.33711 , ...,  152.36063 ,\n",
              "          152.23177 ,  152.1011  ],\n",
              "        [-172.14668 , -172.2598  , -172.37148 , ...,  152.35876 ,\n",
              "          152.23006 ,  152.09953 ],\n",
              "        [-172.18105 , -172.2941  , -172.40572 , ...,  152.3569  ,\n",
              "          152.22833 ,  152.09796 ]],\n",
              "  mask=False,\n",
              "  fill_value=1e+20,\n",
              "  dtype=float32)"
            ]
          },
          "metadata": {},
          "execution_count": 75
        }
      ]
    },
    {
      "cell_type": "code",
      "source": [
        "data_NO2.groups['PRODUCT'].variables.keys()"
      ],
      "metadata": {
        "colab": {
          "base_uri": "https://localhost:8080/"
        },
        "id": "mssQPfNEFggP",
        "outputId": "bb489ce9-c61a-4981-c54c-a44c92382d8e"
      },
      "execution_count": 76,
      "outputs": [
        {
          "output_type": "execute_result",
          "data": {
            "text/plain": [
              "dict_keys(['scanline', 'ground_pixel', 'time', 'corner', 'polynomial_exponents', 'intensity_offset_polynomial_exponents', 'layer', 'vertices', 'latitude', 'longitude', 'delta_time', 'time_utc', 'qa_value', 'nitrogendioxide_tropospheric_column', 'nitrogendioxide_tropospheric_column_precision', 'nitrogendioxide_tropospheric_column_precision_kernel', 'averaging_kernel', 'air_mass_factor_troposphere', 'air_mass_factor_total', 'tm5_tropopause_layer_index', 'tm5_constant_a', 'tm5_constant_b'])"
            ]
          },
          "metadata": {},
          "execution_count": 76
        }
      ]
    },
    {
      "cell_type": "code",
      "source": [
        "data_NO2.groups['METADATA'].variables.keys()"
      ],
      "metadata": {
        "colab": {
          "base_uri": "https://localhost:8080/"
        },
        "id": "9lizFGdbHUcO",
        "outputId": "b721ac22-71d2-4487-bb36-14db75362a19"
      },
      "execution_count": 92,
      "outputs": [
        {
          "output_type": "execute_result",
          "data": {
            "text/plain": [
              "dict_keys([])"
            ]
          },
          "metadata": {},
          "execution_count": 92
        }
      ]
    },
    {
      "cell_type": "code",
      "metadata": {
        "id": "xFIOkq5vcaX_",
        "outputId": "99908bb1-c983-42d4-8524-b7b56183fcdd",
        "colab": {
          "base_uri": "https://localhost:8080/"
        }
      },
      "source": [
        "#Saving the NO2 data variables\n",
        "NO2=data_NO2.groups['PRODUCT'].variables['nitrogendioxide_tropospheric_column'][0,:,:]\n",
        "NO2\n"
      ],
      "execution_count": 77,
      "outputs": [
        {
          "output_type": "execute_result",
          "data": {
            "text/plain": [
              "masked_array(\n",
              "  data=[[--, --, --, ..., --, --, --],\n",
              "        [--, --, --, ..., --, --, --],\n",
              "        [--, --, --, ..., --, --, --],\n",
              "        ...,\n",
              "        [--, --, --, ..., --, --, --],\n",
              "        [--, --, --, ..., --, --, --],\n",
              "        [--, --, --, ..., --, --, --]],\n",
              "  mask=[[ True,  True,  True, ...,  True,  True,  True],\n",
              "        [ True,  True,  True, ...,  True,  True,  True],\n",
              "        [ True,  True,  True, ...,  True,  True,  True],\n",
              "        ...,\n",
              "        [ True,  True,  True, ...,  True,  True,  True],\n",
              "        [ True,  True,  True, ...,  True,  True,  True],\n",
              "        [ True,  True,  True, ...,  True,  True,  True]],\n",
              "  fill_value=9.96921e+36,\n",
              "  dtype=float32)"
            ]
          },
          "metadata": {},
          "execution_count": 77
        }
      ]
    },
    {
      "cell_type": "code",
      "metadata": {
        "id": "R_tEhtmPcaYG",
        "outputId": "ea0605d8-d6ab-4164-9d77-d8ee465739da",
        "colab": {
          "base_uri": "https://localhost:8080/"
        }
      },
      "source": [
        "#Check the details NO2 data variables\n",
        "data_NO2.groups['PRODUCT'].variables['nitrogendioxide_tropospheric_column']"
      ],
      "execution_count": 78,
      "outputs": [
        {
          "output_type": "execute_result",
          "data": {
            "text/plain": [
              "<class 'netCDF4._netCDF4.Variable'>\n",
              "float32 nitrogendioxide_tropospheric_column(time, scanline, ground_pixel)\n",
              "    units: mol m-2\n",
              "    standard_name: troposphere_mole_content_of_nitrogen_dioxide\n",
              "    long_name: Tropospheric vertical column of nitrogen dioxide\n",
              "    coordinates: longitude latitude\n",
              "    ancillary_variables: nitrogendioxide_tropospheric_column_precision air_mass_factor_troposphere air_mass_factor_total averaging_kernel\n",
              "    multiplication_factor_to_convert_to_molecules_percm2: 6.02214e+19\n",
              "    _FillValue: 9.96921e+36\n",
              "path = /PRODUCT\n",
              "unlimited dimensions: \n",
              "current shape = (1, 4173, 450)\n",
              "filling on"
            ]
          },
          "metadata": {},
          "execution_count": 78
        }
      ]
    },
    {
      "cell_type": "code",
      "metadata": {
        "id": "8nDBZmCxcaYN",
        "outputId": "7d6985e6-ad02-47f9-814a-e784d5d35649",
        "colab": {
          "base_uri": "https://localhost:8080/"
        }
      },
      "source": [
        "#extract the fill value of NO2 where the TROPOMI couldn't find any data\n",
        "fill_value= data_NO2.groups['PRODUCT'].variables['nitrogendioxide_tropospheric_column']._FillValue\n",
        "fill_val = fill_value*1000000\n",
        "fill_val"
      ],
      "execution_count": 79,
      "outputs": [
        {
          "output_type": "execute_result",
          "data": {
            "text/plain": [
              "9.969209968386869e+42"
            ]
          },
          "metadata": {},
          "execution_count": 79
        }
      ]
    },
    {
      "cell_type": "code",
      "metadata": {
        "id": "qaP0vOPocaYR",
        "outputId": "9e0de263-bf95-4c7c-c374-2d2c22e518dd",
        "colab": {
          "base_uri": "https://localhost:8080/"
        }
      },
      "source": [
        "NO2_emission = np.array(NO2)*1000000\n",
        "NO2_emission"
      ],
      "execution_count": 80,
      "outputs": [
        {
          "output_type": "execute_result",
          "data": {
            "text/plain": [
              "array([[9.96920997e+42, 9.96920997e+42, 9.96920997e+42, ...,\n",
              "        9.96920997e+42, 9.96920997e+42, 9.96920997e+42],\n",
              "       [9.96920997e+42, 9.96920997e+42, 9.96920997e+42, ...,\n",
              "        9.96920997e+42, 9.96920997e+42, 9.96920997e+42],\n",
              "       [9.96920997e+42, 9.96920997e+42, 9.96920997e+42, ...,\n",
              "        9.96920997e+42, 9.96920997e+42, 9.96920997e+42],\n",
              "       ...,\n",
              "       [9.96920997e+42, 9.96920997e+42, 9.96920997e+42, ...,\n",
              "        9.96920997e+42, 9.96920997e+42, 9.96920997e+42],\n",
              "       [9.96920997e+42, 9.96920997e+42, 9.96920997e+42, ...,\n",
              "        9.96920997e+42, 9.96920997e+42, 9.96920997e+42],\n",
              "       [9.96920997e+42, 9.96920997e+42, 9.96920997e+42, ...,\n",
              "        9.96920997e+42, 9.96920997e+42, 9.96920997e+42]])"
            ]
          },
          "metadata": {},
          "execution_count": 80
        }
      ]
    },
    {
      "cell_type": "code",
      "metadata": {
        "id": "CLq21KvKcaYV"
      },
      "source": [
        "#Replacing the fill values/missing values by 'nan'\n",
        "NO2_emission[NO2_emission==fill_val] = np.nan\n",
        "NO2 = NO2_emission"
      ],
      "execution_count": 81,
      "outputs": []
    },
    {
      "cell_type": "code",
      "metadata": {
        "id": "H_G-LQWucaYY",
        "outputId": "49b902fc-df5a-4adb-96d5-ef4497063c54",
        "colab": {
          "base_uri": "https://localhost:8080/"
        }
      },
      "source": [
        "NO2_emission"
      ],
      "execution_count": 82,
      "outputs": [
        {
          "output_type": "execute_result",
          "data": {
            "text/plain": [
              "array([[nan, nan, nan, ..., nan, nan, nan],\n",
              "       [nan, nan, nan, ..., nan, nan, nan],\n",
              "       [nan, nan, nan, ..., nan, nan, nan],\n",
              "       ...,\n",
              "       [nan, nan, nan, ..., nan, nan, nan],\n",
              "       [nan, nan, nan, ..., nan, nan, nan],\n",
              "       [nan, nan, nan, ..., nan, nan, nan]])"
            ]
          },
          "metadata": {},
          "execution_count": 82
        }
      ]
    },
    {
      "cell_type": "code",
      "metadata": {
        "id": "G4wlPe32caYd",
        "outputId": "51a32acd-af19-4b57-c02c-0fbcf96cf023",
        "colab": {
          "base_uri": "https://localhost:8080/"
        }
      },
      "source": [
        "NO2"
      ],
      "execution_count": 83,
      "outputs": [
        {
          "output_type": "execute_result",
          "data": {
            "text/plain": [
              "array([[nan, nan, nan, ..., nan, nan, nan],\n",
              "       [nan, nan, nan, ..., nan, nan, nan],\n",
              "       [nan, nan, nan, ..., nan, nan, nan],\n",
              "       ...,\n",
              "       [nan, nan, nan, ..., nan, nan, nan],\n",
              "       [nan, nan, nan, ..., nan, nan, nan],\n",
              "       [nan, nan, nan, ..., nan, nan, nan]])"
            ]
          },
          "metadata": {},
          "execution_count": 83
        }
      ]
    },
    {
      "cell_type": "markdown",
      "source": [
        "*Creating the basemap*"
      ],
      "metadata": {
        "id": "BHWOm8Rl14Xf"
      }
    },
    {
      "cell_type": "code",
      "metadata": {
        "id": "8Hmmv999caYf"
      },
      "source": [
        "#creating the basemap\n",
        "map = Basemap(projection='cyl', resolution='i',\n",
        "              llcrnrlat=-89.948746,\n",
        "              urcrnrlat= 89.94791,\n",
        "              llcrnrlon=-179.99532,              \n",
        "              urcrnrlon=179.99948 )\n",
        "# geospatial_lat_min: -89.948746\n",
        "#     geospatial_lat_max: 89.94791\n",
        "#     geospatial_lon_min: 179.99948\n",
        "#     geospatial_lon_max: -179.99532"
      ],
      "execution_count": 84,
      "outputs": []
    },
    {
      "cell_type": "code",
      "metadata": {
        "id": "udh70ZancaYi",
        "outputId": "d24b77ca-28c7-4eba-ac30-37a8d794dd77",
        "colab": {
          "base_uri": "https://localhost:8080/",
          "height": 340
        }
      },
      "source": [
        "map.drawcoastlines(linewidth=1)\n",
        "map.drawcountries(linewidth=1)\n",
        "map.drawcounties(linewidth=1)\n",
        "map.drawstates(linewidth=1)\n",
        "map.drawrivers(linewidth=0.5,linestyle='solid',color='b')\n",
        "cmap= plt.cm.get_cmap('jet') #Colormap plotting\n",
        "cmap.set_under('w')\n",
        "map.pcolormesh(lon,lat,NO2, latlon =True,vmin=0, vmax=500,cmap=cmap)\n",
        "color_bar=map.colorbar()\n",
        "color_bar.set_label('Tropospheric vertical column of NO2(mol m-2)')\n",
        "plt.autoscale\n",
        "axes = plt.gca()\n",
        "plt.title('Nitrogen Dioxide emission ratio on 04 Jul 2020')\n",
        "fig=plt.gcf()\n",
        "fig.set_size_inches(11,8)\n",
        "fig.savefig('NO2_emission_04072020.png')\n",
        "plt.show()\n"
      ],
      "execution_count": 87,
      "outputs": [
        {
          "output_type": "display_data",
          "data": {
            "text/plain": [
              "<Figure size 792x576 with 2 Axes>"
            ],
            "image/png": "[encoded data removed]"
          },
          "metadata": {
            "needs_background": "light"
          }
        }
      ]
    },
    {
      "cell_type": "code",
      "metadata": {
        "id": "uaBJKT62fDcm",
        "outputId": "05bb78fb-4a5c-4ad9-b336-18b84377e240",
        "colab": {
          "base_uri": "https://localhost:8080/",
          "height": 325
        }
      },
      "source": [
        "#For Closer view\n",
        "\n",
        "map.drawcoastlines(linewidth=1)\n",
        "map.drawcountries(linewidth=1)\n",
        "map.drawcounties(linewidth=1)\n",
        "map.drawstates(linewidth=1)\n",
        "map.drawrivers(linewidth=0.5,linestyle='solid',color='b')\n",
        "cmap= plt.cm.get_cmap('jet') #Colormap plotting\n",
        "cmap.set_under('w')\n",
        "map.pcolormesh(lon,lat,NO2, latlon =True,vmin=0, vmax=1,cmap=cmap)\n",
        "color_bar=map.colorbar()\n",
        "color_bar.set_label('Tropospheric vertical column of NO2(micro mol m-2)')\n",
        "plt.autoscale\n",
        "axes = plt.gca()\n",
        "axes.set_xlim([-11.134644,-5.751343]) ## Zoomed in to get Dublin's view\n",
        "axes.set_ylim([51.237847,54.822843]) ## Zoomed in to get Dublin's view\n",
        "plt.title('Nitrogen Dioxide emission over Ireland on 04 Jul 2020')\n",
        "fig=plt.gcf()\n",
        "fig.set_size_inches(11,5)\n",
        "fig.savefig('NO2_emission_Ireland_04Jul2020.png')\n",
        "plt.show()"
      ],
      "execution_count": 91,
      "outputs": [
        {
          "output_type": "display_data",
          "data": {
            "text/plain": [
              "<Figure size 792x360 with 2 Axes>"
            ],
            "image/png": "[encoded data removed]"
          },
          "metadata": {
            "needs_background": "light"
          }
        }
      ]
    },
    {
      "cell_type": "code",
      "metadata": {
        "id": "HXi7j-zehQrH"
      },
      "source": [],
      "execution_count": null,
      "outputs": []
    }
  ]
}